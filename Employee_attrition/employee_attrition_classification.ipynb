{
 "cells": [
  {
   "cell_type": "markdown",
   "metadata": {},
   "source": [
    "# Employee attrition\n",
    "Dataset source: https://github.com/mrMichalR/Classification/blob/main/df2.csv"
   ]
  },
  {
   "cell_type": "code",
   "execution_count": 777,
   "metadata": {},
   "outputs": [],
   "source": [
    "# !pip install sklearn\n",
    "# !pip install plotnine\n",
    "# !pip install plotly\n",
    "# !pip install seaborn"
   ]
  },
  {
   "cell_type": "markdown",
   "metadata": {},
   "source": [
    "# Import libraries"
   ]
  },
  {
   "cell_type": "code",
   "execution_count": 778,
   "metadata": {
    "id": "d5NlhGiMYB9y"
   },
   "outputs": [],
   "source": [
    "import pandas as pd\n",
    "import numpy as np\n",
    "import matplotlib.pyplot as plt\n",
    "import seaborn as sns\n",
    "import scipy\n",
    "import plotly.express as px\n",
    "#import statsmodels.formula.api as smf\n",
    "#import statsmodels.api as sm## for machine learning\n",
    "from numpy import mean\n",
    "from numpy import std\n",
    "\n",
    "from sklearn.model_selection import train_test_split, GridSearchCV\n",
    "from sklearn.naive_bayes import MultinomialNB, GaussianNB\n",
    "from sklearn.preprocessing import StandardScaler, PowerTransformer, MinMaxScaler, LabelEncoder\n",
    "from sklearn import model_selection, preprocessing, feature_selection, ensemble, linear_model, metrics, decomposition## for explainer\n",
    "from sklearn.metrics import RocCurveDisplay, accuracy_score, precision_score, recall_score, f1_score, roc_auc_score, roc_curve, balanced_accuracy_score, confusion_matrix, classification_report\n",
    "from sklearn.svm import SVC\n",
    "from sklearn.ensemble import AdaBoostClassifier, RandomForestClassifier\n",
    "from sklearn.neighbors import KNeighborsClassifier, LocalOutlierFactor\n",
    "from sklearn.linear_model import LogisticRegression, LinearRegression\n",
    "\n",
    "\n",
    "from pandas.api.types import CategoricalDtype\n",
    "from plotnine import *\n",
    "from sklearn.experimental import enable_iterative_imputer\n",
    "from sklearn.impute import IterativeImputer, SimpleImputer\n",
    "from sklearn.discriminant_analysis import LinearDiscriminantAnalysis\n",
    "from sklearn.tree import DecisionTreeClassifier\n",
    "# from sklearn.model_selection import GridSearchCV\n",
    "from sklearn.model_selection import KFold\n",
    "from sklearn.model_selection import cross_val_score\n",
    "from sklearn.model_selection import RepeatedStratifiedKFold\n",
    "from sklearn.pipeline import Pipeline\n",
    "from sklearn.feature_selection import VarianceThreshold"
   ]
  },
  {
   "cell_type": "markdown",
   "metadata": {},
   "source": [
    "# EDA"
   ]
  },
  {
   "cell_type": "code",
   "execution_count": 779,
   "metadata": {
    "colab": {
     "base_uri": "https://localhost:8080/",
     "height": 364
    },
    "executionInfo": {
     "elapsed": 6,
     "status": "ok",
     "timestamp": 1657217673165,
     "user": {
      "displayName": "Michał Robak",
      "userId": "05065528628029117432"
     },
     "user_tz": -120
    },
    "id": "oPQM4wQ_ZkLA",
    "outputId": "eb58b8a7-9726-4457-b7f5-8dab19b61326",
    "scrolled": false
   },
   "outputs": [],
   "source": [
    "data_df = pd.read_csv('df2.csv')"
   ]
  },
  {
   "cell_type": "code",
   "execution_count": 780,
   "metadata": {},
   "outputs": [
    {
     "data": {
      "text/html": [
       "<div>\n",
       "<style scoped>\n",
       "    .dataframe tbody tr th:only-of-type {\n",
       "        vertical-align: middle;\n",
       "    }\n",
       "\n",
       "    .dataframe tbody tr th {\n",
       "        vertical-align: top;\n",
       "    }\n",
       "\n",
       "    .dataframe thead th {\n",
       "        text-align: right;\n",
       "    }\n",
       "</style>\n",
       "<table border=\"1\" class=\"dataframe\">\n",
       "  <thead>\n",
       "    <tr style=\"text-align: right;\">\n",
       "      <th></th>\n",
       "      <th>EmployeeNumber</th>\n",
       "      <th>Over18</th>\n",
       "      <th>OverTime</th>\n",
       "      <th>PercentSalaryHike</th>\n",
       "      <th>PerformanceRating</th>\n",
       "      <th>RelationshipSatisfaction</th>\n",
       "      <th>StandardHours</th>\n",
       "      <th>StockOptionLevel</th>\n",
       "      <th>TotalWorkingYears</th>\n",
       "      <th>TrainingTimesLastYear</th>\n",
       "      <th>WorkLifeBalance</th>\n",
       "      <th>YearsAtCompany</th>\n",
       "      <th>YearsInCurrentRole</th>\n",
       "      <th>YearsSinceLastPromotion</th>\n",
       "      <th>YearsWithCurrManager</th>\n",
       "      <th>Attrition</th>\n",
       "      <th>YearlyIncome</th>\n",
       "    </tr>\n",
       "  </thead>\n",
       "  <tbody>\n",
       "    <tr>\n",
       "      <th>0</th>\n",
       "      <td>104</td>\n",
       "      <td>Y</td>\n",
       "      <td>Yes</td>\n",
       "      <td>12.0</td>\n",
       "      <td>3.0</td>\n",
       "      <td>3.0</td>\n",
       "      <td>80.0</td>\n",
       "      <td>2.0</td>\n",
       "      <td>10.0</td>\n",
       "      <td>1.0</td>\n",
       "      <td>2.0</td>\n",
       "      <td>10.0</td>\n",
       "      <td>8.0</td>\n",
       "      <td>3.0</td>\n",
       "      <td>0.0</td>\n",
       "      <td>No</td>\n",
       "      <td>61512.0</td>\n",
       "    </tr>\n",
       "    <tr>\n",
       "      <th>1</th>\n",
       "      <td>1638</td>\n",
       "      <td>Y</td>\n",
       "      <td>Yes</td>\n",
       "      <td>19.0</td>\n",
       "      <td>3.0</td>\n",
       "      <td>4.0</td>\n",
       "      <td>80.0</td>\n",
       "      <td>1.0</td>\n",
       "      <td>10.0</td>\n",
       "      <td>6.0</td>\n",
       "      <td>4.0</td>\n",
       "      <td>5.0</td>\n",
       "      <td>4.0</td>\n",
       "      <td>0.0</td>\n",
       "      <td>2.0</td>\n",
       "      <td>No</td>\n",
       "      <td>93072.0</td>\n",
       "    </tr>\n",
       "    <tr>\n",
       "      <th>2</th>\n",
       "      <td>164</td>\n",
       "      <td>Y</td>\n",
       "      <td>No</td>\n",
       "      <td>19.0</td>\n",
       "      <td>3.0</td>\n",
       "      <td>3.0</td>\n",
       "      <td>80.0</td>\n",
       "      <td>0.0</td>\n",
       "      <td>5.0</td>\n",
       "      <td>3.0</td>\n",
       "      <td>2.0</td>\n",
       "      <td>5.0</td>\n",
       "      <td>4.0</td>\n",
       "      <td>4.0</td>\n",
       "      <td>3.0</td>\n",
       "      <td>No</td>\n",
       "      <td>28416.0</td>\n",
       "    </tr>\n",
       "    <tr>\n",
       "      <th>3</th>\n",
       "      <td>395</td>\n",
       "      <td>Y</td>\n",
       "      <td>No</td>\n",
       "      <td>21.0</td>\n",
       "      <td>4.0</td>\n",
       "      <td>4.0</td>\n",
       "      <td>80.0</td>\n",
       "      <td>0.0</td>\n",
       "      <td>5.0</td>\n",
       "      <td>3.0</td>\n",
       "      <td>3.0</td>\n",
       "      <td>5.0</td>\n",
       "      <td>3.0</td>\n",
       "      <td>0.0</td>\n",
       "      <td>2.0</td>\n",
       "      <td>No</td>\n",
       "      <td>39720.0</td>\n",
       "    </tr>\n",
       "    <tr>\n",
       "      <th>4</th>\n",
       "      <td>53</td>\n",
       "      <td>Y</td>\n",
       "      <td>No</td>\n",
       "      <td>12.0</td>\n",
       "      <td>3.0</td>\n",
       "      <td>3.0</td>\n",
       "      <td>80.0</td>\n",
       "      <td>1.0</td>\n",
       "      <td>1.0</td>\n",
       "      <td>3.0</td>\n",
       "      <td>3.0</td>\n",
       "      <td>1.0</td>\n",
       "      <td>0.0</td>\n",
       "      <td>0.0</td>\n",
       "      <td>0.0</td>\n",
       "      <td>No</td>\n",
       "      <td>23412.0</td>\n",
       "    </tr>\n",
       "    <tr>\n",
       "      <th>...</th>\n",
       "      <td>...</td>\n",
       "      <td>...</td>\n",
       "      <td>...</td>\n",
       "      <td>...</td>\n",
       "      <td>...</td>\n",
       "      <td>...</td>\n",
       "      <td>...</td>\n",
       "      <td>...</td>\n",
       "      <td>...</td>\n",
       "      <td>...</td>\n",
       "      <td>...</td>\n",
       "      <td>...</td>\n",
       "      <td>...</td>\n",
       "      <td>...</td>\n",
       "      <td>...</td>\n",
       "      <td>...</td>\n",
       "      <td>...</td>\n",
       "    </tr>\n",
       "    <tr>\n",
       "      <th>4444</th>\n",
       "      <td>7975</td>\n",
       "      <td>Y</td>\n",
       "      <td>No</td>\n",
       "      <td>11.0</td>\n",
       "      <td>3.0</td>\n",
       "      <td>4.0</td>\n",
       "      <td>80.0</td>\n",
       "      <td>1.0</td>\n",
       "      <td>10.0</td>\n",
       "      <td>2.0</td>\n",
       "      <td>3.0</td>\n",
       "      <td>10.0</td>\n",
       "      <td>7.0</td>\n",
       "      <td>0.0</td>\n",
       "      <td>5.0</td>\n",
       "      <td>Yes</td>\n",
       "      <td>95736.0</td>\n",
       "    </tr>\n",
       "    <tr>\n",
       "      <th>4445</th>\n",
       "      <td>7976</td>\n",
       "      <td>Y</td>\n",
       "      <td>No</td>\n",
       "      <td>11.0</td>\n",
       "      <td>3.0</td>\n",
       "      <td>4.0</td>\n",
       "      <td>80.0</td>\n",
       "      <td>1.0</td>\n",
       "      <td>10.0</td>\n",
       "      <td>2.0</td>\n",
       "      <td>3.0</td>\n",
       "      <td>10.0</td>\n",
       "      <td>7.0</td>\n",
       "      <td>0.0</td>\n",
       "      <td>5.0</td>\n",
       "      <td>Yes</td>\n",
       "      <td>95736.0</td>\n",
       "    </tr>\n",
       "    <tr>\n",
       "      <th>4446</th>\n",
       "      <td>7977</td>\n",
       "      <td>Y</td>\n",
       "      <td>No</td>\n",
       "      <td>14.0</td>\n",
       "      <td>3.0</td>\n",
       "      <td>3.0</td>\n",
       "      <td>80.0</td>\n",
       "      <td>0.0</td>\n",
       "      <td>9.0</td>\n",
       "      <td>5.0</td>\n",
       "      <td>3.0</td>\n",
       "      <td>5.0</td>\n",
       "      <td>2.0</td>\n",
       "      <td>1.0</td>\n",
       "      <td>4.0</td>\n",
       "      <td>Yes</td>\n",
       "      <td>44496.0</td>\n",
       "    </tr>\n",
       "    <tr>\n",
       "      <th>4447</th>\n",
       "      <td>7978</td>\n",
       "      <td>Y</td>\n",
       "      <td>No</td>\n",
       "      <td>14.0</td>\n",
       "      <td>3.0</td>\n",
       "      <td>3.0</td>\n",
       "      <td>80.0</td>\n",
       "      <td>0.0</td>\n",
       "      <td>9.0</td>\n",
       "      <td>5.0</td>\n",
       "      <td>3.0</td>\n",
       "      <td>5.0</td>\n",
       "      <td>2.0</td>\n",
       "      <td>1.0</td>\n",
       "      <td>4.0</td>\n",
       "      <td>Yes</td>\n",
       "      <td>44496.0</td>\n",
       "    </tr>\n",
       "    <tr>\n",
       "      <th>4448</th>\n",
       "      <td>7979</td>\n",
       "      <td>Y</td>\n",
       "      <td>No</td>\n",
       "      <td>14.0</td>\n",
       "      <td>3.0</td>\n",
       "      <td>3.0</td>\n",
       "      <td>80.0</td>\n",
       "      <td>0.0</td>\n",
       "      <td>9.0</td>\n",
       "      <td>5.0</td>\n",
       "      <td>3.0</td>\n",
       "      <td>5.0</td>\n",
       "      <td>2.0</td>\n",
       "      <td>1.0</td>\n",
       "      <td>4.0</td>\n",
       "      <td>Yes</td>\n",
       "      <td>44496.0</td>\n",
       "    </tr>\n",
       "  </tbody>\n",
       "</table>\n",
       "<p>4449 rows × 17 columns</p>\n",
       "</div>"
      ],
      "text/plain": [
       "      EmployeeNumber Over18 OverTime  PercentSalaryHike  PerformanceRating  \\\n",
       "0                104      Y      Yes               12.0                3.0   \n",
       "1               1638      Y      Yes               19.0                3.0   \n",
       "2                164      Y       No               19.0                3.0   \n",
       "3                395      Y       No               21.0                4.0   \n",
       "4                 53      Y       No               12.0                3.0   \n",
       "...              ...    ...      ...                ...                ...   \n",
       "4444            7975      Y       No               11.0                3.0   \n",
       "4445            7976      Y       No               11.0                3.0   \n",
       "4446            7977      Y       No               14.0                3.0   \n",
       "4447            7978      Y       No               14.0                3.0   \n",
       "4448            7979      Y       No               14.0                3.0   \n",
       "\n",
       "      RelationshipSatisfaction  StandardHours  StockOptionLevel  \\\n",
       "0                          3.0           80.0               2.0   \n",
       "1                          4.0           80.0               1.0   \n",
       "2                          3.0           80.0               0.0   \n",
       "3                          4.0           80.0               0.0   \n",
       "4                          3.0           80.0               1.0   \n",
       "...                        ...            ...               ...   \n",
       "4444                       4.0           80.0               1.0   \n",
       "4445                       4.0           80.0               1.0   \n",
       "4446                       3.0           80.0               0.0   \n",
       "4447                       3.0           80.0               0.0   \n",
       "4448                       3.0           80.0               0.0   \n",
       "\n",
       "      TotalWorkingYears  TrainingTimesLastYear  WorkLifeBalance  \\\n",
       "0                  10.0                    1.0              2.0   \n",
       "1                  10.0                    6.0              4.0   \n",
       "2                   5.0                    3.0              2.0   \n",
       "3                   5.0                    3.0              3.0   \n",
       "4                   1.0                    3.0              3.0   \n",
       "...                 ...                    ...              ...   \n",
       "4444               10.0                    2.0              3.0   \n",
       "4445               10.0                    2.0              3.0   \n",
       "4446                9.0                    5.0              3.0   \n",
       "4447                9.0                    5.0              3.0   \n",
       "4448                9.0                    5.0              3.0   \n",
       "\n",
       "      YearsAtCompany  YearsInCurrentRole  YearsSinceLastPromotion  \\\n",
       "0               10.0                 8.0                      3.0   \n",
       "1                5.0                 4.0                      0.0   \n",
       "2                5.0                 4.0                      4.0   \n",
       "3                5.0                 3.0                      0.0   \n",
       "4                1.0                 0.0                      0.0   \n",
       "...              ...                 ...                      ...   \n",
       "4444            10.0                 7.0                      0.0   \n",
       "4445            10.0                 7.0                      0.0   \n",
       "4446             5.0                 2.0                      1.0   \n",
       "4447             5.0                 2.0                      1.0   \n",
       "4448             5.0                 2.0                      1.0   \n",
       "\n",
       "      YearsWithCurrManager Attrition  YearlyIncome  \n",
       "0                      0.0        No       61512.0  \n",
       "1                      2.0        No       93072.0  \n",
       "2                      3.0        No       28416.0  \n",
       "3                      2.0        No       39720.0  \n",
       "4                      0.0        No       23412.0  \n",
       "...                    ...       ...           ...  \n",
       "4444                   5.0       Yes       95736.0  \n",
       "4445                   5.0       Yes       95736.0  \n",
       "4446                   4.0       Yes       44496.0  \n",
       "4447                   4.0       Yes       44496.0  \n",
       "4448                   4.0       Yes       44496.0  \n",
       "\n",
       "[4449 rows x 17 columns]"
      ]
     },
     "execution_count": 780,
     "metadata": {},
     "output_type": "execute_result"
    }
   ],
   "source": [
    "data_df"
   ]
  },
  {
   "cell_type": "code",
   "execution_count": 781,
   "metadata": {
    "scrolled": false
   },
   "outputs": [
    {
     "name": "stdout",
     "output_type": "stream",
     "text": [
      "<class 'pandas.core.frame.DataFrame'>\n",
      "RangeIndex: 4449 entries, 0 to 4448\n",
      "Data columns (total 17 columns):\n",
      " #   Column                    Non-Null Count  Dtype  \n",
      "---  ------                    --------------  -----  \n",
      " 0   EmployeeNumber            4449 non-null   int64  \n",
      " 1   Over18                    4449 non-null   object \n",
      " 2   OverTime                  4449 non-null   object \n",
      " 3   PercentSalaryHike         4449 non-null   float64\n",
      " 4   PerformanceRating         4449 non-null   float64\n",
      " 5   RelationshipSatisfaction  4449 non-null   float64\n",
      " 6   StandardHours             4449 non-null   float64\n",
      " 7   StockOptionLevel          4449 non-null   float64\n",
      " 8   TotalWorkingYears         4449 non-null   float64\n",
      " 9   TrainingTimesLastYear     4449 non-null   float64\n",
      " 10  WorkLifeBalance           4449 non-null   float64\n",
      " 11  YearsAtCompany            4449 non-null   float64\n",
      " 12  YearsInCurrentRole        4449 non-null   float64\n",
      " 13  YearsSinceLastPromotion   4449 non-null   float64\n",
      " 14  YearsWithCurrManager      4449 non-null   float64\n",
      " 15  Attrition                 4302 non-null   object \n",
      " 16  YearlyIncome              4449 non-null   float64\n",
      "dtypes: float64(13), int64(1), object(3)\n",
      "memory usage: 591.0+ KB\n"
     ]
    }
   ],
   "source": [
    "data_df.info()"
   ]
  },
  {
   "cell_type": "code",
   "execution_count": 782,
   "metadata": {},
   "outputs": [
    {
     "data": {
      "text/plain": [
       "EmployeeNumber                0\n",
       "Over18                        0\n",
       "OverTime                      0\n",
       "PercentSalaryHike             0\n",
       "PerformanceRating             0\n",
       "RelationshipSatisfaction      0\n",
       "StandardHours                 0\n",
       "StockOptionLevel              0\n",
       "TotalWorkingYears             0\n",
       "TrainingTimesLastYear         0\n",
       "WorkLifeBalance               0\n",
       "YearsAtCompany                0\n",
       "YearsInCurrentRole            0\n",
       "YearsSinceLastPromotion       0\n",
       "YearsWithCurrManager          0\n",
       "Attrition                   147\n",
       "YearlyIncome                  0\n",
       "dtype: int64"
      ]
     },
     "execution_count": 782,
     "metadata": {},
     "output_type": "execute_result"
    }
   ],
   "source": [
    "data_df.isnull().sum()"
   ]
  },
  {
   "cell_type": "code",
   "execution_count": 783,
   "metadata": {
    "colab": {
     "base_uri": "https://localhost:8080/"
    },
    "executionInfo": {
     "elapsed": 8,
     "status": "ok",
     "timestamp": 1657217674276,
     "user": {
      "displayName": "Michał Robak",
      "userId": "05065528628029117432"
     },
     "user_tz": -120
    },
    "id": "7RpS1NI1Yv9P",
    "outputId": "6569aa3a-5bbc-4b72-ac09-8d6b042745ac"
   },
   "outputs": [
    {
     "data": {
      "text/plain": [
       "EmployeeNumber              4449\n",
       "Over18                         1\n",
       "OverTime                       2\n",
       "PercentSalaryHike             15\n",
       "PerformanceRating              2\n",
       "RelationshipSatisfaction       4\n",
       "StandardHours                  1\n",
       "StockOptionLevel               4\n",
       "TotalWorkingYears            172\n",
       "TrainingTimesLastYear          7\n",
       "WorkLifeBalance                4\n",
       "YearsAtCompany               166\n",
       "YearsInCurrentRole           164\n",
       "YearsSinceLastPromotion      153\n",
       "YearsWithCurrManager         157\n",
       "Attrition                      2\n",
       "YearlyIncome                1349\n",
       "dtype: int64"
      ]
     },
     "execution_count": 783,
     "metadata": {},
     "output_type": "execute_result"
    }
   ],
   "source": [
    "data_df.nunique()"
   ]
  },
  {
   "cell_type": "code",
   "execution_count": 784,
   "metadata": {},
   "outputs": [
    {
     "data": {
      "text/html": [
       "<div>\n",
       "<style scoped>\n",
       "    .dataframe tbody tr th:only-of-type {\n",
       "        vertical-align: middle;\n",
       "    }\n",
       "\n",
       "    .dataframe tbody tr th {\n",
       "        vertical-align: top;\n",
       "    }\n",
       "\n",
       "    .dataframe thead th {\n",
       "        text-align: right;\n",
       "    }\n",
       "</style>\n",
       "<table border=\"1\" class=\"dataframe\">\n",
       "  <thead>\n",
       "    <tr style=\"text-align: right;\">\n",
       "      <th></th>\n",
       "      <th>EmployeeNumber</th>\n",
       "      <th>Over18</th>\n",
       "      <th>OverTime</th>\n",
       "      <th>PercentSalaryHike</th>\n",
       "      <th>PerformanceRating</th>\n",
       "      <th>RelationshipSatisfaction</th>\n",
       "      <th>StandardHours</th>\n",
       "      <th>StockOptionLevel</th>\n",
       "      <th>TotalWorkingYears</th>\n",
       "      <th>TrainingTimesLastYear</th>\n",
       "      <th>WorkLifeBalance</th>\n",
       "      <th>YearsAtCompany</th>\n",
       "      <th>YearsInCurrentRole</th>\n",
       "      <th>YearsSinceLastPromotion</th>\n",
       "      <th>YearsWithCurrManager</th>\n",
       "      <th>Attrition</th>\n",
       "      <th>YearlyIncome</th>\n",
       "    </tr>\n",
       "  </thead>\n",
       "  <tbody>\n",
       "    <tr>\n",
       "      <th>count</th>\n",
       "      <td>4449.000000</td>\n",
       "      <td>4449</td>\n",
       "      <td>4449</td>\n",
       "      <td>4449.000000</td>\n",
       "      <td>4449.000000</td>\n",
       "      <td>4449.000000</td>\n",
       "      <td>4449.0</td>\n",
       "      <td>4449.000000</td>\n",
       "      <td>4449.000000</td>\n",
       "      <td>4449.000000</td>\n",
       "      <td>4449.000000</td>\n",
       "      <td>4449.000000</td>\n",
       "      <td>4449.000000</td>\n",
       "      <td>4449.000000</td>\n",
       "      <td>4449.000000</td>\n",
       "      <td>4302</td>\n",
       "      <td>4449.000000</td>\n",
       "    </tr>\n",
       "    <tr>\n",
       "      <th>unique</th>\n",
       "      <td>NaN</td>\n",
       "      <td>1</td>\n",
       "      <td>2</td>\n",
       "      <td>NaN</td>\n",
       "      <td>NaN</td>\n",
       "      <td>NaN</td>\n",
       "      <td>NaN</td>\n",
       "      <td>NaN</td>\n",
       "      <td>NaN</td>\n",
       "      <td>NaN</td>\n",
       "      <td>NaN</td>\n",
       "      <td>NaN</td>\n",
       "      <td>NaN</td>\n",
       "      <td>NaN</td>\n",
       "      <td>NaN</td>\n",
       "      <td>2</td>\n",
       "      <td>NaN</td>\n",
       "    </tr>\n",
       "    <tr>\n",
       "      <th>top</th>\n",
       "      <td>NaN</td>\n",
       "      <td>Y</td>\n",
       "      <td>No</td>\n",
       "      <td>NaN</td>\n",
       "      <td>NaN</td>\n",
       "      <td>NaN</td>\n",
       "      <td>NaN</td>\n",
       "      <td>NaN</td>\n",
       "      <td>NaN</td>\n",
       "      <td>NaN</td>\n",
       "      <td>NaN</td>\n",
       "      <td>NaN</td>\n",
       "      <td>NaN</td>\n",
       "      <td>NaN</td>\n",
       "      <td>NaN</td>\n",
       "      <td>Yes</td>\n",
       "      <td>NaN</td>\n",
       "    </tr>\n",
       "    <tr>\n",
       "      <th>freq</th>\n",
       "      <td>NaN</td>\n",
       "      <td>4449</td>\n",
       "      <td>3186</td>\n",
       "      <td>NaN</td>\n",
       "      <td>NaN</td>\n",
       "      <td>NaN</td>\n",
       "      <td>NaN</td>\n",
       "      <td>NaN</td>\n",
       "      <td>NaN</td>\n",
       "      <td>NaN</td>\n",
       "      <td>NaN</td>\n",
       "      <td>NaN</td>\n",
       "      <td>NaN</td>\n",
       "      <td>NaN</td>\n",
       "      <td>NaN</td>\n",
       "      <td>2222</td>\n",
       "      <td>NaN</td>\n",
       "    </tr>\n",
       "    <tr>\n",
       "      <th>mean</th>\n",
       "      <td>7956.865588</td>\n",
       "      <td>NaN</td>\n",
       "      <td>NaN</td>\n",
       "      <td>15.187683</td>\n",
       "      <td>3.148573</td>\n",
       "      <td>2.725556</td>\n",
       "      <td>80.0</td>\n",
       "      <td>0.785795</td>\n",
       "      <td>342.691616</td>\n",
       "      <td>2.808946</td>\n",
       "      <td>2.764217</td>\n",
       "      <td>302.743313</td>\n",
       "      <td>355.125646</td>\n",
       "      <td>385.886716</td>\n",
       "      <td>323.842886</td>\n",
       "      <td>NaN</td>\n",
       "      <td>77621.952798</td>\n",
       "    </tr>\n",
       "    <tr>\n",
       "      <th>std</th>\n",
       "      <td>17226.922333</td>\n",
       "      <td>NaN</td>\n",
       "      <td>NaN</td>\n",
       "      <td>3.642842</td>\n",
       "      <td>0.355707</td>\n",
       "      <td>1.080807</td>\n",
       "      <td>0.0</td>\n",
       "      <td>0.848038</td>\n",
       "      <td>1484.151875</td>\n",
       "      <td>1.306080</td>\n",
       "      <td>0.710859</td>\n",
       "      <td>1352.211854</td>\n",
       "      <td>1456.887417</td>\n",
       "      <td>1572.914217</td>\n",
       "      <td>1409.370519</td>\n",
       "      <td>NaN</td>\n",
       "      <td>56194.865060</td>\n",
       "    </tr>\n",
       "    <tr>\n",
       "      <th>min</th>\n",
       "      <td>1.000000</td>\n",
       "      <td>NaN</td>\n",
       "      <td>NaN</td>\n",
       "      <td>11.000000</td>\n",
       "      <td>3.000000</td>\n",
       "      <td>1.000000</td>\n",
       "      <td>80.0</td>\n",
       "      <td>0.000000</td>\n",
       "      <td>0.000000</td>\n",
       "      <td>0.000000</td>\n",
       "      <td>1.000000</td>\n",
       "      <td>0.000000</td>\n",
       "      <td>0.000000</td>\n",
       "      <td>0.000000</td>\n",
       "      <td>0.000000</td>\n",
       "      <td>NaN</td>\n",
       "      <td>12108.000000</td>\n",
       "    </tr>\n",
       "    <tr>\n",
       "      <th>25%</th>\n",
       "      <td>1735.000000</td>\n",
       "      <td>NaN</td>\n",
       "      <td>NaN</td>\n",
       "      <td>12.000000</td>\n",
       "      <td>3.000000</td>\n",
       "      <td>2.000000</td>\n",
       "      <td>80.0</td>\n",
       "      <td>0.000000</td>\n",
       "      <td>6.000000</td>\n",
       "      <td>2.000000</td>\n",
       "      <td>2.000000</td>\n",
       "      <td>3.000000</td>\n",
       "      <td>2.000000</td>\n",
       "      <td>0.000000</td>\n",
       "      <td>2.000000</td>\n",
       "      <td>NaN</td>\n",
       "      <td>34788.000000</td>\n",
       "    </tr>\n",
       "    <tr>\n",
       "      <th>50%</th>\n",
       "      <td>5902.000000</td>\n",
       "      <td>NaN</td>\n",
       "      <td>NaN</td>\n",
       "      <td>14.000000</td>\n",
       "      <td>3.000000</td>\n",
       "      <td>3.000000</td>\n",
       "      <td>80.0</td>\n",
       "      <td>1.000000</td>\n",
       "      <td>10.000000</td>\n",
       "      <td>3.000000</td>\n",
       "      <td>3.000000</td>\n",
       "      <td>5.000000</td>\n",
       "      <td>3.000000</td>\n",
       "      <td>1.000000</td>\n",
       "      <td>3.000000</td>\n",
       "      <td>NaN</td>\n",
       "      <td>58512.000000</td>\n",
       "    </tr>\n",
       "    <tr>\n",
       "      <th>75%</th>\n",
       "      <td>7014.000000</td>\n",
       "      <td>NaN</td>\n",
       "      <td>NaN</td>\n",
       "      <td>18.000000</td>\n",
       "      <td>3.000000</td>\n",
       "      <td>4.000000</td>\n",
       "      <td>80.0</td>\n",
       "      <td>1.000000</td>\n",
       "      <td>17.000000</td>\n",
       "      <td>3.000000</td>\n",
       "      <td>3.000000</td>\n",
       "      <td>10.000000</td>\n",
       "      <td>7.000000</td>\n",
       "      <td>4.000000</td>\n",
       "      <td>7.000000</td>\n",
       "      <td>NaN</td>\n",
       "      <td>100152.000000</td>\n",
       "    </tr>\n",
       "    <tr>\n",
       "      <th>max</th>\n",
       "      <td>100146.000000</td>\n",
       "      <td>NaN</td>\n",
       "      <td>NaN</td>\n",
       "      <td>25.000000</td>\n",
       "      <td>4.000000</td>\n",
       "      <td>4.000000</td>\n",
       "      <td>80.0</td>\n",
       "      <td>3.000000</td>\n",
       "      <td>9939.000000</td>\n",
       "      <td>6.000000</td>\n",
       "      <td>4.000000</td>\n",
       "      <td>9984.000000</td>\n",
       "      <td>9937.000000</td>\n",
       "      <td>9990.000000</td>\n",
       "      <td>9882.000000</td>\n",
       "      <td>NaN</td>\n",
       "      <td>239988.000000</td>\n",
       "    </tr>\n",
       "  </tbody>\n",
       "</table>\n",
       "</div>"
      ],
      "text/plain": [
       "        EmployeeNumber Over18 OverTime  PercentSalaryHike  PerformanceRating  \\\n",
       "count      4449.000000   4449     4449        4449.000000        4449.000000   \n",
       "unique             NaN      1        2                NaN                NaN   \n",
       "top                NaN      Y       No                NaN                NaN   \n",
       "freq               NaN   4449     3186                NaN                NaN   \n",
       "mean       7956.865588    NaN      NaN          15.187683           3.148573   \n",
       "std       17226.922333    NaN      NaN           3.642842           0.355707   \n",
       "min           1.000000    NaN      NaN          11.000000           3.000000   \n",
       "25%        1735.000000    NaN      NaN          12.000000           3.000000   \n",
       "50%        5902.000000    NaN      NaN          14.000000           3.000000   \n",
       "75%        7014.000000    NaN      NaN          18.000000           3.000000   \n",
       "max      100146.000000    NaN      NaN          25.000000           4.000000   \n",
       "\n",
       "        RelationshipSatisfaction  StandardHours  StockOptionLevel  \\\n",
       "count                4449.000000         4449.0       4449.000000   \n",
       "unique                       NaN            NaN               NaN   \n",
       "top                          NaN            NaN               NaN   \n",
       "freq                         NaN            NaN               NaN   \n",
       "mean                    2.725556           80.0          0.785795   \n",
       "std                     1.080807            0.0          0.848038   \n",
       "min                     1.000000           80.0          0.000000   \n",
       "25%                     2.000000           80.0          0.000000   \n",
       "50%                     3.000000           80.0          1.000000   \n",
       "75%                     4.000000           80.0          1.000000   \n",
       "max                     4.000000           80.0          3.000000   \n",
       "\n",
       "        TotalWorkingYears  TrainingTimesLastYear  WorkLifeBalance  \\\n",
       "count         4449.000000            4449.000000      4449.000000   \n",
       "unique                NaN                    NaN              NaN   \n",
       "top                   NaN                    NaN              NaN   \n",
       "freq                  NaN                    NaN              NaN   \n",
       "mean           342.691616               2.808946         2.764217   \n",
       "std           1484.151875               1.306080         0.710859   \n",
       "min              0.000000               0.000000         1.000000   \n",
       "25%              6.000000               2.000000         2.000000   \n",
       "50%             10.000000               3.000000         3.000000   \n",
       "75%             17.000000               3.000000         3.000000   \n",
       "max           9939.000000               6.000000         4.000000   \n",
       "\n",
       "        YearsAtCompany  YearsInCurrentRole  YearsSinceLastPromotion  \\\n",
       "count      4449.000000         4449.000000              4449.000000   \n",
       "unique             NaN                 NaN                      NaN   \n",
       "top                NaN                 NaN                      NaN   \n",
       "freq               NaN                 NaN                      NaN   \n",
       "mean        302.743313          355.125646               385.886716   \n",
       "std        1352.211854         1456.887417              1572.914217   \n",
       "min           0.000000            0.000000                 0.000000   \n",
       "25%           3.000000            2.000000                 0.000000   \n",
       "50%           5.000000            3.000000                 1.000000   \n",
       "75%          10.000000            7.000000                 4.000000   \n",
       "max        9984.000000         9937.000000              9990.000000   \n",
       "\n",
       "        YearsWithCurrManager Attrition   YearlyIncome  \n",
       "count            4449.000000      4302    4449.000000  \n",
       "unique                   NaN         2            NaN  \n",
       "top                      NaN       Yes            NaN  \n",
       "freq                     NaN      2222            NaN  \n",
       "mean              323.842886       NaN   77621.952798  \n",
       "std              1409.370519       NaN   56194.865060  \n",
       "min                 0.000000       NaN   12108.000000  \n",
       "25%                 2.000000       NaN   34788.000000  \n",
       "50%                 3.000000       NaN   58512.000000  \n",
       "75%                 7.000000       NaN  100152.000000  \n",
       "max              9882.000000       NaN  239988.000000  "
      ]
     },
     "execution_count": 784,
     "metadata": {},
     "output_type": "execute_result"
    }
   ],
   "source": [
    "data_df.describe(include=\"all\")"
   ]
  },
  {
   "cell_type": "code",
   "execution_count": 785,
   "metadata": {},
   "outputs": [
    {
     "name": "stdout",
     "output_type": "stream",
     "text": [
      "Attrition\n",
      "No     2080\n",
      "Yes    2222\n",
      "dtype: int64\n"
     ]
    }
   ],
   "source": [
    "# class distribution check\n",
    "\n",
    "print(data_df.groupby(\"Attrition\").size())\n",
    "# data_df[\"Attrition\"].value_counts()"
   ]
  },
  {
   "cell_type": "markdown",
   "metadata": {},
   "source": [
    "Classes are quite balanced"
   ]
  },
  {
   "cell_type": "code",
   "execution_count": 786,
   "metadata": {},
   "outputs": [
    {
     "data": {
      "image/png": "[encoded data removed]",
      "text/plain": [
       "<Figure size 1080x1080 with 16 Axes>"
      ]
     },
     "metadata": {
      "needs_background": "light"
     },
     "output_type": "display_data"
    }
   ],
   "source": [
    "# histograms\n",
    "data_df.hist(figsize=(15, 15), sharex=False, sharey=False)\n",
    "plt.tight_layout()\n",
    "plt.show()"
   ]
  },
  {
   "cell_type": "code",
   "execution_count": 787,
   "metadata": {},
   "outputs": [
    {
     "data": {
      "image/png": "[encoded data removed]",
      "text/plain": [
       "<Figure size 1440x1440 with 64 Axes>"
      ]
     },
     "metadata": {
      "needs_background": "light"
     },
     "output_type": "display_data"
    }
   ],
   "source": [
    "# density\n",
    "data_df.plot(kind='density', figsize=(20, 20), subplots=True, layout=(8,8), sharex=False, sharey=False, legend=True, fontsize=1)\n",
    "plt.tight_layout()\n",
    "plt.show()"
   ]
  },
  {
   "cell_type": "code",
   "execution_count": 788,
   "metadata": {},
   "outputs": [
    {
     "data": {
      "image/png": "[encoded data removed]",
      "text/plain": [
       "<Figure size 1152x648 with 1 Axes>"
      ]
     },
     "metadata": {
      "needs_background": "light"
     },
     "output_type": "display_data"
    }
   ],
   "source": [
    "ax = sns.boxplot(data=data_df, orient=\"v\", showfliers=True)\n",
    "# ax.set_ylim()\n",
    "ax.set_yscale(\"log\")\n",
    "plt.xticks(rotation = 90)\n",
    "plt.grid(visible=True, which='major', axis='both')"
   ]
  },
  {
   "cell_type": "code",
   "execution_count": 789,
   "metadata": {},
   "outputs": [
    {
     "data": {
      "text/plain": [
       "<AxesSubplot:>"
      ]
     },
     "execution_count": 789,
     "metadata": {},
     "output_type": "execute_result"
    },
    {
     "data": {
      "image/png": "[encoded data removed]",
      "text/plain": [
       "<Figure size 1152x648 with 2 Axes>"
      ]
     },
     "metadata": {
      "needs_background": "light"
     },
     "output_type": "display_data"
    }
   ],
   "source": [
    "plt.rcParams[\"figure.figsize\"] = [16,9]\n",
    "sns.heatmap(data_df.corr(), annot=True)"
   ]
  },
  {
   "cell_type": "markdown",
   "metadata": {},
   "source": [
    "### Conclusion/summary:\n",
    "- Dataset trimmed becasue target has null values\n",
    "- 'EmployeeNumber' has no meaning here = drop\n",
    "- Features with zero variance = drop: \n",
    "    - 'Over18' (\"object\")\n",
    "    - 'StandardHours' ('float64')\n",
    "- Target value 'Attrition' has 147 missing values that can be removed or imputed\n",
    "- Outliers in: \n",
    "    - TotalWorkingYears:\n",
    "        - max = 9939 -> not possible! => worth to check how many values\n",
    "    - YearsAtCompany: \n",
    "        - max = 9937 -> not possible! => worth to check how many values\n",
    "    - YearsSinceLastPromotion: \n",
    "        - max = 9990 -> not possible! => worth to check how many values\n",
    "    - YearsWithCurrManager: \n",
    "        - max = 9882 -> not possible! => worth to check how many values"
   ]
  },
  {
   "cell_type": "markdown",
   "metadata": {},
   "source": [
    "# Remove indexes for Attrition missing values"
   ]
  },
  {
   "cell_type": "code",
   "execution_count": 790,
   "metadata": {
    "scrolled": true
   },
   "outputs": [
    {
     "name": "stdout",
     "output_type": "stream",
     "text": [
      "<class 'pandas.core.frame.DataFrame'>\n",
      "Int64Index: 4302 entries, 0 to 4448\n",
      "Data columns (total 17 columns):\n",
      " #   Column                    Non-Null Count  Dtype  \n",
      "---  ------                    --------------  -----  \n",
      " 0   EmployeeNumber            4302 non-null   int64  \n",
      " 1   Over18                    4302 non-null   object \n",
      " 2   OverTime                  4302 non-null   object \n",
      " 3   PercentSalaryHike         4302 non-null   float64\n",
      " 4   PerformanceRating         4302 non-null   float64\n",
      " 5   RelationshipSatisfaction  4302 non-null   float64\n",
      " 6   StandardHours             4302 non-null   float64\n",
      " 7   StockOptionLevel          4302 non-null   float64\n",
      " 8   TotalWorkingYears         4302 non-null   float64\n",
      " 9   TrainingTimesLastYear     4302 non-null   float64\n",
      " 10  WorkLifeBalance           4302 non-null   float64\n",
      " 11  YearsAtCompany            4302 non-null   float64\n",
      " 12  YearsInCurrentRole        4302 non-null   float64\n",
      " 13  YearsSinceLastPromotion   4302 non-null   float64\n",
      " 14  YearsWithCurrManager      4302 non-null   float64\n",
      " 15  Attrition                 4302 non-null   object \n",
      " 16  YearlyIncome              4302 non-null   float64\n",
      "dtypes: float64(13), int64(1), object(3)\n",
      "memory usage: 605.0+ KB\n"
     ]
    }
   ],
   "source": [
    "data_df.dropna(axis=0, inplace=True)\n",
    "# print(data_df.shape, \"\\n\")\n",
    "data_df.info()"
   ]
  },
  {
   "cell_type": "markdown",
   "metadata": {
    "id": "vhWfgYue3CJI"
   },
   "source": [
    "Rada od Piotra = sprawdzić które kolumny mają wartości absurdalne. Czy tylko ta kolumna jest absurdalna a reszta danych jest OK. Jeśli tak to warto zatrzymać te dane. Wtedy wartości absurdalne (np. Age= 1100 lub 9000) zastąpić na NaN i potem zamienić NaN na średnią lub medianą. "
   ]
  },
  {
   "cell_type": "markdown",
   "metadata": {},
   "source": [
    "# Train / test split"
   ]
  },
  {
   "cell_type": "code",
   "execution_count": 791,
   "metadata": {
    "colab": {
     "base_uri": "https://localhost:8080/"
    },
    "executionInfo": {
     "elapsed": 256,
     "status": "ok",
     "timestamp": 1657217760746,
     "user": {
      "displayName": "Michał Robak",
      "userId": "05065528628029117432"
     },
     "user_tz": -120
    },
    "id": "r7FapS59mjbP",
    "outputId": "f31c4416-4e31-4ebb-b806-f8ebe31a135a",
    "scrolled": false
   },
   "outputs": [
    {
     "name": "stdout",
     "output_type": "stream",
     "text": [
      "X_train dimension =  (3441, 16)\n",
      "X_test dimension =  (861, 16)\n",
      "y_train dimension =  (3441,)\n",
      "y_train dimension =  (861,)\n"
     ]
    }
   ],
   "source": [
    "X = data_df.drop('Attrition', axis=1) # zmienne niezależne (features)\n",
    "y = data_df['Attrition'] # zmienna zależna (target)\n",
    "\n",
    "X_train, X_test, y_train, y_test = train_test_split(X, y, test_size=0.20, random_state=42)\n",
    "\n",
    "print(\"X_train dimension = \", X_train.shape)\n",
    "print(\"X_test dimension = \", X_test.shape)\n",
    "print(\"y_train dimension = \", y_train.shape)\n",
    "print(\"y_train dimension = \", y_test.shape)\n",
    "X_train.reset_index(inplace=True, drop=True)\n",
    "X_test.reset_index(inplace=True, drop=True)\n",
    "y_train.reset_index(inplace=True, drop=True)\n",
    "y_test.reset_index(inplace=True, drop=True)"
   ]
  },
  {
   "cell_type": "markdown",
   "metadata": {},
   "source": [
    "# Data cleaning"
   ]
  },
  {
   "cell_type": "markdown",
   "metadata": {},
   "source": [
    "## Delete Rows That Contain Duplicate Data"
   ]
  },
  {
   "cell_type": "code",
   "execution_count": 792,
   "metadata": {
    "scrolled": true
   },
   "outputs": [
    {
     "name": "stdout",
     "output_type": "stream",
     "text": [
      "Duplicates number: 0 \n",
      "\n",
      "Empty DataFrame\n",
      "Columns: [EmployeeNumber, Over18, OverTime, PercentSalaryHike, PerformanceRating, RelationshipSatisfaction, StandardHours, StockOptionLevel, TotalWorkingYears, TrainingTimesLastYear, WorkLifeBalance, YearsAtCompany, YearsInCurrentRole, YearsSinceLastPromotion, YearsWithCurrManager, YearlyIncome]\n",
      "Index: []\n"
     ]
    }
   ],
   "source": [
    "dups = X_train.duplicated()\n",
    "# report if there are any duplicates\n",
    "print(\"Duplicates number:\", dups.sum(),\"\\n\")\n",
    "# list all duplicate rows\n",
    "print(X_train[dups])"
   ]
  },
  {
   "cell_type": "code",
   "execution_count": 793,
   "metadata": {
    "scrolled": true
   },
   "outputs": [
    {
     "name": "stdout",
     "output_type": "stream",
     "text": [
      "No duplicates\n"
     ]
    }
   ],
   "source": [
    "# delete duplicate rows\n",
    "if (dups.sum()!=0):\n",
    "    X_train.drop_duplicates(inplace=True)\n",
    "    print(X_train.shape)\n",
    "else: \n",
    "    print(\"No duplicates\")\n",
    "# X_train"
   ]
  },
  {
   "cell_type": "markdown",
   "metadata": {},
   "source": [
    "## Drop redundant columns"
   ]
  },
  {
   "cell_type": "code",
   "execution_count": 794,
   "metadata": {},
   "outputs": [],
   "source": [
    "redundant_col = []\n",
    "redundant_col.append('EmployeeNumber')"
   ]
  },
  {
   "cell_type": "code",
   "execution_count": 795,
   "metadata": {},
   "outputs": [
    {
     "name": "stderr",
     "output_type": "stream",
     "text": [
      "/tmp/ipykernel_6379/3647248156.py:1: SettingWithCopyWarning: \n",
      "A value is trying to be set on a copy of a slice from a DataFrame\n",
      "\n",
      "See the caveats in the documentation: https://pandas.pydata.org/pandas-docs/stable/user_guide/indexing.html#returning-a-view-versus-a-copy\n"
     ]
    }
   ],
   "source": [
    "X_train.drop(redundant_col, axis=1, inplace=True)"
   ]
  },
  {
   "cell_type": "code",
   "execution_count": 796,
   "metadata": {},
   "outputs": [
    {
     "data": {
      "text/plain": [
       "(3441, 15)"
      ]
     },
     "execution_count": 796,
     "metadata": {},
     "output_type": "execute_result"
    }
   ],
   "source": [
    "X_train.shape"
   ]
  },
  {
   "cell_type": "markdown",
   "metadata": {},
   "source": [
    "## Delete Columns That Contain a Single Value"
   ]
  },
  {
   "cell_type": "code",
   "execution_count": 797,
   "metadata": {},
   "outputs": [
    {
     "data": {
      "text/plain": [
       "(3441, 15)"
      ]
     },
     "execution_count": 797,
     "metadata": {},
     "output_type": "execute_result"
    }
   ],
   "source": [
    "X_train.shape"
   ]
  },
  {
   "cell_type": "code",
   "execution_count": 798,
   "metadata": {},
   "outputs": [
    {
     "name": "stdout",
     "output_type": "stream",
     "text": [
      "Over18                         1\n",
      "OverTime                       2\n",
      "PercentSalaryHike             15\n",
      "PerformanceRating              2\n",
      "RelationshipSatisfaction       4\n",
      "StandardHours                  1\n",
      "StockOptionLevel               4\n",
      "TotalWorkingYears            158\n",
      "TrainingTimesLastYear          7\n",
      "WorkLifeBalance                4\n",
      "YearsAtCompany               158\n",
      "YearsInCurrentRole           153\n",
      "YearsSinceLastPromotion      146\n",
      "YearsWithCurrManager         142\n",
      "YearlyIncome                1321\n",
      "dtype: int64 \n",
      "\n",
      "[0, 5] Index(['Over18', 'StandardHours'], dtype='object')\n"
     ]
    }
   ],
   "source": [
    "# get number of unique values for each column\n",
    "counts = X_train.nunique()\n",
    "print(counts, \"\\n\") \n",
    "\n",
    "# record columns to delete\n",
    "to_del = [i for i,v in enumerate(counts) if v==1]\n",
    "print(to_del,X_train.columns[to_del])"
   ]
  },
  {
   "cell_type": "code",
   "execution_count": 799,
   "metadata": {
    "scrolled": true
   },
   "outputs": [
    {
     "name": "stderr",
     "output_type": "stream",
     "text": [
      "/tmp/ipykernel_6379/2256499488.py:2: SettingWithCopyWarning: \n",
      "A value is trying to be set on a copy of a slice from a DataFrame\n",
      "\n",
      "See the caveats in the documentation: https://pandas.pydata.org/pandas-docs/stable/user_guide/indexing.html#returning-a-view-versus-a-copy\n"
     ]
    },
    {
     "data": {
      "text/plain": [
       "(3441, 13)"
      ]
     },
     "execution_count": 799,
     "metadata": {},
     "output_type": "execute_result"
    }
   ],
   "source": [
    "# # drop useless columns\n",
    "X_train.drop(X_train.columns[to_del], axis=1, inplace=True)\n",
    "# X_train.info()\n",
    "X_train.shape"
   ]
  },
  {
   "cell_type": "markdown",
   "metadata": {},
   "source": [
    "## Remove columns that have a low variance"
   ]
  },
  {
   "cell_type": "code",
   "execution_count": 800,
   "metadata": {},
   "outputs": [
    {
     "name": "stdout",
     "output_type": "stream",
     "text": [
      ">Threshold=0.00, Features=12\n",
      ">Threshold=0.10, Features=12\n",
      ">Threshold=0.20, Features=11\n",
      ">Threshold=0.30, Features=11\n",
      ">Threshold=0.40, Features=11\n",
      ">Threshold=0.50, Features=11\n",
      ">Threshold=0.60, Features=10\n",
      ">Threshold=0.70, Features=10\n",
      ">Threshold=0.80, Features=9\n"
     ]
    },
    {
     "data": {
      "image/png": "[encoded data removed]",
      "text/plain": [
       "<Figure size 1152x648 with 1 Axes>"
      ]
     },
     "metadata": {
      "needs_background": "light"
     },
     "output_type": "display_data"
    }
   ],
   "source": [
    "# define thresholds to check\n",
    "thresholds = np.arange(0.0, 0.9, 0.1)\n",
    "# apply transform with each threshold\n",
    "results = list()\n",
    "X_train_numeric = X_train.select_dtypes(include=np.number)\n",
    "# X_train_numeric\n",
    "\n",
    "for t in thresholds:\n",
    "    # define the transform\n",
    "    transform = VarianceThreshold(threshold=t)\n",
    "    # transform the input data\n",
    "    X_sel = transform.fit_transform(X_train_numeric)\n",
    "    # determine the number of input features\n",
    "    n_features = X_sel.shape[1]\n",
    "    print('>Threshold=%.2f, Features=%d' % (t, n_features))\n",
    "    # store the result\n",
    "    results.append(n_features)\n",
    "# plot the threshold vs the number of selected features\n",
    "plt.plot(thresholds, results)\n",
    "plt.show()"
   ]
  },
  {
   "cell_type": "code",
   "execution_count": 801,
   "metadata": {},
   "outputs": [],
   "source": [
    "# X_test.info()"
   ]
  },
  {
   "cell_type": "markdown",
   "metadata": {},
   "source": [
    "# Encoding"
   ]
  },
  {
   "cell_type": "code",
   "execution_count": 802,
   "metadata": {
    "scrolled": false
   },
   "outputs": [],
   "source": [
    "# categorical_columns_ls = X_train.select_dtypes([\"object\", \"category\"]).columns.to_list()\n",
    "\n",
    "X_train_enc, X_test_enc, y_train_enc, y_test_enc = [pd.get_dummies(\n",
    "    data = df, \n",
    "    prefix = None, \n",
    "    prefix_sep = '_', \n",
    "    dummy_na = False, \n",
    "    columns = None, \n",
    "    sparse = False, \n",
    "    drop_first = True, \n",
    "    dtype = 'int8'\n",
    ") for df in [X_train, X_test, y_train, y_test]]\n",
    "        "
   ]
  },
  {
   "cell_type": "code",
   "execution_count": 803,
   "metadata": {},
   "outputs": [],
   "source": [
    "X_train = X_train_enc\n",
    "X_test = X_test_enc\n",
    "y_train = y_train_enc\n",
    "y_test = y_test_enc"
   ]
  },
  {
   "cell_type": "code",
   "execution_count": 804,
   "metadata": {
    "colab": {
     "base_uri": "https://localhost:8080/",
     "height": 999
    },
    "executionInfo": {
     "elapsed": 5272,
     "status": "ok",
     "timestamp": 1657217681918,
     "user": {
      "displayName": "Michał Robak",
      "userId": "05065528628029117432"
     },
     "user_tz": -120
    },
    "id": "-FE3VDlkZJbC",
    "outputId": "f635acaa-fdbd-47bd-d49a-fc862660bca0"
   },
   "outputs": [],
   "source": [
    "# # Heat-map correlation\n",
    "# # plt.figure(figsize=(16,9)) \n",
    "# plt.rcParams[\"figure.figsize\"] = [len(X_train.columns), len(X_train.columns)]\n",
    "# sns.heatmap(X_train.corr(), annot=True)"
   ]
  },
  {
   "cell_type": "code",
   "execution_count": 805,
   "metadata": {},
   "outputs": [],
   "source": [
    "# # corr = data_df2_drop.corr()\n",
    "# # kot = data_df2_drop.corr()[data_df2_drop.corr()>0.05]\n",
    "# plt.figure(figsize=(len(X_train.columns), len(X_train.columns)))\n",
    "# sns.heatmap(X_train.corr()[X_train.corr()>0.05], annot=True)"
   ]
  },
  {
   "cell_type": "code",
   "execution_count": 806,
   "metadata": {},
   "outputs": [],
   "source": [
    "# sns.pairplot(kot)"
   ]
  },
  {
   "cell_type": "code",
   "execution_count": 807,
   "metadata": {},
   "outputs": [
    {
     "name": "stdout",
     "output_type": "stream",
     "text": [
      "PercentSalaryHike        PerformanceRating          0.764793\n",
      "PerformanceRating        PercentSalaryHike          0.764793\n",
      "YearsWithCurrManager     PerformanceRating          0.077937\n",
      "PerformanceRating        YearsWithCurrManager       0.077937\n",
      "PercentSalaryHike        YearsWithCurrManager       0.073416\n",
      "                                                      ...   \n",
      "YearsInCurrentRole       YearsInCurrentRole              NaN\n",
      "YearsSinceLastPromotion  YearsSinceLastPromotion         NaN\n",
      "YearsWithCurrManager     YearsWithCurrManager            NaN\n",
      "YearlyIncome             YearlyIncome                    NaN\n",
      "OverTime_Yes             OverTime_Yes                    NaN\n",
      "Length: 169, dtype: float64\n"
     ]
    }
   ],
   "source": [
    "# corr_abs_value = X_train.corr().abs()\n",
    "# s = corr_abs_value.unstack()\n",
    "\n",
    "X_train_sort = X_train.corr()[X_train.corr() < 1].abs().unstack().sort_values(ascending = False , kind=\"quicksort\")\n",
    "print(X_train_sort)"
   ]
  },
  {
   "cell_type": "code",
   "execution_count": 808,
   "metadata": {},
   "outputs": [
    {
     "data": {
      "image/png": "[encoded data removed]",
      "text/plain": [
       "<Figure size 1152x648 with 1 Axes>"
      ]
     },
     "metadata": {
      "needs_background": "light"
     },
     "output_type": "display_data"
    }
   ],
   "source": [
    "# sns.boxplot(data=outlier_df, x=outlier_df.columns)\n",
    "# sns.boxplot(x=outlier_df.columns)\n",
    "# plt.figure(figsize=(16,9))\n",
    "ax = sns.boxplot(data=X_train, orient=\"v\", showfliers=True)\n",
    "# ax.set_ylim()\n",
    "ax.set_yscale(\"log\")\n",
    "plt.xticks(rotation = 90)\n",
    "plt.grid(visible=True, which='major', axis='both')"
   ]
  },
  {
   "cell_type": "markdown",
   "metadata": {},
   "source": [
    "# Evaluate Algorithms: Baseline"
   ]
  },
  {
   "cell_type": "code",
   "execution_count": 809,
   "metadata": {},
   "outputs": [],
   "source": [
    "# Test options and evaluation metric\n",
    "num_folds = 10\n",
    "# seed = 42\n",
    "scoring = 'accuracy'"
   ]
  },
  {
   "cell_type": "code",
   "execution_count": 810,
   "metadata": {},
   "outputs": [],
   "source": [
    "# Spot-Check Algorithms\n",
    "models = []\n",
    "models.append(('LR', LogisticRegression()))\n",
    "models.append(('LDA', LinearDiscriminantAnalysis()))\n",
    "models.append(('KNN', KNeighborsClassifier()))\n",
    "models.append(('CART', DecisionTreeClassifier()))\n",
    "models.append(('NB', GaussianNB()))\n",
    "models.append(('SVM', SVC()))"
   ]
  },
  {
   "cell_type": "code",
   "execution_count": 811,
   "metadata": {},
   "outputs": [
    {
     "name": "stdout",
     "output_type": "stream",
     "text": [
      "LR: 0.590222 (0.033192)\n",
      "LDA: 0.592835 (0.029480)\n",
      "KNN: 0.514966 (0.030833)\n"
     ]
    },
    {
     "name": "stderr",
     "output_type": "stream",
     "text": [
      "/home/michal/.local/lib/python3.10/site-packages/sklearn/neighbors/_classification.py:211: FutureWarning: Unlike other reduction functions (e.g. `skew`, `kurtosis`), the default behavior of `mode` typically preserves the axis it acts along. In SciPy 1.11.0, this behavior will change: the default value of `keepdims` will become False, the `axis` over which the statistic is taken will be eliminated, and the value None will no longer be accepted. Set `keepdims` to True or False to avoid this warning.\n",
      "/home/michal/.local/lib/python3.10/site-packages/sklearn/neighbors/_classification.py:211: FutureWarning: Unlike other reduction functions (e.g. `skew`, `kurtosis`), the default behavior of `mode` typically preserves the axis it acts along. In SciPy 1.11.0, this behavior will change: the default value of `keepdims` will become False, the `axis` over which the statistic is taken will be eliminated, and the value None will no longer be accepted. Set `keepdims` to True or False to avoid this warning.\n",
      "/home/michal/.local/lib/python3.10/site-packages/sklearn/neighbors/_classification.py:211: FutureWarning: Unlike other reduction functions (e.g. `skew`, `kurtosis`), the default behavior of `mode` typically preserves the axis it acts along. In SciPy 1.11.0, this behavior will change: the default value of `keepdims` will become False, the `axis` over which the statistic is taken will be eliminated, and the value None will no longer be accepted. Set `keepdims` to True or False to avoid this warning.\n",
      "/home/michal/.local/lib/python3.10/site-packages/sklearn/neighbors/_classification.py:211: FutureWarning: Unlike other reduction functions (e.g. `skew`, `kurtosis`), the default behavior of `mode` typically preserves the axis it acts along. In SciPy 1.11.0, this behavior will change: the default value of `keepdims` will become False, the `axis` over which the statistic is taken will be eliminated, and the value None will no longer be accepted. Set `keepdims` to True or False to avoid this warning.\n",
      "/home/michal/.local/lib/python3.10/site-packages/sklearn/neighbors/_classification.py:211: FutureWarning: Unlike other reduction functions (e.g. `skew`, `kurtosis`), the default behavior of `mode` typically preserves the axis it acts along. In SciPy 1.11.0, this behavior will change: the default value of `keepdims` will become False, the `axis` over which the statistic is taken will be eliminated, and the value None will no longer be accepted. Set `keepdims` to True or False to avoid this warning.\n",
      "/home/michal/.local/lib/python3.10/site-packages/sklearn/neighbors/_classification.py:211: FutureWarning: Unlike other reduction functions (e.g. `skew`, `kurtosis`), the default behavior of `mode` typically preserves the axis it acts along. In SciPy 1.11.0, this behavior will change: the default value of `keepdims` will become False, the `axis` over which the statistic is taken will be eliminated, and the value None will no longer be accepted. Set `keepdims` to True or False to avoid this warning.\n",
      "/home/michal/.local/lib/python3.10/site-packages/sklearn/neighbors/_classification.py:211: FutureWarning: Unlike other reduction functions (e.g. `skew`, `kurtosis`), the default behavior of `mode` typically preserves the axis it acts along. In SciPy 1.11.0, this behavior will change: the default value of `keepdims` will become False, the `axis` over which the statistic is taken will be eliminated, and the value None will no longer be accepted. Set `keepdims` to True or False to avoid this warning.\n",
      "/home/michal/.local/lib/python3.10/site-packages/sklearn/neighbors/_classification.py:211: FutureWarning: Unlike other reduction functions (e.g. `skew`, `kurtosis`), the default behavior of `mode` typically preserves the axis it acts along. In SciPy 1.11.0, this behavior will change: the default value of `keepdims` will become False, the `axis` over which the statistic is taken will be eliminated, and the value None will no longer be accepted. Set `keepdims` to True or False to avoid this warning.\n",
      "/home/michal/.local/lib/python3.10/site-packages/sklearn/neighbors/_classification.py:211: FutureWarning: Unlike other reduction functions (e.g. `skew`, `kurtosis`), the default behavior of `mode` typically preserves the axis it acts along. In SciPy 1.11.0, this behavior will change: the default value of `keepdims` will become False, the `axis` over which the statistic is taken will be eliminated, and the value None will no longer be accepted. Set `keepdims` to True or False to avoid this warning.\n",
      "/home/michal/.local/lib/python3.10/site-packages/sklearn/neighbors/_classification.py:211: FutureWarning: Unlike other reduction functions (e.g. `skew`, `kurtosis`), the default behavior of `mode` typically preserves the axis it acts along. In SciPy 1.11.0, this behavior will change: the default value of `keepdims` will become False, the `axis` over which the statistic is taken will be eliminated, and the value None will no longer be accepted. Set `keepdims` to True or False to avoid this warning.\n"
     ]
    },
    {
     "name": "stdout",
     "output_type": "stream",
     "text": [
      "CART: 0.493171 (0.032709)\n",
      "NB: 0.568718 (0.033437)\n",
      "SVM: 0.515549 (0.007695)\n"
     ]
    }
   ],
   "source": [
    "results = []\n",
    "names = []\n",
    "for name, model in models:\n",
    "    kfold = KFold(n_splits=num_folds, shuffle=False, random_state=None)\n",
    "    cv_results = cross_val_score(model, X_train, y_train.values.ravel(), cv=kfold, scoring=scoring)\n",
    "    results.append(cv_results)\n",
    "    names.append(name)\n",
    "    msg = \"%s: %f (%f)\" % (name, cv_results.mean(), cv_results.std())\n",
    "    print(msg)"
   ]
  },
  {
   "cell_type": "code",
   "execution_count": 812,
   "metadata": {
    "scrolled": false
   },
   "outputs": [
    {
     "data": {
      "image/png": "[encoded data removed]",
      "text/plain": [
       "<Figure size 1152x648 with 1 Axes>"
      ]
     },
     "metadata": {
      "needs_background": "light"
     },
     "output_type": "display_data"
    }
   ],
   "source": [
    "# Compare Algorithms\n",
    "fig = plt.figure()\n",
    "fig.suptitle('Algorithm Comparison')\n",
    "ax = fig.add_subplot(111)\n",
    "plt.boxplot(results)\n",
    "ax.set_xticklabels(names)\n",
    "plt.show()"
   ]
  },
  {
   "cell_type": "markdown",
   "metadata": {},
   "source": [
    "# Evaluate Algorithms: Standardize Data"
   ]
  },
  {
   "cell_type": "code",
   "execution_count": 813,
   "metadata": {},
   "outputs": [],
   "source": [
    "# for df in [X_train, X_test, y_train, y_test]:\n",
    "#     print(df.info())"
   ]
  },
  {
   "cell_type": "code",
   "execution_count": 814,
   "metadata": {
    "scrolled": true
   },
   "outputs": [
    {
     "name": "stdout",
     "output_type": "stream",
     "text": [
      "Scaled_LR: 0.593415 (0.029515)\n",
      "Scaled_LDA: 0.592835 (0.029480)\n"
     ]
    },
    {
     "name": "stderr",
     "output_type": "stream",
     "text": [
      "/home/michal/.local/lib/python3.10/site-packages/sklearn/neighbors/_classification.py:211: FutureWarning: Unlike other reduction functions (e.g. `skew`, `kurtosis`), the default behavior of `mode` typically preserves the axis it acts along. In SciPy 1.11.0, this behavior will change: the default value of `keepdims` will become False, the `axis` over which the statistic is taken will be eliminated, and the value None will no longer be accepted. Set `keepdims` to True or False to avoid this warning.\n",
      "/home/michal/.local/lib/python3.10/site-packages/sklearn/neighbors/_classification.py:211: FutureWarning: Unlike other reduction functions (e.g. `skew`, `kurtosis`), the default behavior of `mode` typically preserves the axis it acts along. In SciPy 1.11.0, this behavior will change: the default value of `keepdims` will become False, the `axis` over which the statistic is taken will be eliminated, and the value None will no longer be accepted. Set `keepdims` to True or False to avoid this warning.\n",
      "/home/michal/.local/lib/python3.10/site-packages/sklearn/neighbors/_classification.py:211: FutureWarning: Unlike other reduction functions (e.g. `skew`, `kurtosis`), the default behavior of `mode` typically preserves the axis it acts along. In SciPy 1.11.0, this behavior will change: the default value of `keepdims` will become False, the `axis` over which the statistic is taken will be eliminated, and the value None will no longer be accepted. Set `keepdims` to True or False to avoid this warning.\n",
      "/home/michal/.local/lib/python3.10/site-packages/sklearn/neighbors/_classification.py:211: FutureWarning: Unlike other reduction functions (e.g. `skew`, `kurtosis`), the default behavior of `mode` typically preserves the axis it acts along. In SciPy 1.11.0, this behavior will change: the default value of `keepdims` will become False, the `axis` over which the statistic is taken will be eliminated, and the value None will no longer be accepted. Set `keepdims` to True or False to avoid this warning.\n",
      "/home/michal/.local/lib/python3.10/site-packages/sklearn/neighbors/_classification.py:211: FutureWarning: Unlike other reduction functions (e.g. `skew`, `kurtosis`), the default behavior of `mode` typically preserves the axis it acts along. In SciPy 1.11.0, this behavior will change: the default value of `keepdims` will become False, the `axis` over which the statistic is taken will be eliminated, and the value None will no longer be accepted. Set `keepdims` to True or False to avoid this warning.\n",
      "/home/michal/.local/lib/python3.10/site-packages/sklearn/neighbors/_classification.py:211: FutureWarning: Unlike other reduction functions (e.g. `skew`, `kurtosis`), the default behavior of `mode` typically preserves the axis it acts along. In SciPy 1.11.0, this behavior will change: the default value of `keepdims` will become False, the `axis` over which the statistic is taken will be eliminated, and the value None will no longer be accepted. Set `keepdims` to True or False to avoid this warning.\n",
      "/home/michal/.local/lib/python3.10/site-packages/sklearn/neighbors/_classification.py:211: FutureWarning: Unlike other reduction functions (e.g. `skew`, `kurtosis`), the default behavior of `mode` typically preserves the axis it acts along. In SciPy 1.11.0, this behavior will change: the default value of `keepdims` will become False, the `axis` over which the statistic is taken will be eliminated, and the value None will no longer be accepted. Set `keepdims` to True or False to avoid this warning.\n",
      "/home/michal/.local/lib/python3.10/site-packages/sklearn/neighbors/_classification.py:211: FutureWarning: Unlike other reduction functions (e.g. `skew`, `kurtosis`), the default behavior of `mode` typically preserves the axis it acts along. In SciPy 1.11.0, this behavior will change: the default value of `keepdims` will become False, the `axis` over which the statistic is taken will be eliminated, and the value None will no longer be accepted. Set `keepdims` to True or False to avoid this warning.\n",
      "/home/michal/.local/lib/python3.10/site-packages/sklearn/neighbors/_classification.py:211: FutureWarning: Unlike other reduction functions (e.g. `skew`, `kurtosis`), the default behavior of `mode` typically preserves the axis it acts along. In SciPy 1.11.0, this behavior will change: the default value of `keepdims` will become False, the `axis` over which the statistic is taken will be eliminated, and the value None will no longer be accepted. Set `keepdims` to True or False to avoid this warning.\n",
      "/home/michal/.local/lib/python3.10/site-packages/sklearn/neighbors/_classification.py:211: FutureWarning: Unlike other reduction functions (e.g. `skew`, `kurtosis`), the default behavior of `mode` typically preserves the axis it acts along. In SciPy 1.11.0, this behavior will change: the default value of `keepdims` will become False, the `axis` over which the statistic is taken will be eliminated, and the value None will no longer be accepted. Set `keepdims` to True or False to avoid this warning.\n"
     ]
    },
    {
     "name": "stdout",
     "output_type": "stream",
     "text": [
      "Scaled_KNN: 0.531816 (0.021469)\n",
      "Scaled_CART: 0.492299 (0.025142)\n",
      "Scaled_NB: 0.570752 (0.034011)\n",
      "Scaled_SVM: 0.577726 (0.031414)\n"
     ]
    }
   ],
   "source": [
    "# Standardize the dataset\n",
    "pipelines = []\n",
    "pipelines.append(('Scaled_LR', Pipeline([('Scaler', StandardScaler()),('LR', LogisticRegression())])))\n",
    "pipelines.append(('Scaled_LDA', Pipeline([('Scaler', StandardScaler()),('LDA', LinearDiscriminantAnalysis())])))\n",
    "pipelines.append(('Scaled_KNN', Pipeline([('Scaler', StandardScaler()),('KNN', KNeighborsClassifier())])))\n",
    "pipelines.append(('Scaled_CART', Pipeline([('Scaler', StandardScaler()),('CART', DecisionTreeClassifier())])))\n",
    "pipelines.append(('Scaled_NB', Pipeline([('Scaler', StandardScaler()),('NB', GaussianNB())])))\n",
    "pipelines.append(('Scaled_SVM', Pipeline([('Scaler', StandardScaler()),('SVM', SVC())])))\n",
    "results = []\n",
    "names = []\n",
    "for name, model in pipelines:\n",
    "    kfold = KFold(n_splits=num_folds, shuffle=False, random_state=None)\n",
    "    cv_results = cross_val_score(model, X_train, y_train.values.ravel(), cv=kfold, scoring=scoring)\n",
    "    results.append(cv_results)\n",
    "    names.append(name)\n",
    "    msg = \"%s: %f (%f)\" % (name, cv_results.mean(), cv_results.std())\n",
    "    print(msg)"
   ]
  },
  {
   "cell_type": "code",
   "execution_count": 815,
   "metadata": {},
   "outputs": [
    {
     "data": {
      "image/png": "[encoded data removed]",
      "text/plain": [
       "<Figure size 1152x648 with 1 Axes>"
      ]
     },
     "metadata": {
      "needs_background": "light"
     },
     "output_type": "display_data"
    }
   ],
   "source": [
    "# Compare Algorithms\n",
    "fig = plt.figure()\n",
    "fig.suptitle('Scaled Algorithm Comparison')\n",
    "ax = fig.add_subplot(111)\n",
    "plt.boxplot(results)\n",
    "ax.set_xticklabels(names)\n",
    "plt.show()"
   ]
  },
  {
   "cell_type": "markdown",
   "metadata": {},
   "source": [
    "### Evaluate Algorithms: PowerTransformer"
   ]
  },
  {
   "cell_type": "code",
   "execution_count": 816,
   "metadata": {},
   "outputs": [],
   "source": [
    "# X_train.value_counts()"
   ]
  },
  {
   "cell_type": "code",
   "execution_count": 817,
   "metadata": {
    "scrolled": true
   },
   "outputs": [
    {
     "name": "stderr",
     "output_type": "stream",
     "text": [
      "/home/michal/.local/lib/python3.10/site-packages/sklearn/utils/validation.py:63: DataConversionWarning: A column-vector y was passed when a 1d array was expected. Please change the shape of y to (n_samples, ), for example using ravel().\n"
     ]
    },
    {
     "data": {
      "text/plain": [
       "array([1, 0, 0, ..., 1, 0, 0])"
      ]
     },
     "execution_count": 817,
     "metadata": {},
     "output_type": "execute_result"
    }
   ],
   "source": [
    "# # separate into input and output columns\n",
    "# X, y = data[:, :-1], data[:, -1]\n",
    "\n",
    "# ensure inputs are floats and output is an integer label\n",
    "X = X_train.astype('float32')\n",
    "y = LabelEncoder().fit_transform(y_train.astype('str'))\n",
    "y\n"
   ]
  },
  {
   "cell_type": "code",
   "execution_count": 818,
   "metadata": {
    "scrolled": true
   },
   "outputs": [
    {
     "name": "stderr",
     "output_type": "stream",
     "text": [
      "/home/michal/.local/lib/python3.10/site-packages/sklearn/preprocessing/_data.py:3237: RuntimeWarning: divide by zero encountered in log\n",
      "/home/michal/.local/lib/python3.10/site-packages/sklearn/preprocessing/_data.py:3237: RuntimeWarning: divide by zero encountered in log\n",
      "/home/michal/.local/lib/python3.10/site-packages/sklearn/preprocessing/_data.py:3237: RuntimeWarning: divide by zero encountered in log\n",
      "/home/michal/.local/lib/python3.10/site-packages/sklearn/preprocessing/_data.py:3237: RuntimeWarning: divide by zero encountered in log\n",
      "/home/michal/.local/lib/python3.10/site-packages/sklearn/preprocessing/_data.py:3237: RuntimeWarning: divide by zero encountered in log\n",
      "/home/michal/.local/lib/python3.10/site-packages/sklearn/preprocessing/_data.py:3237: RuntimeWarning: divide by zero encountered in log\n",
      "/home/michal/.local/lib/python3.10/site-packages/sklearn/preprocessing/_data.py:3237: RuntimeWarning: divide by zero encountered in log\n",
      "/home/michal/.local/lib/python3.10/site-packages/sklearn/preprocessing/_data.py:3237: RuntimeWarning: divide by zero encountered in log\n",
      "/home/michal/.local/lib/python3.10/site-packages/sklearn/preprocessing/_data.py:3237: RuntimeWarning: divide by zero encountered in log\n",
      "/home/michal/.local/lib/python3.10/site-packages/sklearn/preprocessing/_data.py:3237: RuntimeWarning: divide by zero encountered in log\n"
     ]
    },
    {
     "name": "stdout",
     "output_type": "stream",
     "text": [
      "PowerTransformed_LR: 0.526577 (0.021997)\n"
     ]
    },
    {
     "name": "stderr",
     "output_type": "stream",
     "text": [
      "/home/michal/.local/lib/python3.10/site-packages/sklearn/preprocessing/_data.py:3237: RuntimeWarning: divide by zero encountered in log\n",
      "/home/michal/.local/lib/python3.10/site-packages/sklearn/preprocessing/_data.py:3237: RuntimeWarning: divide by zero encountered in log\n",
      "/home/michal/.local/lib/python3.10/site-packages/sklearn/preprocessing/_data.py:3237: RuntimeWarning: divide by zero encountered in log\n",
      "/home/michal/.local/lib/python3.10/site-packages/sklearn/preprocessing/_data.py:3237: RuntimeWarning: divide by zero encountered in log\n",
      "/home/michal/.local/lib/python3.10/site-packages/sklearn/preprocessing/_data.py:3237: RuntimeWarning: divide by zero encountered in log\n",
      "/home/michal/.local/lib/python3.10/site-packages/sklearn/preprocessing/_data.py:3237: RuntimeWarning: divide by zero encountered in log\n",
      "/home/michal/.local/lib/python3.10/site-packages/sklearn/preprocessing/_data.py:3237: RuntimeWarning: divide by zero encountered in log\n",
      "/home/michal/.local/lib/python3.10/site-packages/sklearn/preprocessing/_data.py:3237: RuntimeWarning: divide by zero encountered in log\n",
      "/home/michal/.local/lib/python3.10/site-packages/sklearn/preprocessing/_data.py:3237: RuntimeWarning: divide by zero encountered in log\n",
      "/home/michal/.local/lib/python3.10/site-packages/sklearn/preprocessing/_data.py:3237: RuntimeWarning: divide by zero encountered in log\n",
      "/home/michal/.local/lib/python3.10/site-packages/sklearn/preprocessing/_data.py:3237: RuntimeWarning: divide by zero encountered in log\n",
      "/home/michal/.local/lib/python3.10/site-packages/sklearn/neighbors/_classification.py:211: FutureWarning: Unlike other reduction functions (e.g. `skew`, `kurtosis`), the default behavior of `mode` typically preserves the axis it acts along. In SciPy 1.11.0, this behavior will change: the default value of `keepdims` will become False, the `axis` over which the statistic is taken will be eliminated, and the value None will no longer be accepted. Set `keepdims` to True or False to avoid this warning.\n",
      "/home/michal/.local/lib/python3.10/site-packages/sklearn/preprocessing/_data.py:3237: RuntimeWarning: divide by zero encountered in log\n",
      "/home/michal/.local/lib/python3.10/site-packages/sklearn/neighbors/_classification.py:211: FutureWarning: Unlike other reduction functions (e.g. `skew`, `kurtosis`), the default behavior of `mode` typically preserves the axis it acts along. In SciPy 1.11.0, this behavior will change: the default value of `keepdims` will become False, the `axis` over which the statistic is taken will be eliminated, and the value None will no longer be accepted. Set `keepdims` to True or False to avoid this warning.\n",
      "/home/michal/.local/lib/python3.10/site-packages/sklearn/preprocessing/_data.py:3237: RuntimeWarning: divide by zero encountered in log\n"
     ]
    },
    {
     "name": "stdout",
     "output_type": "stream",
     "text": [
      "PowerTransformed_LDA: 0.526577 (0.021997)\n"
     ]
    },
    {
     "name": "stderr",
     "output_type": "stream",
     "text": [
      "/home/michal/.local/lib/python3.10/site-packages/sklearn/neighbors/_classification.py:211: FutureWarning: Unlike other reduction functions (e.g. `skew`, `kurtosis`), the default behavior of `mode` typically preserves the axis it acts along. In SciPy 1.11.0, this behavior will change: the default value of `keepdims` will become False, the `axis` over which the statistic is taken will be eliminated, and the value None will no longer be accepted. Set `keepdims` to True or False to avoid this warning.\n",
      "/home/michal/.local/lib/python3.10/site-packages/sklearn/preprocessing/_data.py:3237: RuntimeWarning: divide by zero encountered in log\n",
      "/home/michal/.local/lib/python3.10/site-packages/sklearn/neighbors/_classification.py:211: FutureWarning: Unlike other reduction functions (e.g. `skew`, `kurtosis`), the default behavior of `mode` typically preserves the axis it acts along. In SciPy 1.11.0, this behavior will change: the default value of `keepdims` will become False, the `axis` over which the statistic is taken will be eliminated, and the value None will no longer be accepted. Set `keepdims` to True or False to avoid this warning.\n",
      "/home/michal/.local/lib/python3.10/site-packages/sklearn/preprocessing/_data.py:3237: RuntimeWarning: divide by zero encountered in log\n",
      "/home/michal/.local/lib/python3.10/site-packages/sklearn/neighbors/_classification.py:211: FutureWarning: Unlike other reduction functions (e.g. `skew`, `kurtosis`), the default behavior of `mode` typically preserves the axis it acts along. In SciPy 1.11.0, this behavior will change: the default value of `keepdims` will become False, the `axis` over which the statistic is taken will be eliminated, and the value None will no longer be accepted. Set `keepdims` to True or False to avoid this warning.\n",
      "/home/michal/.local/lib/python3.10/site-packages/sklearn/preprocessing/_data.py:3237: RuntimeWarning: divide by zero encountered in log\n",
      "/home/michal/.local/lib/python3.10/site-packages/sklearn/neighbors/_classification.py:211: FutureWarning: Unlike other reduction functions (e.g. `skew`, `kurtosis`), the default behavior of `mode` typically preserves the axis it acts along. In SciPy 1.11.0, this behavior will change: the default value of `keepdims` will become False, the `axis` over which the statistic is taken will be eliminated, and the value None will no longer be accepted. Set `keepdims` to True or False to avoid this warning.\n",
      "/home/michal/.local/lib/python3.10/site-packages/sklearn/preprocessing/_data.py:3237: RuntimeWarning: divide by zero encountered in log\n",
      "/home/michal/.local/lib/python3.10/site-packages/sklearn/neighbors/_classification.py:211: FutureWarning: Unlike other reduction functions (e.g. `skew`, `kurtosis`), the default behavior of `mode` typically preserves the axis it acts along. In SciPy 1.11.0, this behavior will change: the default value of `keepdims` will become False, the `axis` over which the statistic is taken will be eliminated, and the value None will no longer be accepted. Set `keepdims` to True or False to avoid this warning.\n",
      "/home/michal/.local/lib/python3.10/site-packages/sklearn/preprocessing/_data.py:3237: RuntimeWarning: divide by zero encountered in log\n",
      "/home/michal/.local/lib/python3.10/site-packages/sklearn/neighbors/_classification.py:211: FutureWarning: Unlike other reduction functions (e.g. `skew`, `kurtosis`), the default behavior of `mode` typically preserves the axis it acts along. In SciPy 1.11.0, this behavior will change: the default value of `keepdims` will become False, the `axis` over which the statistic is taken will be eliminated, and the value None will no longer be accepted. Set `keepdims` to True or False to avoid this warning.\n",
      "/home/michal/.local/lib/python3.10/site-packages/sklearn/preprocessing/_data.py:3237: RuntimeWarning: divide by zero encountered in log\n",
      "/home/michal/.local/lib/python3.10/site-packages/sklearn/neighbors/_classification.py:211: FutureWarning: Unlike other reduction functions (e.g. `skew`, `kurtosis`), the default behavior of `mode` typically preserves the axis it acts along. In SciPy 1.11.0, this behavior will change: the default value of `keepdims` will become False, the `axis` over which the statistic is taken will be eliminated, and the value None will no longer be accepted. Set `keepdims` to True or False to avoid this warning.\n",
      "/home/michal/.local/lib/python3.10/site-packages/sklearn/preprocessing/_data.py:3237: RuntimeWarning: divide by zero encountered in log\n",
      "/home/michal/.local/lib/python3.10/site-packages/sklearn/neighbors/_classification.py:211: FutureWarning: Unlike other reduction functions (e.g. `skew`, `kurtosis`), the default behavior of `mode` typically preserves the axis it acts along. In SciPy 1.11.0, this behavior will change: the default value of `keepdims` will become False, the `axis` over which the statistic is taken will be eliminated, and the value None will no longer be accepted. Set `keepdims` to True or False to avoid this warning.\n",
      "/home/michal/.local/lib/python3.10/site-packages/sklearn/preprocessing/_data.py:3237: RuntimeWarning: divide by zero encountered in log\n"
     ]
    },
    {
     "name": "stdout",
     "output_type": "stream",
     "text": [
      "PowerTransformed_KNN: 0.530943 (0.022480)\n"
     ]
    },
    {
     "name": "stderr",
     "output_type": "stream",
     "text": [
      "/home/michal/.local/lib/python3.10/site-packages/sklearn/preprocessing/_data.py:3237: RuntimeWarning: divide by zero encountered in log\n",
      "/home/michal/.local/lib/python3.10/site-packages/sklearn/preprocessing/_data.py:3237: RuntimeWarning: divide by zero encountered in log\n",
      "/home/michal/.local/lib/python3.10/site-packages/sklearn/preprocessing/_data.py:3237: RuntimeWarning: divide by zero encountered in log\n",
      "/home/michal/.local/lib/python3.10/site-packages/sklearn/preprocessing/_data.py:3237: RuntimeWarning: divide by zero encountered in log\n",
      "/home/michal/.local/lib/python3.10/site-packages/sklearn/preprocessing/_data.py:3237: RuntimeWarning: divide by zero encountered in log\n",
      "/home/michal/.local/lib/python3.10/site-packages/sklearn/preprocessing/_data.py:3237: RuntimeWarning: divide by zero encountered in log\n",
      "/home/michal/.local/lib/python3.10/site-packages/sklearn/preprocessing/_data.py:3237: RuntimeWarning: divide by zero encountered in log\n",
      "/home/michal/.local/lib/python3.10/site-packages/sklearn/preprocessing/_data.py:3237: RuntimeWarning: divide by zero encountered in log\n",
      "/home/michal/.local/lib/python3.10/site-packages/sklearn/preprocessing/_data.py:3237: RuntimeWarning: divide by zero encountered in log\n"
     ]
    },
    {
     "name": "stdout",
     "output_type": "stream",
     "text": [
      "PowerTransformed_CART: 0.493756 (0.029528)\n"
     ]
    },
    {
     "name": "stderr",
     "output_type": "stream",
     "text": [
      "/home/michal/.local/lib/python3.10/site-packages/sklearn/preprocessing/_data.py:3237: RuntimeWarning: divide by zero encountered in log\n",
      "/home/michal/.local/lib/python3.10/site-packages/sklearn/preprocessing/_data.py:3237: RuntimeWarning: divide by zero encountered in log\n",
      "/home/michal/.local/lib/python3.10/site-packages/sklearn/preprocessing/_data.py:3237: RuntimeWarning: divide by zero encountered in log\n",
      "/home/michal/.local/lib/python3.10/site-packages/sklearn/preprocessing/_data.py:3237: RuntimeWarning: divide by zero encountered in log\n",
      "/home/michal/.local/lib/python3.10/site-packages/sklearn/preprocessing/_data.py:3237: RuntimeWarning: divide by zero encountered in log\n",
      "/home/michal/.local/lib/python3.10/site-packages/sklearn/preprocessing/_data.py:3237: RuntimeWarning: divide by zero encountered in log\n",
      "/home/michal/.local/lib/python3.10/site-packages/sklearn/preprocessing/_data.py:3237: RuntimeWarning: divide by zero encountered in log\n",
      "/home/michal/.local/lib/python3.10/site-packages/sklearn/preprocessing/_data.py:3237: RuntimeWarning: divide by zero encountered in log\n",
      "/home/michal/.local/lib/python3.10/site-packages/sklearn/preprocessing/_data.py:3237: RuntimeWarning: divide by zero encountered in log\n",
      "/home/michal/.local/lib/python3.10/site-packages/sklearn/preprocessing/_data.py:3237: RuntimeWarning: divide by zero encountered in log\n",
      "/home/michal/.local/lib/python3.10/site-packages/sklearn/preprocessing/_data.py:3237: RuntimeWarning: divide by zero encountered in log\n"
     ]
    },
    {
     "name": "stdout",
     "output_type": "stream",
     "text": [
      "PowerTransformed_NB: 0.588469 (0.032006)\n"
     ]
    },
    {
     "name": "stderr",
     "output_type": "stream",
     "text": [
      "/home/michal/.local/lib/python3.10/site-packages/sklearn/preprocessing/_data.py:3237: RuntimeWarning: divide by zero encountered in log\n",
      "/home/michal/.local/lib/python3.10/site-packages/sklearn/preprocessing/_data.py:3237: RuntimeWarning: divide by zero encountered in log\n",
      "/home/michal/.local/lib/python3.10/site-packages/sklearn/preprocessing/_data.py:3237: RuntimeWarning: divide by zero encountered in log\n",
      "/home/michal/.local/lib/python3.10/site-packages/sklearn/preprocessing/_data.py:3237: RuntimeWarning: divide by zero encountered in log\n",
      "/home/michal/.local/lib/python3.10/site-packages/sklearn/preprocessing/_data.py:3237: RuntimeWarning: divide by zero encountered in log\n",
      "/home/michal/.local/lib/python3.10/site-packages/sklearn/preprocessing/_data.py:3237: RuntimeWarning: divide by zero encountered in log\n",
      "/home/michal/.local/lib/python3.10/site-packages/sklearn/preprocessing/_data.py:3237: RuntimeWarning: divide by zero encountered in log\n",
      "/home/michal/.local/lib/python3.10/site-packages/sklearn/preprocessing/_data.py:3237: RuntimeWarning: divide by zero encountered in log\n",
      "/home/michal/.local/lib/python3.10/site-packages/sklearn/preprocessing/_data.py:3237: RuntimeWarning: divide by zero encountered in log\n"
     ]
    },
    {
     "name": "stdout",
     "output_type": "stream",
     "text": [
      "PowerTransformed_SVM: 0.590805 (0.020346)\n"
     ]
    }
   ],
   "source": [
    "# PowerTransformer(yeo-johnson = default)\n",
    "pipelines = []\n",
    "pipelines.append(('PowerTransformed_LR', Pipeline([('Transformer', PowerTransformer()),('LR', LogisticRegression())])))\n",
    "pipelines.append(('PowerTransformed_LDA', Pipeline([('Transformer', PowerTransformer()),('LDA', LinearDiscriminantAnalysis())])))\n",
    "pipelines.append(('PowerTransformed_KNN', Pipeline([('Transformer', PowerTransformer()),('KNN', KNeighborsClassifier())])))\n",
    "pipelines.append(('PowerTransformed_CART', Pipeline([('Transformer', PowerTransformer()),('CART', DecisionTreeClassifier())])))\n",
    "pipelines.append(('PowerTransformed_NB', Pipeline([('Transformer', PowerTransformer()),('NB', GaussianNB())])))\n",
    "pipelines.append(('PowerTransformed_SVM', Pipeline([('Transformer', PowerTransformer()),('SVM', SVC())])))\n",
    "results = []\n",
    "names = []\n",
    "for name, model in pipelines:\n",
    "    kfold = KFold(n_splits=num_folds, shuffle=False, random_state=None)\n",
    "    cv_results = cross_val_score(model, X, y, cv=kfold, scoring=scoring)\n",
    "    results.append(cv_results)\n",
    "    names.append(name)\n",
    "    msg = \"%s: %f (%f)\" % (name, cv_results.mean(), cv_results.std())\n",
    "    print(msg)"
   ]
  },
  {
   "cell_type": "code",
   "execution_count": 819,
   "metadata": {},
   "outputs": [
    {
     "data": {
      "image/png": "[encoded data removed]",
      "text/plain": [
       "<Figure size 1152x648 with 1 Axes>"
      ]
     },
     "metadata": {
      "needs_background": "light"
     },
     "output_type": "display_data"
    }
   ],
   "source": [
    "# Compare Algorithms\n",
    "fig = plt.figure()\n",
    "fig.suptitle('Transformed Algorithm Comparison')\n",
    "ax = fig.add_subplot(111)\n",
    "plt.boxplot(results)\n",
    "ax.set_xticklabels(names)\n",
    "plt.show()"
   ]
  },
  {
   "cell_type": "code",
   "execution_count": 820,
   "metadata": {
    "scrolled": true
   },
   "outputs": [
    {
     "name": "stdout",
     "output_type": "stream",
     "text": [
      "MM_&_PT_LR: 0.602717 (0.030522)\n",
      "MM_&_PT_LDA: 0.601553 (0.031337)\n"
     ]
    },
    {
     "name": "stderr",
     "output_type": "stream",
     "text": [
      "/home/michal/.local/lib/python3.10/site-packages/sklearn/neighbors/_classification.py:211: FutureWarning: Unlike other reduction functions (e.g. `skew`, `kurtosis`), the default behavior of `mode` typically preserves the axis it acts along. In SciPy 1.11.0, this behavior will change: the default value of `keepdims` will become False, the `axis` over which the statistic is taken will be eliminated, and the value None will no longer be accepted. Set `keepdims` to True or False to avoid this warning.\n",
      "/home/michal/.local/lib/python3.10/site-packages/sklearn/neighbors/_classification.py:211: FutureWarning: Unlike other reduction functions (e.g. `skew`, `kurtosis`), the default behavior of `mode` typically preserves the axis it acts along. In SciPy 1.11.0, this behavior will change: the default value of `keepdims` will become False, the `axis` over which the statistic is taken will be eliminated, and the value None will no longer be accepted. Set `keepdims` to True or False to avoid this warning.\n",
      "/home/michal/.local/lib/python3.10/site-packages/sklearn/neighbors/_classification.py:211: FutureWarning: Unlike other reduction functions (e.g. `skew`, `kurtosis`), the default behavior of `mode` typically preserves the axis it acts along. In SciPy 1.11.0, this behavior will change: the default value of `keepdims` will become False, the `axis` over which the statistic is taken will be eliminated, and the value None will no longer be accepted. Set `keepdims` to True or False to avoid this warning.\n",
      "/home/michal/.local/lib/python3.10/site-packages/sklearn/neighbors/_classification.py:211: FutureWarning: Unlike other reduction functions (e.g. `skew`, `kurtosis`), the default behavior of `mode` typically preserves the axis it acts along. In SciPy 1.11.0, this behavior will change: the default value of `keepdims` will become False, the `axis` over which the statistic is taken will be eliminated, and the value None will no longer be accepted. Set `keepdims` to True or False to avoid this warning.\n",
      "/home/michal/.local/lib/python3.10/site-packages/sklearn/neighbors/_classification.py:211: FutureWarning: Unlike other reduction functions (e.g. `skew`, `kurtosis`), the default behavior of `mode` typically preserves the axis it acts along. In SciPy 1.11.0, this behavior will change: the default value of `keepdims` will become False, the `axis` over which the statistic is taken will be eliminated, and the value None will no longer be accepted. Set `keepdims` to True or False to avoid this warning.\n",
      "/home/michal/.local/lib/python3.10/site-packages/sklearn/neighbors/_classification.py:211: FutureWarning: Unlike other reduction functions (e.g. `skew`, `kurtosis`), the default behavior of `mode` typically preserves the axis it acts along. In SciPy 1.11.0, this behavior will change: the default value of `keepdims` will become False, the `axis` over which the statistic is taken will be eliminated, and the value None will no longer be accepted. Set `keepdims` to True or False to avoid this warning.\n",
      "/home/michal/.local/lib/python3.10/site-packages/sklearn/neighbors/_classification.py:211: FutureWarning: Unlike other reduction functions (e.g. `skew`, `kurtosis`), the default behavior of `mode` typically preserves the axis it acts along. In SciPy 1.11.0, this behavior will change: the default value of `keepdims` will become False, the `axis` over which the statistic is taken will be eliminated, and the value None will no longer be accepted. Set `keepdims` to True or False to avoid this warning.\n",
      "/home/michal/.local/lib/python3.10/site-packages/sklearn/neighbors/_classification.py:211: FutureWarning: Unlike other reduction functions (e.g. `skew`, `kurtosis`), the default behavior of `mode` typically preserves the axis it acts along. In SciPy 1.11.0, this behavior will change: the default value of `keepdims` will become False, the `axis` over which the statistic is taken will be eliminated, and the value None will no longer be accepted. Set `keepdims` to True or False to avoid this warning.\n",
      "/home/michal/.local/lib/python3.10/site-packages/sklearn/neighbors/_classification.py:211: FutureWarning: Unlike other reduction functions (e.g. `skew`, `kurtosis`), the default behavior of `mode` typically preserves the axis it acts along. In SciPy 1.11.0, this behavior will change: the default value of `keepdims` will become False, the `axis` over which the statistic is taken will be eliminated, and the value None will no longer be accepted. Set `keepdims` to True or False to avoid this warning.\n",
      "/home/michal/.local/lib/python3.10/site-packages/sklearn/neighbors/_classification.py:211: FutureWarning: Unlike other reduction functions (e.g. `skew`, `kurtosis`), the default behavior of `mode` typically preserves the axis it acts along. In SciPy 1.11.0, this behavior will change: the default value of `keepdims` will become False, the `axis` over which the statistic is taken will be eliminated, and the value None will no longer be accepted. Set `keepdims` to True or False to avoid this warning.\n"
     ]
    },
    {
     "name": "stdout",
     "output_type": "stream",
     "text": [
      "MM_&_PT_KNN: 0.538206 (0.027707)\n",
      "MM_&_PT_CART: 0.491138 (0.028809)\n",
      "MM_&_PT_NB: 0.594000 (0.030922)\n",
      "MM_&_PT_SVM: 0.596036 (0.030483)\n"
     ]
    }
   ],
   "source": [
    "# PowerTransformer(box-cox)\n",
    "pipelines = []\n",
    "pipelines.append(('MM_&_PT_LR', Pipeline([('Scaler', MinMaxScaler(feature_range=(1, 2))), ('Transformer', PowerTransformer(method='box-cox')),('LR', LogisticRegression())])))\n",
    "pipelines.append(('MM_&_PT_LDA', Pipeline([('Scaler', MinMaxScaler(feature_range=(1, 2))), ('Transformer', PowerTransformer(method='box-cox')),('LDA', LinearDiscriminantAnalysis())])))\n",
    "pipelines.append(('MM_&_PT_KNN', Pipeline([('Scaler', MinMaxScaler(feature_range=(1, 2))), ('Transformer', PowerTransformer(method='box-cox')),('KNN', KNeighborsClassifier())])))\n",
    "pipelines.append(('MM_&_PT_CART', Pipeline([('Scaler', MinMaxScaler(feature_range=(1, 2))), ('Transformer', PowerTransformer(method='box-cox')),('CART', DecisionTreeClassifier())])))\n",
    "pipelines.append(('MM_&_PT_NB', Pipeline([('Scaler', MinMaxScaler(feature_range=(1, 2))), ('Transformer', PowerTransformer(method='box-cox')),('NB', GaussianNB())])))\n",
    "pipelines.append(('MM_&_PT_SVM', Pipeline([('Scaler', MinMaxScaler(feature_range=(1, 2))), ('Transformer', PowerTransformer(method='box-cox')),('SVM', SVC())])))\n",
    "results = []\n",
    "names = []\n",
    "for name, model in pipelines:\n",
    "    kfold = KFold(n_splits=num_folds, shuffle=False, random_state=None)\n",
    "    cv_results = cross_val_score(model, X_train, y_train.values.ravel(), cv=kfold, scoring=scoring)\n",
    "    results.append(cv_results)\n",
    "    names.append(name)\n",
    "    msg = \"%s: %f (%f)\" % (name, cv_results.mean(), cv_results.std())\n",
    "    print(msg)"
   ]
  },
  {
   "cell_type": "code",
   "execution_count": 821,
   "metadata": {},
   "outputs": [
    {
     "data": {
      "image/png": "[encoded data removed]",
      "text/plain": [
       "<Figure size 1152x648 with 1 Axes>"
      ]
     },
     "metadata": {
      "needs_background": "light"
     },
     "output_type": "display_data"
    }
   ],
   "source": [
    "# Compare Algorithms\n",
    "fig = plt.figure()\n",
    "fig.suptitle('Scaled & Transformed Algorithms Comparison')\n",
    "ax = fig.add_subplot(111)\n",
    "plt.boxplot(results)\n",
    "ax.set_xticklabels(names)\n",
    "plt.show()"
   ]
  },
  {
   "cell_type": "markdown",
   "metadata": {},
   "source": [
    "outliers detection\n",
    "\n",
    "evaluate with deleted\n",
    "\n",
    "imput outliers and evaluate\n",
    "\n",
    "_\n",
    "\n",
    "\n",
    "imput missing targets, check balance, evaluate with best algorythm, validate "
   ]
  },
  {
   "cell_type": "code",
   "execution_count": null,
   "metadata": {},
   "outputs": [],
   "source": []
  },
  {
   "cell_type": "code",
   "execution_count": null,
   "metadata": {},
   "outputs": [],
   "source": []
  },
  {
   "cell_type": "markdown",
   "metadata": {},
   "source": [
    "### LogisticRegression - metrics"
   ]
  },
  {
   "cell_type": "code",
   "execution_count": null,
   "metadata": {
    "scrolled": false
   },
   "outputs": [],
   "source": [
    "print(classification_report(y_train, lr_y_pred_train))\n",
    "print(classification_report(y_test, lr_y_pred))"
   ]
  },
  {
   "cell_type": "markdown",
   "metadata": {},
   "source": [
    "### LogisticRegression - confusion matrix"
   ]
  },
  {
   "cell_type": "code",
   "execution_count": null,
   "metadata": {},
   "outputs": [],
   "source": [
    "# from sklearn.metrics import confusion_matrix\n",
    "# import seaborn as sns\n",
    "# %matplotlib inline\n",
    "\n",
    "lr_cm_train = confusion_matrix(y_train, lr_y_pred_train)\n",
    "sns.heatmap(lr_cm_train, annot=True, fmt='d')\n",
    "plt.show()"
   ]
  },
  {
   "cell_type": "code",
   "execution_count": 372,
   "metadata": {},
   "outputs": [
    {
     "ename": "NameError",
     "evalue": "name 'lr_cm_train' is not defined",
     "output_type": "error",
     "traceback": [
      "\u001b[0;31m---------------------------------------------------------------------------\u001b[0m",
      "\u001b[0;31mNameError\u001b[0m                                 Traceback (most recent call last)",
      "Input \u001b[0;32mIn [372]\u001b[0m, in \u001b[0;36m<cell line: 1>\u001b[0;34m()\u001b[0m\n\u001b[0;32m----> 1\u001b[0m \u001b[43mlr_cm_train\u001b[49m\n",
      "\u001b[0;31mNameError\u001b[0m: name 'lr_cm_train' is not defined"
     ]
    }
   ],
   "source": [
    "lr_cm_train"
   ]
  },
  {
   "cell_type": "code",
   "execution_count": 373,
   "metadata": {},
   "outputs": [
    {
     "ename": "NameError",
     "evalue": "name 'lr_y_pred' is not defined",
     "output_type": "error",
     "traceback": [
      "\u001b[0;31m---------------------------------------------------------------------------\u001b[0m",
      "\u001b[0;31mNameError\u001b[0m                                 Traceback (most recent call last)",
      "Input \u001b[0;32mIn [373]\u001b[0m, in \u001b[0;36m<cell line: 1>\u001b[0;34m()\u001b[0m\n\u001b[0;32m----> 1\u001b[0m lr_cm \u001b[38;5;241m=\u001b[39m confusion_matrix(y_test, \u001b[43mlr_y_pred\u001b[49m)\n\u001b[1;32m      2\u001b[0m sns\u001b[38;5;241m.\u001b[39mheatmap(lr_cm, annot\u001b[38;5;241m=\u001b[39m\u001b[38;5;28;01mTrue\u001b[39;00m, fmt\u001b[38;5;241m=\u001b[39m\u001b[38;5;124m'\u001b[39m\u001b[38;5;124md\u001b[39m\u001b[38;5;124m'\u001b[39m)\n",
      "\u001b[0;31mNameError\u001b[0m: name 'lr_y_pred' is not defined"
     ]
    }
   ],
   "source": [
    "lr_cm = confusion_matrix(y_test, lr_y_pred)\n",
    "sns.heatmap(lr_cm, annot=True, fmt='d')"
   ]
  },
  {
   "cell_type": "code",
   "execution_count": 374,
   "metadata": {},
   "outputs": [
    {
     "ename": "NameError",
     "evalue": "name 'lr_cm' is not defined",
     "output_type": "error",
     "traceback": [
      "\u001b[0;31m---------------------------------------------------------------------------\u001b[0m",
      "\u001b[0;31mNameError\u001b[0m                                 Traceback (most recent call last)",
      "Input \u001b[0;32mIn [374]\u001b[0m, in \u001b[0;36m<cell line: 1>\u001b[0;34m()\u001b[0m\n\u001b[0;32m----> 1\u001b[0m \u001b[43mlr_cm\u001b[49m\n",
      "\u001b[0;31mNameError\u001b[0m: name 'lr_cm' is not defined"
     ]
    }
   ],
   "source": [
    "lr_cm"
   ]
  },
  {
   "cell_type": "code",
   "execution_count": 375,
   "metadata": {
    "scrolled": false
   },
   "outputs": [
    {
     "ename": "NameError",
     "evalue": "name 'lr_clf' is not defined",
     "output_type": "error",
     "traceback": [
      "\u001b[0;31m---------------------------------------------------------------------------\u001b[0m",
      "\u001b[0;31mNameError\u001b[0m                                 Traceback (most recent call last)",
      "Input \u001b[0;32mIn [375]\u001b[0m, in \u001b[0;36m<cell line: 1>\u001b[0;34m()\u001b[0m\n\u001b[0;32m----> 1\u001b[0m metrics\u001b[38;5;241m.\u001b[39mplot_roc_curve(\u001b[43mlr_clf\u001b[49m, X_train, y_train)\n\u001b[1;32m      2\u001b[0m plt\u001b[38;5;241m.\u001b[39mshow()\n",
      "\u001b[0;31mNameError\u001b[0m: name 'lr_clf' is not defined"
     ]
    }
   ],
   "source": [
    "metrics.plot_roc_curve(lr_clf, X_train, y_train)\n",
    "plt.show()"
   ]
  },
  {
   "cell_type": "code",
   "execution_count": 376,
   "metadata": {},
   "outputs": [
    {
     "ename": "AttributeError",
     "evalue": "type object 'RocCurveDisplay' has no attribute 'from_estimator'",
     "output_type": "error",
     "traceback": [
      "\u001b[0;31m---------------------------------------------------------------------------\u001b[0m",
      "\u001b[0;31mAttributeError\u001b[0m                            Traceback (most recent call last)",
      "Input \u001b[0;32mIn [376]\u001b[0m, in \u001b[0;36m<cell line: 1>\u001b[0;34m()\u001b[0m\n\u001b[0;32m----> 1\u001b[0m \u001b[43mRocCurveDisplay\u001b[49m\u001b[38;5;241;43m.\u001b[39;49m\u001b[43mfrom_estimator\u001b[49m(lr_clf, X_test, y_test)\n\u001b[1;32m      2\u001b[0m plt\u001b[38;5;241m.\u001b[39mshow()\n",
      "\u001b[0;31mAttributeError\u001b[0m: type object 'RocCurveDisplay' has no attribute 'from_estimator'"
     ]
    }
   ],
   "source": [
    "RocCurveDisplay.from_estimator(lr_clf, X_test, y_test)\n",
    "plt.show()\n",
    "\n",
    "# or\n",
    "\n",
    "# metrics.plot_roc_curve(lr_clf, X_test, y_test)\n",
    "# plt.show()"
   ]
  },
  {
   "cell_type": "code",
   "execution_count": 377,
   "metadata": {},
   "outputs": [
    {
     "ename": "AttributeError",
     "evalue": "type object 'RocCurveDisplay' has no attribute 'from_predictions'",
     "output_type": "error",
     "traceback": [
      "\u001b[0;31m---------------------------------------------------------------------------\u001b[0m",
      "\u001b[0;31mAttributeError\u001b[0m                            Traceback (most recent call last)",
      "Input \u001b[0;32mIn [377]\u001b[0m, in \u001b[0;36m<cell line: 1>\u001b[0;34m()\u001b[0m\n\u001b[0;32m----> 1\u001b[0m \u001b[43mRocCurveDisplay\u001b[49m\u001b[38;5;241;43m.\u001b[39;49m\u001b[43mfrom_predictions\u001b[49m(y_test, lr_y_pred)\n\u001b[1;32m      2\u001b[0m plt\u001b[38;5;241m.\u001b[39mshow()\n",
      "\u001b[0;31mAttributeError\u001b[0m: type object 'RocCurveDisplay' has no attribute 'from_predictions'"
     ]
    }
   ],
   "source": [
    "RocCurveDisplay.from_predictions(y_test, lr_y_pred)\n",
    "plt.show()"
   ]
  },
  {
   "cell_type": "markdown",
   "metadata": {},
   "source": [
    "WNIOSKI:\n",
    "- Porownujac metryki wynika ze model jest stabilny - metryki zblizone- \n",
    "- Metryki na dość niskim poziomie\n",
    "- Do poprawy metryk: \n",
    "    - uzupelnienie brakującyh wartości tragetu,  \n",
    "    - zastosować skalowanie (w tym przypadku standardscaler)"
   ]
  },
  {
   "cell_type": "markdown",
   "metadata": {},
   "source": [
    "# Outliers"
   ]
  },
  {
   "cell_type": "code",
   "execution_count": 817,
   "metadata": {
    "scrolled": false
   },
   "outputs": [
    {
     "data": {
      "text/html": [
       "<div>\n",
       "<style scoped>\n",
       "    .dataframe tbody tr th:only-of-type {\n",
       "        vertical-align: middle;\n",
       "    }\n",
       "\n",
       "    .dataframe tbody tr th {\n",
       "        vertical-align: top;\n",
       "    }\n",
       "\n",
       "    .dataframe thead th {\n",
       "        text-align: right;\n",
       "    }\n",
       "</style>\n",
       "<table border=\"1\" class=\"dataframe\">\n",
       "  <thead>\n",
       "    <tr style=\"text-align: right;\">\n",
       "      <th></th>\n",
       "      <th>TotalWorkingYears</th>\n",
       "      <th>YearsAtCompany</th>\n",
       "      <th>YearsInCurrentRole</th>\n",
       "      <th>YearsSinceLastPromotion</th>\n",
       "      <th>YearsWithCurrManager</th>\n",
       "    </tr>\n",
       "  </thead>\n",
       "  <tbody>\n",
       "    <tr>\n",
       "      <th>count</th>\n",
       "      <td>3559.000000</td>\n",
       "      <td>3559.000000</td>\n",
       "      <td>3559.000000</td>\n",
       "      <td>3559.000000</td>\n",
       "      <td>3559.000000</td>\n",
       "    </tr>\n",
       "    <tr>\n",
       "      <th>mean</th>\n",
       "      <td>350.974431</td>\n",
       "      <td>307.120539</td>\n",
       "      <td>368.274515</td>\n",
       "      <td>391.479629</td>\n",
       "      <td>297.511099</td>\n",
       "    </tr>\n",
       "    <tr>\n",
       "      <th>std</th>\n",
       "      <td>1504.538734</td>\n",
       "      <td>1367.899346</td>\n",
       "      <td>1492.360845</td>\n",
       "      <td>1573.073736</td>\n",
       "      <td>1346.055950</td>\n",
       "    </tr>\n",
       "    <tr>\n",
       "      <th>min</th>\n",
       "      <td>0.000000</td>\n",
       "      <td>0.000000</td>\n",
       "      <td>0.000000</td>\n",
       "      <td>0.000000</td>\n",
       "      <td>0.000000</td>\n",
       "    </tr>\n",
       "    <tr>\n",
       "      <th>25%</th>\n",
       "      <td>6.000000</td>\n",
       "      <td>3.000000</td>\n",
       "      <td>2.000000</td>\n",
       "      <td>0.000000</td>\n",
       "      <td>2.000000</td>\n",
       "    </tr>\n",
       "    <tr>\n",
       "      <th>50%</th>\n",
       "      <td>10.000000</td>\n",
       "      <td>5.000000</td>\n",
       "      <td>3.000000</td>\n",
       "      <td>1.000000</td>\n",
       "      <td>3.000000</td>\n",
       "    </tr>\n",
       "    <tr>\n",
       "      <th>75%</th>\n",
       "      <td>17.000000</td>\n",
       "      <td>10.000000</td>\n",
       "      <td>7.000000</td>\n",
       "      <td>4.000000</td>\n",
       "      <td>7.000000</td>\n",
       "    </tr>\n",
       "    <tr>\n",
       "      <th>max</th>\n",
       "      <td>9939.000000</td>\n",
       "      <td>9984.000000</td>\n",
       "      <td>9937.000000</td>\n",
       "      <td>9952.000000</td>\n",
       "      <td>9882.000000</td>\n",
       "    </tr>\n",
       "  </tbody>\n",
       "</table>\n",
       "</div>"
      ],
      "text/plain": [
       "       TotalWorkingYears  YearsAtCompany  YearsInCurrentRole  \\\n",
       "count        3559.000000     3559.000000         3559.000000   \n",
       "mean          350.974431      307.120539          368.274515   \n",
       "std          1504.538734     1367.899346         1492.360845   \n",
       "min             0.000000        0.000000            0.000000   \n",
       "25%             6.000000        3.000000            2.000000   \n",
       "50%            10.000000        5.000000            3.000000   \n",
       "75%            17.000000       10.000000            7.000000   \n",
       "max          9939.000000     9984.000000         9937.000000   \n",
       "\n",
       "       YearsSinceLastPromotion  YearsWithCurrManager  \n",
       "count              3559.000000           3559.000000  \n",
       "mean                391.479629            297.511099  \n",
       "std                1573.073736           1346.055950  \n",
       "min                   0.000000              0.000000  \n",
       "25%                   0.000000              2.000000  \n",
       "50%                   1.000000              3.000000  \n",
       "75%                   4.000000              7.000000  \n",
       "max                9952.000000           9882.000000  "
      ]
     },
     "execution_count": 817,
     "metadata": {},
     "output_type": "execute_result"
    }
   ],
   "source": [
    "outlier_columns = [\n",
    "    'TotalWorkingYears', \n",
    "    'YearsAtCompany' , \n",
    "    'YearsInCurrentRole', \n",
    "    'YearsSinceLastPromotion' , \n",
    "    'YearsWithCurrManager'\n",
    "]\n",
    "X_train_outliers = X_train[outlier_columns]\n",
    "X_train_outliers.describe()"
   ]
  },
  {
   "cell_type": "markdown",
   "metadata": {},
   "source": [
    "MinMax or StandardScaler are sensitive to outliers high value. \n",
    "\n",
    "Better to use RobustScaler or PowerTransformer. For education decided to use PowerTransformer.\n",
    "\n",
    "\n",
    "Source:\n",
    "https://scikit-learn.org/stable/auto_examples/preprocessing/plot_all_scaling.html#sphx-glr-auto-examples-preprocessing-plot-all-scaling-py"
   ]
  },
  {
   "cell_type": "markdown",
   "metadata": {},
   "source": [
    "### BOX plot"
   ]
  },
  {
   "cell_type": "code",
   "execution_count": 818,
   "metadata": {
    "scrolled": false
   },
   "outputs": [
    {
     "data": {
      "image/png": "[encoded data removed]",
      "text/plain": [
       "<Figure size 936x936 with 1 Axes>"
      ]
     },
     "metadata": {
      "needs_background": "light"
     },
     "output_type": "display_data"
    }
   ],
   "source": [
    "# sns.boxplot(data=outlier_df, x=outlier_df.columns)\n",
    "# sns.boxplot(x=outlier_df.columns)\n",
    "ax = sns.boxplot(data=X_train_outliers, orient=\"v\", showfliers=True)\n",
    "# ax.set_ylim()\n",
    "ax.set_yscale(\"log\")\n",
    "plt.grid(visible=True, which='major', axis='both')"
   ]
  },
  {
   "cell_type": "code",
   "execution_count": 819,
   "metadata": {},
   "outputs": [
    {
     "data": {
      "text/html": [
       "<div>\n",
       "<style scoped>\n",
       "    .dataframe tbody tr th:only-of-type {\n",
       "        vertical-align: middle;\n",
       "    }\n",
       "\n",
       "    .dataframe tbody tr th {\n",
       "        vertical-align: top;\n",
       "    }\n",
       "\n",
       "    .dataframe thead th {\n",
       "        text-align: right;\n",
       "    }\n",
       "</style>\n",
       "<table border=\"1\" class=\"dataframe\">\n",
       "  <thead>\n",
       "    <tr style=\"text-align: right;\">\n",
       "      <th></th>\n",
       "      <th>TotalWorkingYears</th>\n",
       "      <th>YearsAtCompany</th>\n",
       "      <th>YearsInCurrentRole</th>\n",
       "      <th>YearsSinceLastPromotion</th>\n",
       "      <th>YearsWithCurrManager</th>\n",
       "    </tr>\n",
       "  </thead>\n",
       "  <tbody>\n",
       "    <tr>\n",
       "      <th>4</th>\n",
       "      <td>10.0</td>\n",
       "      <td>4.0</td>\n",
       "      <td>0.0</td>\n",
       "      <td>5308.0</td>\n",
       "      <td>3.0</td>\n",
       "    </tr>\n",
       "    <tr>\n",
       "      <th>5</th>\n",
       "      <td>6.0</td>\n",
       "      <td>5.0</td>\n",
       "      <td>3.0</td>\n",
       "      <td>4.0</td>\n",
       "      <td>1067.0</td>\n",
       "    </tr>\n",
       "    <tr>\n",
       "      <th>6</th>\n",
       "      <td>14.0</td>\n",
       "      <td>14.0</td>\n",
       "      <td>8.0</td>\n",
       "      <td>9.0</td>\n",
       "      <td>5168.0</td>\n",
       "    </tr>\n",
       "    <tr>\n",
       "      <th>9</th>\n",
       "      <td>6.0</td>\n",
       "      <td>6.0</td>\n",
       "      <td>3683.0</td>\n",
       "      <td>1.0</td>\n",
       "      <td>5.0</td>\n",
       "    </tr>\n",
       "    <tr>\n",
       "      <th>10</th>\n",
       "      <td>12.0</td>\n",
       "      <td>5.0</td>\n",
       "      <td>3.0</td>\n",
       "      <td>2166.0</td>\n",
       "      <td>2.0</td>\n",
       "    </tr>\n",
       "    <tr>\n",
       "      <th>...</th>\n",
       "      <td>...</td>\n",
       "      <td>...</td>\n",
       "      <td>...</td>\n",
       "      <td>...</td>\n",
       "      <td>...</td>\n",
       "    </tr>\n",
       "    <tr>\n",
       "      <th>3543</th>\n",
       "      <td>3.0</td>\n",
       "      <td>2.0</td>\n",
       "      <td>1.0</td>\n",
       "      <td>0.0</td>\n",
       "      <td>6654.0</td>\n",
       "    </tr>\n",
       "    <tr>\n",
       "      <th>3544</th>\n",
       "      <td>5670.0</td>\n",
       "      <td>4.0</td>\n",
       "      <td>2.0</td>\n",
       "      <td>1.0</td>\n",
       "      <td>3.0</td>\n",
       "    </tr>\n",
       "    <tr>\n",
       "      <th>3549</th>\n",
       "      <td>7.0</td>\n",
       "      <td>3.0</td>\n",
       "      <td>4252.0</td>\n",
       "      <td>1.0</td>\n",
       "      <td>2.0</td>\n",
       "    </tr>\n",
       "    <tr>\n",
       "      <th>3552</th>\n",
       "      <td>8.0</td>\n",
       "      <td>4706.0</td>\n",
       "      <td>2.0</td>\n",
       "      <td>0.0</td>\n",
       "      <td>2.0</td>\n",
       "    </tr>\n",
       "    <tr>\n",
       "      <th>3557</th>\n",
       "      <td>5.0</td>\n",
       "      <td>5.0</td>\n",
       "      <td>3.0</td>\n",
       "      <td>6305.0</td>\n",
       "      <td>0.0</td>\n",
       "    </tr>\n",
       "  </tbody>\n",
       "</table>\n",
       "<p>1100 rows × 5 columns</p>\n",
       "</div>"
      ],
      "text/plain": [
       "      TotalWorkingYears  YearsAtCompany  YearsInCurrentRole  \\\n",
       "4                  10.0             4.0                 0.0   \n",
       "5                   6.0             5.0                 3.0   \n",
       "6                  14.0            14.0                 8.0   \n",
       "9                   6.0             6.0              3683.0   \n",
       "10                 12.0             5.0                 3.0   \n",
       "...                 ...             ...                 ...   \n",
       "3543                3.0             2.0                 1.0   \n",
       "3544             5670.0             4.0                 2.0   \n",
       "3549                7.0             3.0              4252.0   \n",
       "3552                8.0          4706.0                 2.0   \n",
       "3557                5.0             5.0                 3.0   \n",
       "\n",
       "      YearsSinceLastPromotion  YearsWithCurrManager  \n",
       "4                      5308.0                   3.0  \n",
       "5                         4.0                1067.0  \n",
       "6                         9.0                5168.0  \n",
       "9                         1.0                   5.0  \n",
       "10                     2166.0                   2.0  \n",
       "...                       ...                   ...  \n",
       "3543                      0.0                6654.0  \n",
       "3544                      1.0                   3.0  \n",
       "3549                      1.0                   2.0  \n",
       "3552                      0.0                   2.0  \n",
       "3557                   6305.0                   0.0  \n",
       "\n",
       "[1100 rows x 5 columns]"
      ]
     },
     "execution_count": 819,
     "metadata": {},
     "output_type": "execute_result"
    }
   ],
   "source": [
    "X_train_outliers[X_train_outliers.values > 100]"
   ]
  },
  {
   "cell_type": "markdown",
   "metadata": {},
   "source": [
    "### Outliers removal"
   ]
  },
  {
   "cell_type": "code",
   "execution_count": 820,
   "metadata": {},
   "outputs": [],
   "source": [
    "threshold = 100 # taken arbitraly looking at X_train_outliers box plot"
   ]
  },
  {
   "cell_type": "code",
   "execution_count": 822,
   "metadata": {
    "scrolled": false
   },
   "outputs": [
    {
     "data": {
      "text/html": [
       "<div>\n",
       "<style scoped>\n",
       "    .dataframe tbody tr th:only-of-type {\n",
       "        vertical-align: middle;\n",
       "    }\n",
       "\n",
       "    .dataframe tbody tr th {\n",
       "        vertical-align: top;\n",
       "    }\n",
       "\n",
       "    .dataframe thead th {\n",
       "        text-align: right;\n",
       "    }\n",
       "</style>\n",
       "<table border=\"1\" class=\"dataframe\">\n",
       "  <thead>\n",
       "    <tr style=\"text-align: right;\">\n",
       "      <th></th>\n",
       "      <th>TotalWorkingYears</th>\n",
       "      <th>YearsAtCompany</th>\n",
       "      <th>YearsInCurrentRole</th>\n",
       "      <th>YearsSinceLastPromotion</th>\n",
       "      <th>YearsWithCurrManager</th>\n",
       "    </tr>\n",
       "  </thead>\n",
       "  <tbody>\n",
       "    <tr>\n",
       "      <th>4</th>\n",
       "      <td>10.0</td>\n",
       "      <td>4.0</td>\n",
       "      <td>0.0</td>\n",
       "      <td>5308.0</td>\n",
       "      <td>3.0</td>\n",
       "    </tr>\n",
       "    <tr>\n",
       "      <th>5</th>\n",
       "      <td>6.0</td>\n",
       "      <td>5.0</td>\n",
       "      <td>3.0</td>\n",
       "      <td>4.0</td>\n",
       "      <td>1067.0</td>\n",
       "    </tr>\n",
       "    <tr>\n",
       "      <th>6</th>\n",
       "      <td>14.0</td>\n",
       "      <td>14.0</td>\n",
       "      <td>8.0</td>\n",
       "      <td>9.0</td>\n",
       "      <td>5168.0</td>\n",
       "    </tr>\n",
       "    <tr>\n",
       "      <th>9</th>\n",
       "      <td>6.0</td>\n",
       "      <td>6.0</td>\n",
       "      <td>3683.0</td>\n",
       "      <td>1.0</td>\n",
       "      <td>5.0</td>\n",
       "    </tr>\n",
       "    <tr>\n",
       "      <th>10</th>\n",
       "      <td>12.0</td>\n",
       "      <td>5.0</td>\n",
       "      <td>3.0</td>\n",
       "      <td>2166.0</td>\n",
       "      <td>2.0</td>\n",
       "    </tr>\n",
       "    <tr>\n",
       "      <th>...</th>\n",
       "      <td>...</td>\n",
       "      <td>...</td>\n",
       "      <td>...</td>\n",
       "      <td>...</td>\n",
       "      <td>...</td>\n",
       "    </tr>\n",
       "    <tr>\n",
       "      <th>3543</th>\n",
       "      <td>3.0</td>\n",
       "      <td>2.0</td>\n",
       "      <td>1.0</td>\n",
       "      <td>0.0</td>\n",
       "      <td>6654.0</td>\n",
       "    </tr>\n",
       "    <tr>\n",
       "      <th>3544</th>\n",
       "      <td>5670.0</td>\n",
       "      <td>4.0</td>\n",
       "      <td>2.0</td>\n",
       "      <td>1.0</td>\n",
       "      <td>3.0</td>\n",
       "    </tr>\n",
       "    <tr>\n",
       "      <th>3549</th>\n",
       "      <td>7.0</td>\n",
       "      <td>3.0</td>\n",
       "      <td>4252.0</td>\n",
       "      <td>1.0</td>\n",
       "      <td>2.0</td>\n",
       "    </tr>\n",
       "    <tr>\n",
       "      <th>3552</th>\n",
       "      <td>8.0</td>\n",
       "      <td>4706.0</td>\n",
       "      <td>2.0</td>\n",
       "      <td>0.0</td>\n",
       "      <td>2.0</td>\n",
       "    </tr>\n",
       "    <tr>\n",
       "      <th>3557</th>\n",
       "      <td>5.0</td>\n",
       "      <td>5.0</td>\n",
       "      <td>3.0</td>\n",
       "      <td>6305.0</td>\n",
       "      <td>0.0</td>\n",
       "    </tr>\n",
       "  </tbody>\n",
       "</table>\n",
       "<p>1100 rows × 5 columns</p>\n",
       "</div>"
      ],
      "text/plain": [
       "      TotalWorkingYears  YearsAtCompany  YearsInCurrentRole  \\\n",
       "4                  10.0             4.0                 0.0   \n",
       "5                   6.0             5.0                 3.0   \n",
       "6                  14.0            14.0                 8.0   \n",
       "9                   6.0             6.0              3683.0   \n",
       "10                 12.0             5.0                 3.0   \n",
       "...                 ...             ...                 ...   \n",
       "3543                3.0             2.0                 1.0   \n",
       "3544             5670.0             4.0                 2.0   \n",
       "3549                7.0             3.0              4252.0   \n",
       "3552                8.0          4706.0                 2.0   \n",
       "3557                5.0             5.0                 3.0   \n",
       "\n",
       "      YearsSinceLastPromotion  YearsWithCurrManager  \n",
       "4                      5308.0                   3.0  \n",
       "5                         4.0                1067.0  \n",
       "6                         9.0                5168.0  \n",
       "9                         1.0                   5.0  \n",
       "10                     2166.0                   2.0  \n",
       "...                       ...                   ...  \n",
       "3543                      0.0                6654.0  \n",
       "3544                      1.0                   3.0  \n",
       "3549                      1.0                   2.0  \n",
       "3552                      0.0                   2.0  \n",
       "3557                   6305.0                   0.0  \n",
       "\n",
       "[1100 rows x 5 columns]"
      ]
     },
     "execution_count": 822,
     "metadata": {},
     "output_type": "execute_result"
    }
   ],
   "source": [
    "mask = X_train_outliers[((X_train_outliers > threshold)).any(axis=1)]\n",
    "mask"
   ]
  },
  {
   "cell_type": "code",
   "execution_count": 825,
   "metadata": {},
   "outputs": [
    {
     "ename": "KeyError",
     "evalue": "\"None of [Index([                              ('T', 'o', 't', 'a', 'l', 'W', 'o', 'r', 'k', 'i', 'n', 'g', 'Y', 'e', 'a', 'r', 's'),\\n                                                    ('Y', 'e', 'a', 'r', 's', 'A', 't', 'C', 'o', 'm', 'p', 'a', 'n', 'y'),\\n                                ('Y', 'e', 'a', 'r', 's', 'I', 'n', 'C', 'u', 'r', 'r', 'e', 'n', 't', 'R', 'o', 'l', 'e'),\\n       ('Y', 'e', 'a', 'r', 's', 'S', 'i', 'n', 'c', 'e', 'L', 'a', 's', 't', 'P', 'r', 'o', 'm', 'o', 't', 'i', 'o', 'n'),\\n                      ('Y', 'e', 'a', 'r', 's', 'W', 'i', 't', 'h', 'C', 'u', 'r', 'r', 'M', 'a', 'n', 'a', 'g', 'e', 'r')],\\n      dtype='object')] are in the [index]\"",
     "output_type": "error",
     "traceback": [
      "\u001b[0;31m---------------------------------------------------------------------------\u001b[0m",
      "\u001b[0;31mKeyError\u001b[0m                                  Traceback (most recent call last)",
      "Input \u001b[0;32mIn [825]\u001b[0m, in \u001b[0;36m<cell line: 4>\u001b[0;34m()\u001b[0m\n\u001b[1;32m      1\u001b[0m \u001b[38;5;66;03m# X_train = X_train[~((X_train_outliers > threshold)).any(axis=1)] #removing outliers -> correct to replace outliers with nan\u001b[39;00m\n\u001b[1;32m      2\u001b[0m \u001b[38;5;66;03m# X_train\u001b[39;00m\n\u001b[0;32m----> 4\u001b[0m mask\u001b[38;5;241m.\u001b[39mloc[mask[outlier_columns] \u001b[38;5;241m>\u001b[39m threshold] \u001b[38;5;241m=\u001b[39m np\u001b[38;5;241m.\u001b[39mnan\n",
      "File \u001b[0;32m~/.local/lib/python3.10/site-packages/pandas/core/indexing.py:712\u001b[0m, in \u001b[0;36m_LocationIndexer.__setitem__\u001b[0;34m(self, key, value)\u001b[0m\n\u001b[1;32m    710\u001b[0m \u001b[38;5;28;01melse\u001b[39;00m:\n\u001b[1;32m    711\u001b[0m     key \u001b[38;5;241m=\u001b[39m com\u001b[38;5;241m.\u001b[39mapply_if_callable(key, \u001b[38;5;28mself\u001b[39m\u001b[38;5;241m.\u001b[39mobj)\n\u001b[0;32m--> 712\u001b[0m indexer \u001b[38;5;241m=\u001b[39m \u001b[38;5;28;43mself\u001b[39;49m\u001b[38;5;241;43m.\u001b[39;49m\u001b[43m_get_setitem_indexer\u001b[49m\u001b[43m(\u001b[49m\u001b[43mkey\u001b[49m\u001b[43m)\u001b[49m\n\u001b[1;32m    713\u001b[0m \u001b[38;5;28mself\u001b[39m\u001b[38;5;241m.\u001b[39m_has_valid_setitem_indexer(key)\n\u001b[1;32m    715\u001b[0m iloc \u001b[38;5;241m=\u001b[39m \u001b[38;5;28mself\u001b[39m \u001b[38;5;28;01mif\u001b[39;00m \u001b[38;5;28mself\u001b[39m\u001b[38;5;241m.\u001b[39mname \u001b[38;5;241m==\u001b[39m \u001b[38;5;124m\"\u001b[39m\u001b[38;5;124miloc\u001b[39m\u001b[38;5;124m\"\u001b[39m \u001b[38;5;28;01melse\u001b[39;00m \u001b[38;5;28mself\u001b[39m\u001b[38;5;241m.\u001b[39mobj\u001b[38;5;241m.\u001b[39miloc\n",
      "File \u001b[0;32m~/.local/lib/python3.10/site-packages/pandas/core/indexing.py:666\u001b[0m, in \u001b[0;36m_LocationIndexer._get_setitem_indexer\u001b[0;34m(self, key)\u001b[0m\n\u001b[1;32m    663\u001b[0m \u001b[38;5;28;01mif\u001b[39;00m \u001b[38;5;28misinstance\u001b[39m(key, \u001b[38;5;28mrange\u001b[39m):\n\u001b[1;32m    664\u001b[0m     \u001b[38;5;28;01mreturn\u001b[39;00m \u001b[38;5;28mlist\u001b[39m(key)\n\u001b[0;32m--> 666\u001b[0m \u001b[38;5;28;01mreturn\u001b[39;00m \u001b[38;5;28;43mself\u001b[39;49m\u001b[38;5;241;43m.\u001b[39;49m\u001b[43m_convert_to_indexer\u001b[49m\u001b[43m(\u001b[49m\u001b[43mkey\u001b[49m\u001b[43m,\u001b[49m\u001b[43m \u001b[49m\u001b[43maxis\u001b[49m\u001b[38;5;241;43m=\u001b[39;49m\u001b[38;5;241;43m0\u001b[39;49m\u001b[43m)\u001b[49m\n",
      "File \u001b[0;32m~/.local/lib/python3.10/site-packages/pandas/core/indexing.py:1291\u001b[0m, in \u001b[0;36m_LocIndexer._convert_to_indexer\u001b[0;34m(self, key, axis)\u001b[0m\n\u001b[1;32m   1289\u001b[0m         \u001b[38;5;28;01mreturn\u001b[39;00m inds\n\u001b[1;32m   1290\u001b[0m     \u001b[38;5;28;01melse\u001b[39;00m:\n\u001b[0;32m-> 1291\u001b[0m         \u001b[38;5;28;01mreturn\u001b[39;00m \u001b[38;5;28;43mself\u001b[39;49m\u001b[38;5;241;43m.\u001b[39;49m\u001b[43m_get_listlike_indexer\u001b[49m\u001b[43m(\u001b[49m\u001b[43mkey\u001b[49m\u001b[43m,\u001b[49m\u001b[43m \u001b[49m\u001b[43maxis\u001b[49m\u001b[43m)\u001b[49m[\u001b[38;5;241m1\u001b[39m]\n\u001b[1;32m   1292\u001b[0m \u001b[38;5;28;01melse\u001b[39;00m:\n\u001b[1;32m   1293\u001b[0m     \u001b[38;5;28;01mtry\u001b[39;00m:\n",
      "File \u001b[0;32m~/.local/lib/python3.10/site-packages/pandas/core/indexing.py:1327\u001b[0m, in \u001b[0;36m_LocIndexer._get_listlike_indexer\u001b[0;34m(self, key, axis)\u001b[0m\n\u001b[1;32m   1324\u001b[0m ax \u001b[38;5;241m=\u001b[39m \u001b[38;5;28mself\u001b[39m\u001b[38;5;241m.\u001b[39mobj\u001b[38;5;241m.\u001b[39m_get_axis(axis)\n\u001b[1;32m   1325\u001b[0m axis_name \u001b[38;5;241m=\u001b[39m \u001b[38;5;28mself\u001b[39m\u001b[38;5;241m.\u001b[39mobj\u001b[38;5;241m.\u001b[39m_get_axis_name(axis)\n\u001b[0;32m-> 1327\u001b[0m keyarr, indexer \u001b[38;5;241m=\u001b[39m \u001b[43max\u001b[49m\u001b[38;5;241;43m.\u001b[39;49m\u001b[43m_get_indexer_strict\u001b[49m\u001b[43m(\u001b[49m\u001b[43mkey\u001b[49m\u001b[43m,\u001b[49m\u001b[43m \u001b[49m\u001b[43maxis_name\u001b[49m\u001b[43m)\u001b[49m\n\u001b[1;32m   1329\u001b[0m \u001b[38;5;28;01mreturn\u001b[39;00m keyarr, indexer\n",
      "File \u001b[0;32m~/.local/lib/python3.10/site-packages/pandas/core/indexes/base.py:5782\u001b[0m, in \u001b[0;36mIndex._get_indexer_strict\u001b[0;34m(self, key, axis_name)\u001b[0m\n\u001b[1;32m   5779\u001b[0m \u001b[38;5;28;01melse\u001b[39;00m:\n\u001b[1;32m   5780\u001b[0m     keyarr, indexer, new_indexer \u001b[38;5;241m=\u001b[39m \u001b[38;5;28mself\u001b[39m\u001b[38;5;241m.\u001b[39m_reindex_non_unique(keyarr)\n\u001b[0;32m-> 5782\u001b[0m \u001b[38;5;28;43mself\u001b[39;49m\u001b[38;5;241;43m.\u001b[39;49m\u001b[43m_raise_if_missing\u001b[49m\u001b[43m(\u001b[49m\u001b[43mkeyarr\u001b[49m\u001b[43m,\u001b[49m\u001b[43m \u001b[49m\u001b[43mindexer\u001b[49m\u001b[43m,\u001b[49m\u001b[43m \u001b[49m\u001b[43maxis_name\u001b[49m\u001b[43m)\u001b[49m\n\u001b[1;32m   5784\u001b[0m keyarr \u001b[38;5;241m=\u001b[39m \u001b[38;5;28mself\u001b[39m\u001b[38;5;241m.\u001b[39mtake(indexer)\n\u001b[1;32m   5785\u001b[0m \u001b[38;5;28;01mif\u001b[39;00m \u001b[38;5;28misinstance\u001b[39m(key, Index):\n\u001b[1;32m   5786\u001b[0m     \u001b[38;5;66;03m# GH 42790 - Preserve name from an Index\u001b[39;00m\n",
      "File \u001b[0;32m~/.local/lib/python3.10/site-packages/pandas/core/indexes/base.py:5842\u001b[0m, in \u001b[0;36mIndex._raise_if_missing\u001b[0;34m(self, key, indexer, axis_name)\u001b[0m\n\u001b[1;32m   5840\u001b[0m     \u001b[38;5;28;01mif\u001b[39;00m use_interval_msg:\n\u001b[1;32m   5841\u001b[0m         key \u001b[38;5;241m=\u001b[39m \u001b[38;5;28mlist\u001b[39m(key)\n\u001b[0;32m-> 5842\u001b[0m     \u001b[38;5;28;01mraise\u001b[39;00m \u001b[38;5;167;01mKeyError\u001b[39;00m(\u001b[38;5;124mf\u001b[39m\u001b[38;5;124m\"\u001b[39m\u001b[38;5;124mNone of [\u001b[39m\u001b[38;5;132;01m{\u001b[39;00mkey\u001b[38;5;132;01m}\u001b[39;00m\u001b[38;5;124m] are in the [\u001b[39m\u001b[38;5;132;01m{\u001b[39;00maxis_name\u001b[38;5;132;01m}\u001b[39;00m\u001b[38;5;124m]\u001b[39m\u001b[38;5;124m\"\u001b[39m)\n\u001b[1;32m   5844\u001b[0m not_found \u001b[38;5;241m=\u001b[39m \u001b[38;5;28mlist\u001b[39m(ensure_index(key)[missing_mask\u001b[38;5;241m.\u001b[39mnonzero()[\u001b[38;5;241m0\u001b[39m]]\u001b[38;5;241m.\u001b[39munique())\n\u001b[1;32m   5845\u001b[0m \u001b[38;5;28;01mraise\u001b[39;00m \u001b[38;5;167;01mKeyError\u001b[39;00m(\u001b[38;5;124mf\u001b[39m\u001b[38;5;124m\"\u001b[39m\u001b[38;5;132;01m{\u001b[39;00mnot_found\u001b[38;5;132;01m}\u001b[39;00m\u001b[38;5;124m not in index\u001b[39m\u001b[38;5;124m\"\u001b[39m)\n",
      "\u001b[0;31mKeyError\u001b[0m: \"None of [Index([                              ('T', 'o', 't', 'a', 'l', 'W', 'o', 'r', 'k', 'i', 'n', 'g', 'Y', 'e', 'a', 'r', 's'),\\n                                                    ('Y', 'e', 'a', 'r', 's', 'A', 't', 'C', 'o', 'm', 'p', 'a', 'n', 'y'),\\n                                ('Y', 'e', 'a', 'r', 's', 'I', 'n', 'C', 'u', 'r', 'r', 'e', 'n', 't', 'R', 'o', 'l', 'e'),\\n       ('Y', 'e', 'a', 'r', 's', 'S', 'i', 'n', 'c', 'e', 'L', 'a', 's', 't', 'P', 'r', 'o', 'm', 'o', 't', 'i', 'o', 'n'),\\n                      ('Y', 'e', 'a', 'r', 's', 'W', 'i', 't', 'h', 'C', 'u', 'r', 'r', 'M', 'a', 'n', 'a', 'g', 'e', 'r')],\\n      dtype='object')] are in the [index]\""
     ]
    }
   ],
   "source": [
    "# X_train = X_train[~((X_train_outliers > threshold)).any(axis=1)] #removing outliers -> correct to replace outliers with nan\n",
    "# X_train\n",
    "\n",
    "mask.loc[mask[outlier_columns] > threshold] = np.nan"
   ]
  },
  {
   "cell_type": "code",
   "execution_count": 781,
   "metadata": {},
   "outputs": [
    {
     "data": {
      "text/plain": [
       "PercentSalaryHike           0\n",
       "PerformanceRating           0\n",
       "RelationshipSatisfaction    0\n",
       "StockOptionLevel            0\n",
       "TotalWorkingYears           0\n",
       "TrainingTimesLastYear       0\n",
       "WorkLifeBalance             0\n",
       "YearsAtCompany              0\n",
       "YearsInCurrentRole          0\n",
       "YearsSinceLastPromotion     0\n",
       "YearsWithCurrManager        0\n",
       "YearlyIncome                0\n",
       "OverTime_Yes                0\n",
       "dtype: int64"
      ]
     },
     "execution_count": 781,
     "metadata": {},
     "output_type": "execute_result"
    }
   ],
   "source": [
    "X_train.isna().sum()"
   ]
  },
  {
   "cell_type": "markdown",
   "metadata": {},
   "source": [
    "### Imputing outliers"
   ]
  },
  {
   "cell_type": "code",
   "execution_count": 782,
   "metadata": {},
   "outputs": [
    {
     "ename": "NameError",
     "evalue": "name 'nan' is not defined",
     "output_type": "error",
     "traceback": [
      "\u001b[0;31m---------------------------------------------------------------------------\u001b[0m",
      "\u001b[0;31mNameError\u001b[0m                                 Traceback (most recent call last)",
      "Input \u001b[0;32mIn [782]\u001b[0m, in \u001b[0;36m<cell line: 1>\u001b[0;34m()\u001b[0m\n\u001b[1;32m      1\u001b[0m iter_imp \u001b[38;5;241m=\u001b[39m IterativeImputer(\n\u001b[1;32m      2\u001b[0m     estimator\u001b[38;5;241m=\u001b[39m\u001b[38;5;28;01mNone\u001b[39;00m,\n\u001b[0;32m----> 3\u001b[0m     missing_values\u001b[38;5;241m=\u001b[39m\u001b[43mnan\u001b[49m, \n\u001b[1;32m      4\u001b[0m     sample_posterior\u001b[38;5;241m=\u001b[39m\u001b[38;5;28;01mFalse\u001b[39;00m, \n\u001b[1;32m      5\u001b[0m     max_iter\u001b[38;5;241m=\u001b[39m\u001b[38;5;241m10\u001b[39m, \n\u001b[1;32m      6\u001b[0m     tol\u001b[38;5;241m=\u001b[39m\u001b[38;5;241m0.001\u001b[39m, \n\u001b[1;32m      7\u001b[0m     n_nearest_features\u001b[38;5;241m=\u001b[39m\u001b[38;5;28;01mNone\u001b[39;00m, \n\u001b[1;32m      8\u001b[0m     initial_strategy\u001b[38;5;241m=\u001b[39m\u001b[38;5;124m'\u001b[39m\u001b[38;5;124mmean\u001b[39m\u001b[38;5;124m'\u001b[39m, \n\u001b[1;32m      9\u001b[0m     imputation_order\u001b[38;5;241m=\u001b[39m\u001b[38;5;124m'\u001b[39m\u001b[38;5;124mascending\u001b[39m\u001b[38;5;124m'\u001b[39m, \n\u001b[1;32m     10\u001b[0m     skip_complete\u001b[38;5;241m=\u001b[39m\u001b[38;5;28;01mFalse\u001b[39;00m, \n\u001b[1;32m     11\u001b[0m     min_value\u001b[38;5;241m=\u001b[39m\u001b[38;5;241m-\u001b[39minf, \n\u001b[1;32m     12\u001b[0m     max_value\u001b[38;5;241m=\u001b[39minf, \n\u001b[1;32m     13\u001b[0m     verbose\u001b[38;5;241m=\u001b[39m\u001b[38;5;241m0\u001b[39m, \n\u001b[1;32m     14\u001b[0m     random_state\u001b[38;5;241m=\u001b[39m\u001b[38;5;241m42\u001b[39m, \n\u001b[1;32m     15\u001b[0m     add_indicator\u001b[38;5;241m=\u001b[39m\u001b[38;5;28;01mFalse\u001b[39;00m)\n\u001b[1;32m     17\u001b[0m iter_imp\u001b[38;5;241m.\u001b[39mfit(X_train)\n\u001b[1;32m     19\u001b[0m \u001b[38;5;66;03m# X_train_outlier = [[np.nan, 2, 3], [4, np.nan, 6], [10, np.nan, 9]]\u001b[39;00m\n",
      "\u001b[0;31mNameError\u001b[0m: name 'nan' is not defined"
     ]
    }
   ],
   "source": [
    "iter_imp = IterativeImputer(\n",
    "    estimator=None,\n",
    "    missing_values=nan, \n",
    "    sample_posterior=False, \n",
    "    max_iter=10, \n",
    "    tol=0.001, \n",
    "    n_nearest_features=None, \n",
    "    initial_strategy='mean', \n",
    "    imputation_order='ascending', \n",
    "    skip_complete=False, \n",
    "    min_value=-inf, \n",
    "    max_value=inf, \n",
    "    verbose=0, \n",
    "    random_state=42, \n",
    "    add_indicator=False)\n",
    "\n",
    "iter_imp.fit(X_train)\n",
    "\n",
    "# X_train_outlier = [[np.nan, 2, 3], [4, np.nan, 6], [10, np.nan, 9]]\n",
    "iter_imputer.transform(mask)"
   ]
  },
  {
   "cell_type": "markdown",
   "metadata": {},
   "source": [
    "# Outliers handling"
   ]
  },
  {
   "cell_type": "code",
   "execution_count": 84,
   "metadata": {},
   "outputs": [],
   "source": [
    "# cov = EllipticEnvelope(random_state=42).fit(X_train)\n",
    "# # predict returns 1 for an inlier and -1 for an outlier\n",
    "# # cov.predict()\n",
    "\n",
    "# cov.covariance_\n",
    "# cov.location_"
   ]
  },
  {
   "cell_type": "code",
   "execution_count": 85,
   "metadata": {
    "scrolled": false
   },
   "outputs": [
    {
     "data": {
      "image/png": "[encoded data removed]",
      "text/plain": [
       "<Figure size 936x936 with 1 Axes>"
      ]
     },
     "metadata": {
      "needs_background": "light"
     },
     "output_type": "display_data"
    }
   ],
   "source": [
    "plt.scatter(X_train.index, X_train['TotalWorkingYears'])\n",
    "plt.xlabel('index')\n",
    "plt.ylabel('TotalWorkingYears')\n",
    "plt.yticks(np.arange(0, 10500, step=500))\n",
    "plt.grid(visible=True, which='major', axis='both')"
   ]
  },
  {
   "cell_type": "code",
   "execution_count": 90,
   "metadata": {},
   "outputs": [
    {
     "data": {
      "image/png": "[encoded data removed]",
      "text/plain": [
       "<Figure size 936x936 with 1 Axes>"
      ]
     },
     "metadata": {
      "needs_background": "light"
     },
     "output_type": "display_data"
    }
   ],
   "source": [
    "plt.scatter(X_train.index, X_train['YearsAtCompany'])\n",
    "plt.xlabel('index')\n",
    "plt.ylabel('YearsAtCompany')\n",
    "plt.yticks(np.arange(0, 10500, step=500))\n",
    "plt.grid(visible=True, which='major', axis='both')"
   ]
  },
  {
   "cell_type": "code",
   "execution_count": 91,
   "metadata": {},
   "outputs": [
    {
     "data": {
      "image/png": "[encoded data removed]",
      "text/plain": [
       "<Figure size 936x936 with 1 Axes>"
      ]
     },
     "metadata": {
      "needs_background": "light"
     },
     "output_type": "display_data"
    }
   ],
   "source": [
    "plt.scatter(X_train.index, X_train['YearsSinceLastPromotion'])\n",
    "plt.xlabel('index')\n",
    "plt.ylabel('YearsSinceLastPromotion')\n",
    "plt.yticks(np.arange(0, 10500, step=500))\n",
    "plt.grid(visible=True, which='major', axis='both')"
   ]
  },
  {
   "cell_type": "code",
   "execution_count": 92,
   "metadata": {},
   "outputs": [],
   "source": [
    "# df_enc[df_enc['YearsSinceLastPromotion'] > 500]"
   ]
  },
  {
   "cell_type": "code",
   "execution_count": 93,
   "metadata": {},
   "outputs": [
    {
     "data": {
      "image/png": "[encoded data removed]",
      "text/plain": [
       "<Figure size 936x936 with 1 Axes>"
      ]
     },
     "metadata": {
      "needs_background": "light"
     },
     "output_type": "display_data"
    }
   ],
   "source": [
    "plt.scatter(X_train.index, X_train['YearsWithCurrManager'])\n",
    "plt.xlabel('index')\n",
    "plt.ylabel('YearsWithCurrManager')\n",
    "plt.yticks(np.arange(0, 10500, step=500))\n",
    "plt.grid(visible=True, which='major', axis='both')"
   ]
  },
  {
   "cell_type": "code",
   "execution_count": 95,
   "metadata": {},
   "outputs": [
    {
     "data": {
      "text/html": [
       "<div>\n",
       "<style scoped>\n",
       "    .dataframe tbody tr th:only-of-type {\n",
       "        vertical-align: middle;\n",
       "    }\n",
       "\n",
       "    .dataframe tbody tr th {\n",
       "        vertical-align: top;\n",
       "    }\n",
       "\n",
       "    .dataframe thead th {\n",
       "        text-align: right;\n",
       "    }\n",
       "</style>\n",
       "<table border=\"1\" class=\"dataframe\">\n",
       "  <thead>\n",
       "    <tr style=\"text-align: right;\">\n",
       "      <th></th>\n",
       "      <th>PercentSalaryHike</th>\n",
       "      <th>PerformanceRating</th>\n",
       "      <th>RelationshipSatisfaction</th>\n",
       "      <th>StockOptionLevel</th>\n",
       "      <th>TotalWorkingYears</th>\n",
       "      <th>TrainingTimesLastYear</th>\n",
       "      <th>WorkLifeBalance</th>\n",
       "      <th>YearsAtCompany</th>\n",
       "      <th>YearsInCurrentRole</th>\n",
       "      <th>YearsSinceLastPromotion</th>\n",
       "      <th>YearsWithCurrManager</th>\n",
       "      <th>YearlyIncome</th>\n",
       "      <th>OverTime_Yes</th>\n",
       "    </tr>\n",
       "  </thead>\n",
       "  <tbody>\n",
       "    <tr>\n",
       "      <th>5</th>\n",
       "      <td>13.0</td>\n",
       "      <td>3.0</td>\n",
       "      <td>2.0</td>\n",
       "      <td>2.0</td>\n",
       "      <td>6.0</td>\n",
       "      <td>3.0</td>\n",
       "      <td>2.0</td>\n",
       "      <td>5.0</td>\n",
       "      <td>3.0</td>\n",
       "      <td>4.0</td>\n",
       "      <td>1067.0</td>\n",
       "      <td>33384.0</td>\n",
       "      <td>1</td>\n",
       "    </tr>\n",
       "    <tr>\n",
       "      <th>6</th>\n",
       "      <td>11.0</td>\n",
       "      <td>3.0</td>\n",
       "      <td>3.0</td>\n",
       "      <td>0.0</td>\n",
       "      <td>14.0</td>\n",
       "      <td>2.0</td>\n",
       "      <td>2.0</td>\n",
       "      <td>14.0</td>\n",
       "      <td>8.0</td>\n",
       "      <td>9.0</td>\n",
       "      <td>5168.0</td>\n",
       "      <td>124800.0</td>\n",
       "      <td>0</td>\n",
       "    </tr>\n",
       "    <tr>\n",
       "      <th>22</th>\n",
       "      <td>11.0</td>\n",
       "      <td>3.0</td>\n",
       "      <td>3.0</td>\n",
       "      <td>0.0</td>\n",
       "      <td>8.0</td>\n",
       "      <td>2.0</td>\n",
       "      <td>3.0</td>\n",
       "      <td>4.0</td>\n",
       "      <td>2.0</td>\n",
       "      <td>1.0</td>\n",
       "      <td>5233.0</td>\n",
       "      <td>35520.0</td>\n",
       "      <td>0</td>\n",
       "    </tr>\n",
       "    <tr>\n",
       "      <th>25</th>\n",
       "      <td>13.0</td>\n",
       "      <td>3.0</td>\n",
       "      <td>1.0</td>\n",
       "      <td>0.0</td>\n",
       "      <td>18.0</td>\n",
       "      <td>2.0</td>\n",
       "      <td>3.0</td>\n",
       "      <td>7.0</td>\n",
       "      <td>7.0</td>\n",
       "      <td>1.0</td>\n",
       "      <td>1759.0</td>\n",
       "      <td>49296.0</td>\n",
       "      <td>0</td>\n",
       "    </tr>\n",
       "    <tr>\n",
       "      <th>98</th>\n",
       "      <td>13.0</td>\n",
       "      <td>3.0</td>\n",
       "      <td>4.0</td>\n",
       "      <td>0.0</td>\n",
       "      <td>10.0</td>\n",
       "      <td>2.0</td>\n",
       "      <td>1.0</td>\n",
       "      <td>9.0</td>\n",
       "      <td>2.0</td>\n",
       "      <td>3.0</td>\n",
       "      <td>8954.0</td>\n",
       "      <td>60504.0</td>\n",
       "      <td>0</td>\n",
       "    </tr>\n",
       "    <tr>\n",
       "      <th>...</th>\n",
       "      <td>...</td>\n",
       "      <td>...</td>\n",
       "      <td>...</td>\n",
       "      <td>...</td>\n",
       "      <td>...</td>\n",
       "      <td>...</td>\n",
       "      <td>...</td>\n",
       "      <td>...</td>\n",
       "      <td>...</td>\n",
       "      <td>...</td>\n",
       "      <td>...</td>\n",
       "      <td>...</td>\n",
       "      <td>...</td>\n",
       "    </tr>\n",
       "    <tr>\n",
       "      <th>3473</th>\n",
       "      <td>20.0</td>\n",
       "      <td>4.0</td>\n",
       "      <td>3.0</td>\n",
       "      <td>1.0</td>\n",
       "      <td>1.0</td>\n",
       "      <td>2.0</td>\n",
       "      <td>3.0</td>\n",
       "      <td>1.0</td>\n",
       "      <td>0.0</td>\n",
       "      <td>0.0</td>\n",
       "      <td>7230.0</td>\n",
       "      <td>24996.0</td>\n",
       "      <td>0</td>\n",
       "    </tr>\n",
       "    <tr>\n",
       "      <th>3484</th>\n",
       "      <td>11.0</td>\n",
       "      <td>3.0</td>\n",
       "      <td>3.0</td>\n",
       "      <td>0.0</td>\n",
       "      <td>14.0</td>\n",
       "      <td>3.0</td>\n",
       "      <td>3.0</td>\n",
       "      <td>10.0</td>\n",
       "      <td>7.0</td>\n",
       "      <td>0.0</td>\n",
       "      <td>7420.0</td>\n",
       "      <td>68916.0</td>\n",
       "      <td>1</td>\n",
       "    </tr>\n",
       "    <tr>\n",
       "      <th>3520</th>\n",
       "      <td>11.0</td>\n",
       "      <td>3.0</td>\n",
       "      <td>1.0</td>\n",
       "      <td>0.0</td>\n",
       "      <td>5.0</td>\n",
       "      <td>3.0</td>\n",
       "      <td>3.0</td>\n",
       "      <td>5.0</td>\n",
       "      <td>4.0</td>\n",
       "      <td>0.0</td>\n",
       "      <td>5242.0</td>\n",
       "      <td>53736.0</td>\n",
       "      <td>1</td>\n",
       "    </tr>\n",
       "    <tr>\n",
       "      <th>3535</th>\n",
       "      <td>11.0</td>\n",
       "      <td>3.0</td>\n",
       "      <td>1.0</td>\n",
       "      <td>1.0</td>\n",
       "      <td>16.0</td>\n",
       "      <td>6.0</td>\n",
       "      <td>3.0</td>\n",
       "      <td>16.0</td>\n",
       "      <td>7.0</td>\n",
       "      <td>3.0</td>\n",
       "      <td>7012.0</td>\n",
       "      <td>123900.0</td>\n",
       "      <td>1</td>\n",
       "    </tr>\n",
       "    <tr>\n",
       "      <th>3543</th>\n",
       "      <td>17.0</td>\n",
       "      <td>3.0</td>\n",
       "      <td>2.0</td>\n",
       "      <td>1.0</td>\n",
       "      <td>3.0</td>\n",
       "      <td>0.0</td>\n",
       "      <td>2.0</td>\n",
       "      <td>2.0</td>\n",
       "      <td>1.0</td>\n",
       "      <td>0.0</td>\n",
       "      <td>6654.0</td>\n",
       "      <td>32208.0</td>\n",
       "      <td>0</td>\n",
       "    </tr>\n",
       "  </tbody>\n",
       "</table>\n",
       "<p>198 rows × 13 columns</p>\n",
       "</div>"
      ],
      "text/plain": [
       "      PercentSalaryHike  PerformanceRating  RelationshipSatisfaction  \\\n",
       "5                  13.0                3.0                       2.0   \n",
       "6                  11.0                3.0                       3.0   \n",
       "22                 11.0                3.0                       3.0   \n",
       "25                 13.0                3.0                       1.0   \n",
       "98                 13.0                3.0                       4.0   \n",
       "...                 ...                ...                       ...   \n",
       "3473               20.0                4.0                       3.0   \n",
       "3484               11.0                3.0                       3.0   \n",
       "3520               11.0                3.0                       1.0   \n",
       "3535               11.0                3.0                       1.0   \n",
       "3543               17.0                3.0                       2.0   \n",
       "\n",
       "      StockOptionLevel  TotalWorkingYears  TrainingTimesLastYear  \\\n",
       "5                  2.0                6.0                    3.0   \n",
       "6                  0.0               14.0                    2.0   \n",
       "22                 0.0                8.0                    2.0   \n",
       "25                 0.0               18.0                    2.0   \n",
       "98                 0.0               10.0                    2.0   \n",
       "...                ...                ...                    ...   \n",
       "3473               1.0                1.0                    2.0   \n",
       "3484               0.0               14.0                    3.0   \n",
       "3520               0.0                5.0                    3.0   \n",
       "3535               1.0               16.0                    6.0   \n",
       "3543               1.0                3.0                    0.0   \n",
       "\n",
       "      WorkLifeBalance  YearsAtCompany  YearsInCurrentRole  \\\n",
       "5                 2.0             5.0                 3.0   \n",
       "6                 2.0            14.0                 8.0   \n",
       "22                3.0             4.0                 2.0   \n",
       "25                3.0             7.0                 7.0   \n",
       "98                1.0             9.0                 2.0   \n",
       "...               ...             ...                 ...   \n",
       "3473              3.0             1.0                 0.0   \n",
       "3484              3.0            10.0                 7.0   \n",
       "3520              3.0             5.0                 4.0   \n",
       "3535              3.0            16.0                 7.0   \n",
       "3543              2.0             2.0                 1.0   \n",
       "\n",
       "      YearsSinceLastPromotion  YearsWithCurrManager  YearlyIncome  \\\n",
       "5                         4.0                1067.0       33384.0   \n",
       "6                         9.0                5168.0      124800.0   \n",
       "22                        1.0                5233.0       35520.0   \n",
       "25                        1.0                1759.0       49296.0   \n",
       "98                        3.0                8954.0       60504.0   \n",
       "...                       ...                   ...           ...   \n",
       "3473                      0.0                7230.0       24996.0   \n",
       "3484                      0.0                7420.0       68916.0   \n",
       "3520                      0.0                5242.0       53736.0   \n",
       "3535                      3.0                7012.0      123900.0   \n",
       "3543                      0.0                6654.0       32208.0   \n",
       "\n",
       "      OverTime_Yes  \n",
       "5                1  \n",
       "6                0  \n",
       "22               0  \n",
       "25               0  \n",
       "98               0  \n",
       "...            ...  \n",
       "3473             0  \n",
       "3484             1  \n",
       "3520             1  \n",
       "3535             1  \n",
       "3543             0  \n",
       "\n",
       "[198 rows x 13 columns]"
      ]
     },
     "execution_count": 95,
     "metadata": {},
     "output_type": "execute_result"
    }
   ],
   "source": [
    "X_train[X_train['YearsWithCurrManager'] > 500]"
   ]
  },
  {
   "cell_type": "markdown",
   "metadata": {},
   "source": [
    "Dla powyższych 4 feature-ów zrobić:\n",
    "1) kNN v regresja liniowa v simpleimputer v ... , aby dobrać wartość \n",
    "\n",
    "2) zautomatyzowany wybór wartości ganicznej y -> w tych przypadkach y=1000. Może regresja liniowa y=const=1000 i maksymalny błąd "
   ]
  },
  {
   "cell_type": "code",
   "execution_count": 96,
   "metadata": {
    "colab": {
     "base_uri": "https://localhost:8080/",
     "height": 644
    },
    "executionInfo": {
     "elapsed": 10,
     "status": "ok",
     "timestamp": 1657217720729,
     "user": {
      "displayName": "Michał Robak",
      "userId": "05065528628029117432"
     },
     "user_tz": -120
    },
    "id": "bvtYj29SiA3D",
    "outputId": "27539ae3-1f59-4fdb-d5d0-59ed02342913"
   },
   "outputs": [],
   "source": [
    "# ddf4[ddf4.Age>60]"
   ]
  },
  {
   "cell_type": "code",
   "execution_count": 99,
   "metadata": {
    "scrolled": false
   },
   "outputs": [
    {
     "name": "stdout",
     "output_type": "stream",
     "text": [
      "<class 'pandas.core.frame.DataFrame'>\n",
      "RangeIndex: 3559 entries, 0 to 3558\n",
      "Data columns (total 13 columns):\n",
      " #   Column                    Non-Null Count  Dtype  \n",
      "---  ------                    --------------  -----  \n",
      " 0   PercentSalaryHike         3559 non-null   float64\n",
      " 1   PerformanceRating         3559 non-null   float64\n",
      " 2   RelationshipSatisfaction  3559 non-null   float64\n",
      " 3   StockOptionLevel          3559 non-null   float64\n",
      " 4   TotalWorkingYears         3559 non-null   float64\n",
      " 5   TrainingTimesLastYear     3559 non-null   float64\n",
      " 6   WorkLifeBalance           3559 non-null   float64\n",
      " 7   YearsAtCompany            3559 non-null   float64\n",
      " 8   YearsInCurrentRole        3559 non-null   float64\n",
      " 9   YearsSinceLastPromotion   3559 non-null   float64\n",
      " 10  YearsWithCurrManager      3559 non-null   float64\n",
      " 11  YearlyIncome              3559 non-null   float64\n",
      " 12  OverTime_Yes              3559 non-null   int8   \n",
      "dtypes: float64(12), int8(1)\n",
      "memory usage: 337.3 KB\n"
     ]
    }
   ],
   "source": [
    "X_train.info()"
   ]
  },
  {
   "cell_type": "code",
   "execution_count": 100,
   "metadata": {},
   "outputs": [
    {
     "data": {
      "text/plain": [
       "PercentSalaryHike             15\n",
       "PerformanceRating              2\n",
       "RelationshipSatisfaction       4\n",
       "StockOptionLevel               4\n",
       "TotalWorkingYears            158\n",
       "TrainingTimesLastYear          7\n",
       "WorkLifeBalance                4\n",
       "YearsAtCompany               158\n",
       "YearsInCurrentRole           157\n",
       "YearsSinceLastPromotion      140\n",
       "YearsWithCurrManager         138\n",
       "YearlyIncome                1325\n",
       "OverTime_Yes                   2\n",
       "dtype: int64"
      ]
     },
     "execution_count": 100,
     "metadata": {},
     "output_type": "execute_result"
    }
   ],
   "source": [
    "X_train.nunique()"
   ]
  },
  {
   "cell_type": "code",
   "execution_count": 101,
   "metadata": {
    "id": "SCVWU95ApIAR"
   },
   "outputs": [],
   "source": [
    "# X_train.drop(X_train[(X_train.Age > 60) | (df_drop.DistanceFromHome > 29)].index)"
   ]
  },
  {
   "cell_type": "markdown",
   "metadata": {
    "id": "XOw8Jt2jhwei"
   },
   "source": [
    "Dla kolumn z wartościami \"absurdalnymi\" (poniżej) dane zostaną podmienione na mediane. Kryterium/wartośc w warunku jest brana \"na logikę\" / wg. real life "
   ]
  },
  {
   "cell_type": "code",
   "execution_count": null,
   "metadata": {
    "id": "BDfRp-lQfZtz"
   },
   "outputs": [],
   "source": [
    "# median = ddf4.loc[ddf4['TotalWorkingYears']<55, 'TotalWorkingYears'].median()\n",
    "# ddf4.loc[ddf4.TotalWorkingYears > 60, 'TotalWorkingYears'] = np.nan\n",
    "# ddf4.fillna(median,inplace=True)"
   ]
  },
  {
   "cell_type": "code",
   "execution_count": null,
   "metadata": {
    "id": "495qloBPfbkj"
   },
   "outputs": [],
   "source": [
    "# median = ddf4.loc[ddf4['YearsAtCompany']<55, 'YearsAtCompany'].median()\n",
    "# ddf4.loc[ddf4.YearsAtCompany > 60, 'YearsAtCompany'] = np.nan\n",
    "# ddf4.fillna(median,inplace=True)\n"
   ]
  },
  {
   "cell_type": "code",
   "execution_count": null,
   "metadata": {
    "id": "aD_LNqJEfbzx"
   },
   "outputs": [],
   "source": [
    "# median = ddf4.loc[ddf4['YearsInCurrentRole']<55, 'YearsInCurrentRole'].median()\n",
    "# ddf4.loc[ddf4.YearsInCurrentRole > 60, 'YearsInCurrentRole'] = np.nan\n",
    "# ddf4.fillna(median,inplace=True)"
   ]
  },
  {
   "cell_type": "code",
   "execution_count": null,
   "metadata": {
    "id": "ruJh1dN9fcCp"
   },
   "outputs": [],
   "source": [
    "# median = ddf4.loc[ddf4['YearsSinceLastPromotion']<55, 'YearsSinceLastPromotion'].median()\n",
    "# ddf4.loc[ddf4.YearsSinceLastPromotion > 60, 'YearsSinceLastPromotion'] = np.nan\n",
    "# ddf4.fillna(median,inplace=True)"
   ]
  },
  {
   "cell_type": "code",
   "execution_count": null,
   "metadata": {
    "id": "5XgavzI5fcRV"
   },
   "outputs": [],
   "source": [
    "# median = ddf4.loc[ddf4['YearsWithCurrManager']<55, 'YearsWithCurrManager'].median()\n",
    "# ddf4.loc[ddf4.YearsWithCurrManager > 60, 'YearsWithCurrManager'] = np.nan\n",
    "# ddf4.fillna(median,inplace=True)"
   ]
  },
  {
   "cell_type": "markdown",
   "metadata": {},
   "source": [
    "SimpleImputer"
   ]
  },
  {
   "cell_type": "code",
   "execution_count": null,
   "metadata": {
    "id": "rAgxrAlNi-xW"
   },
   "outputs": [],
   "source": [
    "# imp_mean = SimpleImputer(missing_values=0, strategy='median')\n",
    "# c = ['Plasma glucose concentration','Diastolic blood pressure','Triceps skin fold thickness','2-Hour serum insulin','Body mass index','Diabetes pedigree function','Age']\n",
    "# data_df1 = pd.DataFrame(imp_mean.fit_transform(ddf[c]), columns=c)"
   ]
  },
  {
   "cell_type": "code",
   "execution_count": null,
   "metadata": {
    "scrolled": true
   },
   "outputs": [],
   "source": [
    "data_df2_drop.shape"
   ]
  },
  {
   "cell_type": "code",
   "execution_count": null,
   "metadata": {},
   "outputs": [],
   "source": [
    "data_df2_drop"
   ]
  },
  {
   "cell_type": "markdown",
   "metadata": {},
   "source": [
    "### IQR (Inter Quantile Range) outlier detection"
   ]
  },
  {
   "cell_type": "code",
   "execution_count": 28,
   "metadata": {},
   "outputs": [
    {
     "name": "stdout",
     "output_type": "stream",
     "text": [
      "Q1:\n",
      "TotalWorkingYears          6.0\n",
      "YearsAtCompany             3.0\n",
      "YearsInCurrentRole         2.0\n",
      "YearsSinceLastPromotion    0.0\n",
      "YearsWithCurrManager       2.0\n",
      "Name: 0.25, dtype: float64\n",
      "\n",
      "Q3:\n",
      "TotalWorkingYears          17.0\n",
      "YearsAtCompany             10.0\n",
      "YearsInCurrentRole          7.0\n",
      "YearsSinceLastPromotion     4.0\n",
      "YearsWithCurrManager        7.0\n",
      "Name: 0.75, dtype: float64\n",
      "\n",
      "lower_end:\n",
      "TotalWorkingYears          0.5\n",
      "YearsAtCompany            -0.5\n",
      "YearsInCurrentRole        -0.5\n",
      "YearsSinceLastPromotion   -2.0\n",
      "YearsWithCurrManager      -0.5\n",
      "dtype: float64\n",
      "\n",
      "upper_end:\n",
      "TotalWorkingYears          33.5\n",
      "YearsAtCompany             20.5\n",
      "YearsInCurrentRole         14.5\n",
      "YearsSinceLastPromotion    10.0\n",
      "YearsWithCurrManager       14.5\n",
      "dtype: float64\n",
      "\n"
     ]
    },
    {
     "data": {
      "text/html": [
       "<div>\n",
       "<style scoped>\n",
       "    .dataframe tbody tr th:only-of-type {\n",
       "        vertical-align: middle;\n",
       "    }\n",
       "\n",
       "    .dataframe tbody tr th {\n",
       "        vertical-align: top;\n",
       "    }\n",
       "\n",
       "    .dataframe thead th {\n",
       "        text-align: right;\n",
       "    }\n",
       "</style>\n",
       "<table border=\"1\" class=\"dataframe\">\n",
       "  <thead>\n",
       "    <tr style=\"text-align: right;\">\n",
       "      <th></th>\n",
       "      <th>TotalWorkingYears</th>\n",
       "      <th>YearsAtCompany</th>\n",
       "      <th>YearsInCurrentRole</th>\n",
       "      <th>YearsSinceLastPromotion</th>\n",
       "      <th>YearsWithCurrManager</th>\n",
       "    </tr>\n",
       "  </thead>\n",
       "  <tbody>\n",
       "    <tr>\n",
       "      <th>1</th>\n",
       "      <td>38.0</td>\n",
       "      <td>37.0</td>\n",
       "      <td>10.0</td>\n",
       "      <td>1.0</td>\n",
       "      <td>8.0</td>\n",
       "    </tr>\n",
       "    <tr>\n",
       "      <th>4</th>\n",
       "      <td>10.0</td>\n",
       "      <td>4.0</td>\n",
       "      <td>0.0</td>\n",
       "      <td>5308.0</td>\n",
       "      <td>3.0</td>\n",
       "    </tr>\n",
       "    <tr>\n",
       "      <th>5</th>\n",
       "      <td>6.0</td>\n",
       "      <td>5.0</td>\n",
       "      <td>3.0</td>\n",
       "      <td>4.0</td>\n",
       "      <td>1067.0</td>\n",
       "    </tr>\n",
       "    <tr>\n",
       "      <th>6</th>\n",
       "      <td>14.0</td>\n",
       "      <td>14.0</td>\n",
       "      <td>8.0</td>\n",
       "      <td>9.0</td>\n",
       "      <td>5168.0</td>\n",
       "    </tr>\n",
       "    <tr>\n",
       "      <th>7</th>\n",
       "      <td>36.0</td>\n",
       "      <td>7.0</td>\n",
       "      <td>7.0</td>\n",
       "      <td>7.0</td>\n",
       "      <td>7.0</td>\n",
       "    </tr>\n",
       "    <tr>\n",
       "      <th>...</th>\n",
       "      <td>...</td>\n",
       "      <td>...</td>\n",
       "      <td>...</td>\n",
       "      <td>...</td>\n",
       "      <td>...</td>\n",
       "    </tr>\n",
       "    <tr>\n",
       "      <th>3549</th>\n",
       "      <td>7.0</td>\n",
       "      <td>3.0</td>\n",
       "      <td>4252.0</td>\n",
       "      <td>1.0</td>\n",
       "      <td>2.0</td>\n",
       "    </tr>\n",
       "    <tr>\n",
       "      <th>3550</th>\n",
       "      <td>26.0</td>\n",
       "      <td>22.0</td>\n",
       "      <td>9.0</td>\n",
       "      <td>3.0</td>\n",
       "      <td>10.0</td>\n",
       "    </tr>\n",
       "    <tr>\n",
       "      <th>3552</th>\n",
       "      <td>8.0</td>\n",
       "      <td>4706.0</td>\n",
       "      <td>2.0</td>\n",
       "      <td>0.0</td>\n",
       "      <td>2.0</td>\n",
       "    </tr>\n",
       "    <tr>\n",
       "      <th>3555</th>\n",
       "      <td>27.0</td>\n",
       "      <td>26.0</td>\n",
       "      <td>0.0</td>\n",
       "      <td>0.0</td>\n",
       "      <td>12.0</td>\n",
       "    </tr>\n",
       "    <tr>\n",
       "      <th>3557</th>\n",
       "      <td>5.0</td>\n",
       "      <td>5.0</td>\n",
       "      <td>3.0</td>\n",
       "      <td>6305.0</td>\n",
       "      <td>0.0</td>\n",
       "    </tr>\n",
       "  </tbody>\n",
       "</table>\n",
       "<p>1309 rows × 5 columns</p>\n",
       "</div>"
      ],
      "text/plain": [
       "      TotalWorkingYears  YearsAtCompany  YearsInCurrentRole  \\\n",
       "1                  38.0            37.0                10.0   \n",
       "4                  10.0             4.0                 0.0   \n",
       "5                   6.0             5.0                 3.0   \n",
       "6                  14.0            14.0                 8.0   \n",
       "7                  36.0             7.0                 7.0   \n",
       "...                 ...             ...                 ...   \n",
       "3549                7.0             3.0              4252.0   \n",
       "3550               26.0            22.0                 9.0   \n",
       "3552                8.0          4706.0                 2.0   \n",
       "3555               27.0            26.0                 0.0   \n",
       "3557                5.0             5.0                 3.0   \n",
       "\n",
       "      YearsSinceLastPromotion  YearsWithCurrManager  \n",
       "1                         1.0                   8.0  \n",
       "4                      5308.0                   3.0  \n",
       "5                         4.0                1067.0  \n",
       "6                         9.0                5168.0  \n",
       "7                         7.0                   7.0  \n",
       "...                       ...                   ...  \n",
       "3549                      1.0                   2.0  \n",
       "3550                      3.0                  10.0  \n",
       "3552                      0.0                   2.0  \n",
       "3555                      0.0                  12.0  \n",
       "3557                   6305.0                   0.0  \n",
       "\n",
       "[1309 rows x 5 columns]"
      ]
     },
     "execution_count": 28,
     "metadata": {},
     "output_type": "execute_result"
    }
   ],
   "source": [
    "Q1 = X_train_outliers.quantile(0.25)\n",
    "Q3 = X_train_outliers.quantile(0.75)\n",
    "IQR = Q3 - Q1\n",
    "upper_end = Q3 + 1.5 * IQR\n",
    "lower_end = Q3 - 1.5 * IQR\n",
    "\n",
    "print(f'Q1:\\n{Q1}\\n')\n",
    "print(f'Q3:\\n{Q3}\\n')\n",
    "print(f'lower_end:\\n{lower_end}\\n')\n",
    "print(f'upper_end:\\n{upper_end}\\n')\n",
    "\n",
    "IQR_outliers = X_train_outliers[((X_train_outliers < lower_end) |(X_train_outliers > upper_end)).any(axis=1)]\n",
    "IQR_outliers"
   ]
  },
  {
   "cell_type": "code",
   "execution_count": 1007,
   "metadata": {},
   "outputs": [
    {
     "data": {
      "text/plain": [
       "Index(['TotalWorkingYears', 'YearsAtCompany', 'YearsInCurrentRole',\n",
       "       'YearsSinceLastPromotion', 'YearsWithCurrManager'],\n",
       "      dtype='object')"
      ]
     },
     "execution_count": 1007,
     "metadata": {},
     "output_type": "execute_result"
    }
   ],
   "source": [
    "X_train_outliers.columns"
   ]
  },
  {
   "cell_type": "code",
   "execution_count": 1085,
   "metadata": {},
   "outputs": [
    {
     "ename": "TypeError",
     "evalue": "string indices must be integers",
     "output_type": "error",
     "traceback": [
      "\u001b[0;31m---------------------------------------------------------------------------\u001b[0m",
      "\u001b[0;31mTypeError\u001b[0m                                 Traceback (most recent call last)",
      "Input \u001b[0;32mIn [1085]\u001b[0m, in \u001b[0;36m<cell line: 2>\u001b[0;34m()\u001b[0m\n\u001b[1;32m      1\u001b[0m \u001b[38;5;66;03m# identify outliers\u001b[39;00m\n\u001b[1;32m      2\u001b[0m \u001b[38;5;28;01mfor\u001b[39;00m col \u001b[38;5;129;01min\u001b[39;00m X_train_outliers:\n\u001b[0;32m----> 3\u001b[0m     \u001b[38;5;28;01mfor\u001b[39;00m x \u001b[38;5;129;01min\u001b[39;00m \u001b[43mcol\u001b[49m\u001b[43m[\u001b[49m\u001b[43mx\u001b[49m\u001b[43m]\u001b[49m:\n\u001b[1;32m      4\u001b[0m         \u001b[38;5;28mprint\u001b[39m(x)\n",
      "\u001b[0;31mTypeError\u001b[0m: string indices must be integers"
     ]
    }
   ],
   "source": [
    "# identify outliers\n",
    "for col in X_train_outliers:\n",
    "    for x in col[x]:\n",
    "        print(x)\n",
    "#     if X_train_outliers[(x > upper_end)]:\n",
    "#         print('ye')\n",
    "# print('Identified outliers: %d' % len(outliers))\n",
    "\n",
    "\n",
    "\n",
    "# # remove outliers\n",
    "# outliers_removed = [x for x in X_train_outliers if x >= lower_end and x <= upper_end]\n",
    "# print('Non-outlier observations: %d' % len(outliers_removed))"
   ]
  },
  {
   "cell_type": "markdown",
   "metadata": {},
   "source": [
    "### IQR (Inter Quantile Range) outlier detection - to modify"
   ]
  },
  {
   "cell_type": "code",
   "execution_count": 862,
   "metadata": {
    "id": "lTI3-m54aYbS"
   },
   "outputs": [],
   "source": [
    "# def outlier_detection(features_series):\n",
    "\n",
    "#     Q1 = features_series.quantile(0.25)\n",
    "#     Q3 = features_series.quantile(0.75)\n",
    "#     IQR = Q3 - Q1\n",
    "#     upper_end = Q3 + 1.5 * IQR\n",
    "#     lower_end = Q1 - 1.5 * IQR #change to 0 ?\n",
    "#     outlier = features_series[(features_series < lower_end) | (features_series > upper_end)]\n",
    "#     return outlier"
   ]
  },
  {
   "cell_type": "markdown",
   "metadata": {},
   "source": [
    "BONUS: wartosci rzędu 38, 36 sa OK i można je stad weliminować jako outliery"
   ]
  },
  {
   "cell_type": "code",
   "execution_count": 864,
   "metadata": {},
   "outputs": [
    {
     "name": "stdout",
     "output_type": "stream",
     "text": [
      "(3559, 13) (3559,)\n"
     ]
    }
   ],
   "source": [
    "print(X_train.shape, y_train.shape)"
   ]
  },
  {
   "cell_type": "code",
   "execution_count": 877,
   "metadata": {
    "scrolled": false
   },
   "outputs": [
    {
     "name": "stdout",
     "output_type": "stream",
     "text": [
      "Outliers w kolumnie       TotalWorkingYears\n",
      "1                  38.0\n",
      "7                  36.0\n",
      "65               9501.0\n",
      "66               9327.0\n",
      "67               6666.0\n",
      "...                 ...\n",
      "3479             1086.0\n",
      "3506             2352.0\n",
      "3533             8583.0\n",
      "3539             2651.0\n",
      "3544             5670.0\n",
      "\n",
      "[262 rows x 1 columns]\n",
      "\n",
      "Outliers w kolumnie       YearsAtCompany\n",
      "1               37.0\n",
      "15            8298.0\n",
      "35            3687.0\n",
      "51              22.0\n",
      "74              32.0\n",
      "...              ...\n",
      "3531          8553.0\n",
      "3542          2659.0\n",
      "3550            22.0\n",
      "3552          4706.0\n",
      "3555            26.0\n",
      "\n",
      "[354 rows x 1 columns]\n",
      "\n",
      "Outliers w kolumnie       YearsInCurrentRole\n",
      "9                 3683.0\n",
      "24                  15.0\n",
      "34                3121.0\n",
      "38                2816.0\n",
      "44                3235.0\n",
      "...                  ...\n",
      "3493                16.0\n",
      "3496                15.0\n",
      "3508              8251.0\n",
      "3537              3978.0\n",
      "3549              4252.0\n",
      "\n",
      "[290 rows x 1 columns]\n",
      "\n",
      "Outliers w kolumnie       YearsSinceLastPromotion\n",
      "4                      5308.0\n",
      "10                     2166.0\n",
      "11                     9952.0\n",
      "13                     8652.0\n",
      "15                       13.0\n",
      "...                       ...\n",
      "3503                   7427.0\n",
      "3516                   5292.0\n",
      "3521                   4370.0\n",
      "3526                   8853.0\n",
      "3557                   6305.0\n",
      "\n",
      "[386 rows x 1 columns]\n",
      "\n",
      "Outliers w kolumnie       YearsWithCurrManager\n",
      "5                   1067.0\n",
      "6                   5168.0\n",
      "22                  5233.0\n",
      "25                  1759.0\n",
      "98                  8954.0\n",
      "...                    ...\n",
      "3473                7230.0\n",
      "3484                7420.0\n",
      "3520                5242.0\n",
      "3535                7012.0\n",
      "3543                6654.0\n",
      "\n",
      "[230 rows x 1 columns]\n",
      "\n"
     ]
    }
   ],
   "source": [
    "for i in outlier_columns:\n",
    "    Q1 = np.percentile(X_train[i],[25])\n",
    "    Q3 = np.percentile(X_train[i],[75])\n",
    "    IQR = Q3 - Q1\n",
    "    upper_end = Q3 + 1.5 * IQR\n",
    "    lower_end = 0\n",
    "#     outlier = outlier_detection(X_train_outliers[column])\n",
    "#     print(f\"Outliers w kolumnie {pd.DataFrame(outlier)}\\n\")\n",
    "    \n",
    "    #assigning nan to the outliers\n",
    "#     X_train[i].iloc[X_train[X_train[i] < lower_end].index]=np.nan\n",
    "    X_train[i].iloc[X_train[X_train[i] > upper_end].index]=np.nan\n",
    "    \n",
    "# #imputing nan values\n",
    "# df1['Age']=df1.Age.fillna(df1.Age.mean())\n",
    "# df1['Fare']=df1.Fare.fillna(df1.Fare.mean())"
   ]
  },
  {
   "cell_type": "code",
   "execution_count": 873,
   "metadata": {},
   "outputs": [
    {
     "data": {
      "text/html": [
       "<div>\n",
       "<style scoped>\n",
       "    .dataframe tbody tr th:only-of-type {\n",
       "        vertical-align: middle;\n",
       "    }\n",
       "\n",
       "    .dataframe tbody tr th {\n",
       "        vertical-align: top;\n",
       "    }\n",
       "\n",
       "    .dataframe thead th {\n",
       "        text-align: right;\n",
       "    }\n",
       "</style>\n",
       "<table border=\"1\" class=\"dataframe\">\n",
       "  <thead>\n",
       "    <tr style=\"text-align: right;\">\n",
       "      <th></th>\n",
       "      <th>YearsWithCurrManager</th>\n",
       "    </tr>\n",
       "  </thead>\n",
       "  <tbody>\n",
       "    <tr>\n",
       "      <th>5</th>\n",
       "      <td>1067.0</td>\n",
       "    </tr>\n",
       "    <tr>\n",
       "      <th>6</th>\n",
       "      <td>5168.0</td>\n",
       "    </tr>\n",
       "    <tr>\n",
       "      <th>22</th>\n",
       "      <td>5233.0</td>\n",
       "    </tr>\n",
       "    <tr>\n",
       "      <th>25</th>\n",
       "      <td>1759.0</td>\n",
       "    </tr>\n",
       "    <tr>\n",
       "      <th>98</th>\n",
       "      <td>8954.0</td>\n",
       "    </tr>\n",
       "    <tr>\n",
       "      <th>...</th>\n",
       "      <td>...</td>\n",
       "    </tr>\n",
       "    <tr>\n",
       "      <th>3473</th>\n",
       "      <td>7230.0</td>\n",
       "    </tr>\n",
       "    <tr>\n",
       "      <th>3484</th>\n",
       "      <td>7420.0</td>\n",
       "    </tr>\n",
       "    <tr>\n",
       "      <th>3520</th>\n",
       "      <td>5242.0</td>\n",
       "    </tr>\n",
       "    <tr>\n",
       "      <th>3535</th>\n",
       "      <td>7012.0</td>\n",
       "    </tr>\n",
       "    <tr>\n",
       "      <th>3543</th>\n",
       "      <td>6654.0</td>\n",
       "    </tr>\n",
       "  </tbody>\n",
       "</table>\n",
       "<p>230 rows × 1 columns</p>\n",
       "</div>"
      ],
      "text/plain": [
       "      YearsWithCurrManager\n",
       "5                   1067.0\n",
       "6                   5168.0\n",
       "22                  5233.0\n",
       "25                  1759.0\n",
       "98                  8954.0\n",
       "...                    ...\n",
       "3473                7230.0\n",
       "3484                7420.0\n",
       "3520                5242.0\n",
       "3535                7012.0\n",
       "3543                6654.0\n",
       "\n",
       "[230 rows x 1 columns]"
      ]
     },
     "execution_count": 873,
     "metadata": {},
     "output_type": "execute_result"
    }
   ],
   "source": [
    "pd.DataFrame(outliers)"
   ]
  },
  {
   "cell_type": "code",
   "execution_count": 389,
   "metadata": {},
   "outputs": [],
   "source": [
    "def outlier_remove(features_series):\n",
    "    Q1 = features_series.quantile(0.25)\n",
    "    Q3 = features_series.quantile(0.75)\n",
    "    IQR = Q3 - Q1\n",
    "    upper_end = Q3 + 1.5 * IQR\n",
    "    lower_end = Q1 - 1.5 * IQR\n",
    "    outliers_removed = [x for x in X_train if x >= lower_end and x <= upper_end]\n",
    "    return outliers_removed"
   ]
  },
  {
   "cell_type": "code",
   "execution_count": 390,
   "metadata": {},
   "outputs": [
    {
     "ename": "TypeError",
     "evalue": "'<=' not supported between instances of 'numpy.ndarray' and 'str'",
     "output_type": "error",
     "traceback": [
      "\u001b[0;31m---------------------------------------------------------------------------\u001b[0m",
      "\u001b[0;31mTypeError\u001b[0m                                 Traceback (most recent call last)",
      "Input \u001b[0;32mIn [390]\u001b[0m, in \u001b[0;36m<cell line: 1>\u001b[0;34m()\u001b[0m\n\u001b[0;32m----> 1\u001b[0m \u001b[43moutlier_remove\u001b[49m\u001b[43m(\u001b[49m\u001b[43mX_train\u001b[49m\u001b[43m[\u001b[49m\u001b[43mcolumn\u001b[49m\u001b[43m]\u001b[49m\u001b[43m)\u001b[49m\n",
      "Input \u001b[0;32mIn [389]\u001b[0m, in \u001b[0;36moutlier_remove\u001b[0;34m(features_series)\u001b[0m\n\u001b[1;32m      5\u001b[0m upper_end \u001b[38;5;241m=\u001b[39m Q3 \u001b[38;5;241m+\u001b[39m \u001b[38;5;241m1.5\u001b[39m \u001b[38;5;241m*\u001b[39m IQR\n\u001b[1;32m      6\u001b[0m lower_end \u001b[38;5;241m=\u001b[39m Q1 \u001b[38;5;241m-\u001b[39m \u001b[38;5;241m1.5\u001b[39m \u001b[38;5;241m*\u001b[39m IQR\n\u001b[0;32m----> 7\u001b[0m outliers_removed \u001b[38;5;241m=\u001b[39m [x \u001b[38;5;28;01mfor\u001b[39;00m x \u001b[38;5;129;01min\u001b[39;00m X_train \u001b[38;5;28;01mif\u001b[39;00m x \u001b[38;5;241m>\u001b[39m\u001b[38;5;241m=\u001b[39m lower_end \u001b[38;5;129;01mand\u001b[39;00m x \u001b[38;5;241m<\u001b[39m\u001b[38;5;241m=\u001b[39m upper_end]\n\u001b[1;32m      8\u001b[0m \u001b[38;5;28;01mreturn\u001b[39;00m outliers_removed\n",
      "Input \u001b[0;32mIn [389]\u001b[0m, in \u001b[0;36m<listcomp>\u001b[0;34m(.0)\u001b[0m\n\u001b[1;32m      5\u001b[0m upper_end \u001b[38;5;241m=\u001b[39m Q3 \u001b[38;5;241m+\u001b[39m \u001b[38;5;241m1.5\u001b[39m \u001b[38;5;241m*\u001b[39m IQR\n\u001b[1;32m      6\u001b[0m lower_end \u001b[38;5;241m=\u001b[39m Q1 \u001b[38;5;241m-\u001b[39m \u001b[38;5;241m1.5\u001b[39m \u001b[38;5;241m*\u001b[39m IQR\n\u001b[0;32m----> 7\u001b[0m outliers_removed \u001b[38;5;241m=\u001b[39m [x \u001b[38;5;28;01mfor\u001b[39;00m x \u001b[38;5;129;01min\u001b[39;00m X_train \u001b[38;5;28;01mif\u001b[39;00m \u001b[43mx\u001b[49m\u001b[43m \u001b[49m\u001b[38;5;241;43m>\u001b[39;49m\u001b[38;5;241;43m=\u001b[39;49m\u001b[43m \u001b[49m\u001b[43mlower_end\u001b[49m \u001b[38;5;129;01mand\u001b[39;00m x \u001b[38;5;241m<\u001b[39m\u001b[38;5;241m=\u001b[39m upper_end]\n\u001b[1;32m      8\u001b[0m \u001b[38;5;28;01mreturn\u001b[39;00m outliers_removed\n",
      "\u001b[0;31mTypeError\u001b[0m: '<=' not supported between instances of 'numpy.ndarray' and 'str'"
     ]
    }
   ],
   "source": [
    "outlier_remove(X_train[column])"
   ]
  },
  {
   "cell_type": "code",
   "execution_count": null,
   "metadata": {},
   "outputs": [],
   "source": [
    "# for column in X_train_outlier.columns:\n",
    "#     outliers_removed = outlier_detection(X_train[column])\n",
    "#     print(f\"Outliers removed w kolumnie {pd.DataFrame(outliers_removed)}\\n\")"
   ]
  },
  {
   "cell_type": "code",
   "execution_count": null,
   "metadata": {},
   "outputs": [],
   "source": [
    "outliers_removed"
   ]
  },
  {
   "cell_type": "code",
   "execution_count": null,
   "metadata": {
    "scrolled": true
   },
   "outputs": [],
   "source": [
    "def get_impute_zero_score(X_missing, y_missing):\n",
    "\n",
    "    imputer = SimpleImputer(\n",
    "        missing_values=np.nan, add_indicator=True, strategy=\"constant\", fill_value=0\n",
    "    )\n",
    "    zero_impute_scores = get_scores_for_imputer(imputer, X_missing, y_missing)\n",
    "    return zero_impute_scores.mean(), zero_impute_scores.std()\n",
    "\n",
    "\n",
    "# mses_df[1], stds_df[1] = get_impute_zero_score(\n",
    "#     X_miss_california, y_miss_california\n",
    "# )\n",
    "# mses_diabetes[1], stds_diabetes[1] = get_impute_zero_score(\n",
    "#     X_miss_diabetes, y_miss_diabetes\n",
    "# )\n",
    "# x_labels.append(\"Zero imputation\")\n"
   ]
  },
  {
   "cell_type": "code",
   "execution_count": null,
   "metadata": {},
   "outputs": [],
   "source": [
    "for column in outlier_df.columns:\n",
    "    outliers = outlier_detection(outlier_df[column])\n",
    "    for elem in outliers:\n",
    "        SimpleImputer(\n",
    "        missing_values=elem, add_indicator=True, strategy=\"constant\", fill_value=np.nan\n",
    "    )\n",
    "    print(f\"{elem}\\n\")\n",
    "    \n",
    "    "
   ]
  },
  {
   "cell_type": "markdown",
   "metadata": {},
   "source": [
    "SimpleImputer with 'mean' strategy is not good. Median is better but can be not precise.\n",
    "for column in outlier_df.columns:\n",
    "    outliers = outlier_detection(outlier_df[column])\n",
    "    print(f\"Outliers w kolumnie {pd.DataFrame(outliers)}\")\n",
    "    \n",
    "Decided to use IterativeImputer"
   ]
  },
  {
   "cell_type": "markdown",
   "metadata": {},
   "source": [
    "# IterativeImputer\n",
    "\n",
    "https://towardsdatascience.com/detecting-and-treating-outliers-in-python-part-1-4ece5098b755\n",
    "\n",
    "https://towardsdatascience.com/detecting-and-treating-outliers-in-python-part-2-3a3319ec2c33\n",
    "\n",
    "https://towardsdatascience.com/detecting-and-treating-outliers-in-python-part-3-dcb54abaf7b0"
   ]
  },
  {
   "cell_type": "code",
   "execution_count": 41,
   "metadata": {},
   "outputs": [
    {
     "data": {
      "text/plain": [
       "['TotalWorkingYears',\n",
       " 'YearsAtCompany',\n",
       " 'YearsInCurrentRole',\n",
       " 'YearsSinceLastPromotion',\n",
       " 'YearsWithCurrManager']"
      ]
     },
     "execution_count": 41,
     "metadata": {},
     "output_type": "execute_result"
    }
   ],
   "source": [
    "outlier_columns"
   ]
  },
  {
   "cell_type": "code",
   "execution_count": 40,
   "metadata": {},
   "outputs": [
    {
     "ename": "TypeError",
     "evalue": "Invalid comparison between dtype=float64 and str",
     "output_type": "error",
     "traceback": [
      "\u001b[0;31m---------------------------------------------------------------------------\u001b[0m",
      "\u001b[0;31mTypeError\u001b[0m                                 Traceback (most recent call last)",
      "Input \u001b[0;32mIn [40]\u001b[0m, in \u001b[0;36m<cell line: 28>\u001b[0;34m()\u001b[0m\n\u001b[1;32m     25\u001b[0m             outliers_poss\u001b[38;5;241m.\u001b[39mappend(index)\n\u001b[1;32m     26\u001b[0m     \u001b[38;5;28;01mreturn\u001b[39;00m outliers_prob, outliers_poss\n\u001b[0;32m---> 28\u001b[0m probable_outliers_tm, possible_outliers_tm \u001b[38;5;241m=\u001b[39m \u001b[43mtukeys_method\u001b[49m\u001b[43m(\u001b[49m\u001b[43mX_train\u001b[49m\u001b[43m,\u001b[49m\u001b[43m \u001b[49m\u001b[43moutlier_columns\u001b[49m\u001b[43m)\u001b[49m\n\u001b[1;32m     29\u001b[0m \u001b[38;5;28mprint\u001b[39m(\u001b[38;5;124mf\u001b[39m\u001b[38;5;124m'\u001b[39m\u001b[38;5;124mProbable outliers Tukeys method\u001b[39m\u001b[38;5;130;01m\\n\u001b[39;00m\u001b[38;5;124m \u001b[39m\u001b[38;5;132;01m{\u001b[39;00mprobable_outliers_tm\u001b[38;5;132;01m}\u001b[39;00m\u001b[38;5;130;01m\\n\u001b[39;00m\u001b[38;5;124m'\u001b[39m)\n\u001b[1;32m     31\u001b[0m \u001b[38;5;28mprint\u001b[39m(\u001b[38;5;124mf\u001b[39m\u001b[38;5;124m'\u001b[39m\u001b[38;5;124mPossible outliers Tukeys method\u001b[39m\u001b[38;5;130;01m\\n\u001b[39;00m\u001b[38;5;124m \u001b[39m\u001b[38;5;132;01m{\u001b[39;00mpossible_outliers_tm\u001b[38;5;132;01m}\u001b[39;00m\u001b[38;5;130;01m\\n\u001b[39;00m\u001b[38;5;124m'\u001b[39m)\n",
      "Input \u001b[0;32mIn [40]\u001b[0m, in \u001b[0;36mtukeys_method\u001b[0;34m(df, variable)\u001b[0m\n\u001b[1;32m     19\u001b[0m outliers_poss \u001b[38;5;241m=\u001b[39m []\n\u001b[1;32m     20\u001b[0m \u001b[38;5;28;01mfor\u001b[39;00m index, x \u001b[38;5;129;01min\u001b[39;00m \u001b[38;5;28menumerate\u001b[39m(df[variable]):\n\u001b[0;32m---> 21\u001b[0m     \u001b[38;5;28;01mif\u001b[39;00m \u001b[43mx\u001b[49m\u001b[43m \u001b[49m\u001b[38;5;241;43m<\u001b[39;49m\u001b[38;5;241;43m=\u001b[39;49m\u001b[43m \u001b[49m\u001b[43mouter_fence_le\u001b[49m \u001b[38;5;129;01mor\u001b[39;00m x \u001b[38;5;241m>\u001b[39m\u001b[38;5;241m=\u001b[39m outer_fence_ue:\n\u001b[1;32m     22\u001b[0m         outliers_prob\u001b[38;5;241m.\u001b[39mappend(index)\n\u001b[1;32m     23\u001b[0m \u001b[38;5;28;01mfor\u001b[39;00m index, x \u001b[38;5;129;01min\u001b[39;00m \u001b[38;5;28menumerate\u001b[39m(df[variable]):\n",
      "File \u001b[0;32m~/.local/lib/python3.10/site-packages/pandas/core/ops/common.py:70\u001b[0m, in \u001b[0;36m_unpack_zerodim_and_defer.<locals>.new_method\u001b[0;34m(self, other)\u001b[0m\n\u001b[1;32m     66\u001b[0m             \u001b[38;5;28;01mreturn\u001b[39;00m \u001b[38;5;28mNotImplemented\u001b[39m\n\u001b[1;32m     68\u001b[0m other \u001b[38;5;241m=\u001b[39m item_from_zerodim(other)\n\u001b[0;32m---> 70\u001b[0m \u001b[38;5;28;01mreturn\u001b[39;00m \u001b[43mmethod\u001b[49m\u001b[43m(\u001b[49m\u001b[38;5;28;43mself\u001b[39;49m\u001b[43m,\u001b[49m\u001b[43m \u001b[49m\u001b[43mother\u001b[49m\u001b[43m)\u001b[49m\n",
      "File \u001b[0;32m~/.local/lib/python3.10/site-packages/pandas/core/arraylike.py:60\u001b[0m, in \u001b[0;36mOpsMixin.__ge__\u001b[0;34m(self, other)\u001b[0m\n\u001b[1;32m     58\u001b[0m \u001b[38;5;129m@unpack_zerodim_and_defer\u001b[39m(\u001b[38;5;124m\"\u001b[39m\u001b[38;5;124m__ge__\u001b[39m\u001b[38;5;124m\"\u001b[39m)\n\u001b[1;32m     59\u001b[0m \u001b[38;5;28;01mdef\u001b[39;00m \u001b[38;5;21m__ge__\u001b[39m(\u001b[38;5;28mself\u001b[39m, other):\n\u001b[0;32m---> 60\u001b[0m     \u001b[38;5;28;01mreturn\u001b[39;00m \u001b[38;5;28;43mself\u001b[39;49m\u001b[38;5;241;43m.\u001b[39;49m\u001b[43m_cmp_method\u001b[49m\u001b[43m(\u001b[49m\u001b[43mother\u001b[49m\u001b[43m,\u001b[49m\u001b[43m \u001b[49m\u001b[43moperator\u001b[49m\u001b[38;5;241;43m.\u001b[39;49m\u001b[43mge\u001b[49m\u001b[43m)\u001b[49m\n",
      "File \u001b[0;32m~/.local/lib/python3.10/site-packages/pandas/core/series.py:5623\u001b[0m, in \u001b[0;36mSeries._cmp_method\u001b[0;34m(self, other, op)\u001b[0m\n\u001b[1;32m   5620\u001b[0m rvalues \u001b[38;5;241m=\u001b[39m extract_array(other, extract_numpy\u001b[38;5;241m=\u001b[39m\u001b[38;5;28;01mTrue\u001b[39;00m, extract_range\u001b[38;5;241m=\u001b[39m\u001b[38;5;28;01mTrue\u001b[39;00m)\n\u001b[1;32m   5622\u001b[0m \u001b[38;5;28;01mwith\u001b[39;00m np\u001b[38;5;241m.\u001b[39merrstate(\u001b[38;5;28mall\u001b[39m\u001b[38;5;241m=\u001b[39m\u001b[38;5;124m\"\u001b[39m\u001b[38;5;124mignore\u001b[39m\u001b[38;5;124m\"\u001b[39m):\n\u001b[0;32m-> 5623\u001b[0m     res_values \u001b[38;5;241m=\u001b[39m \u001b[43mops\u001b[49m\u001b[38;5;241;43m.\u001b[39;49m\u001b[43mcomparison_op\u001b[49m\u001b[43m(\u001b[49m\u001b[43mlvalues\u001b[49m\u001b[43m,\u001b[49m\u001b[43m \u001b[49m\u001b[43mrvalues\u001b[49m\u001b[43m,\u001b[49m\u001b[43m \u001b[49m\u001b[43mop\u001b[49m\u001b[43m)\u001b[49m\n\u001b[1;32m   5625\u001b[0m \u001b[38;5;28;01mreturn\u001b[39;00m \u001b[38;5;28mself\u001b[39m\u001b[38;5;241m.\u001b[39m_construct_result(res_values, name\u001b[38;5;241m=\u001b[39mres_name)\n",
      "File \u001b[0;32m~/.local/lib/python3.10/site-packages/pandas/core/ops/array_ops.py:280\u001b[0m, in \u001b[0;36mcomparison_op\u001b[0;34m(left, right, op)\u001b[0m\n\u001b[1;32m    276\u001b[0m         res_values \u001b[38;5;241m=\u001b[39m np\u001b[38;5;241m.\u001b[39mzeros(lvalues\u001b[38;5;241m.\u001b[39mshape, dtype\u001b[38;5;241m=\u001b[39m\u001b[38;5;28mbool\u001b[39m)\n\u001b[1;32m    278\u001b[0m \u001b[38;5;28;01melif\u001b[39;00m is_numeric_v_string_like(lvalues, rvalues):\n\u001b[1;32m    279\u001b[0m     \u001b[38;5;66;03m# GH#36377 going through the numexpr path would incorrectly raise\u001b[39;00m\n\u001b[0;32m--> 280\u001b[0m     \u001b[38;5;28;01mreturn\u001b[39;00m \u001b[43minvalid_comparison\u001b[49m\u001b[43m(\u001b[49m\u001b[43mlvalues\u001b[49m\u001b[43m,\u001b[49m\u001b[43m \u001b[49m\u001b[43mrvalues\u001b[49m\u001b[43m,\u001b[49m\u001b[43m \u001b[49m\u001b[43mop\u001b[49m\u001b[43m)\u001b[49m\n\u001b[1;32m    282\u001b[0m \u001b[38;5;28;01melif\u001b[39;00m is_object_dtype(lvalues\u001b[38;5;241m.\u001b[39mdtype) \u001b[38;5;129;01mor\u001b[39;00m \u001b[38;5;28misinstance\u001b[39m(rvalues, \u001b[38;5;28mstr\u001b[39m):\n\u001b[1;32m    283\u001b[0m     res_values \u001b[38;5;241m=\u001b[39m comp_method_OBJECT_ARRAY(op, lvalues, rvalues)\n",
      "File \u001b[0;32m~/.local/lib/python3.10/site-packages/pandas/core/ops/invalid.py:34\u001b[0m, in \u001b[0;36minvalid_comparison\u001b[0;34m(left, right, op)\u001b[0m\n\u001b[1;32m     32\u001b[0m \u001b[38;5;28;01melse\u001b[39;00m:\n\u001b[1;32m     33\u001b[0m     typ \u001b[38;5;241m=\u001b[39m \u001b[38;5;28mtype\u001b[39m(right)\u001b[38;5;241m.\u001b[39m\u001b[38;5;18m__name__\u001b[39m\n\u001b[0;32m---> 34\u001b[0m     \u001b[38;5;28;01mraise\u001b[39;00m \u001b[38;5;167;01mTypeError\u001b[39;00m(\u001b[38;5;124mf\u001b[39m\u001b[38;5;124m\"\u001b[39m\u001b[38;5;124mInvalid comparison between dtype=\u001b[39m\u001b[38;5;132;01m{\u001b[39;00mleft\u001b[38;5;241m.\u001b[39mdtype\u001b[38;5;132;01m}\u001b[39;00m\u001b[38;5;124m and \u001b[39m\u001b[38;5;132;01m{\u001b[39;00mtyp\u001b[38;5;132;01m}\u001b[39;00m\u001b[38;5;124m\"\u001b[39m)\n\u001b[1;32m     35\u001b[0m \u001b[38;5;28;01mreturn\u001b[39;00m res_values\n",
      "\u001b[0;31mTypeError\u001b[0m: Invalid comparison between dtype=float64 and str"
     ]
    }
   ],
   "source": [
    "#Tukey's method\n",
    "def tukeys_method(df, variable=list()):\n",
    "    #Takes two parameters: dataframe & variable of interest as string\n",
    "    q1 = df[variable].quantile(0.25)\n",
    "    q3 = df[variable].quantile(0.75)\n",
    "    iqr = q3-q1\n",
    "    inner_fence = 1.5*iqr\n",
    "    outer_fence = 3*iqr\n",
    "    \n",
    "    #inner fence lower and upper end\n",
    "    inner_fence_le = q1-inner_fence\n",
    "    inner_fence_ue = q3+inner_fence\n",
    "    \n",
    "    #outer fence lower and upper end\n",
    "    outer_fence_le = q1-outer_fence\n",
    "    outer_fence_ue = q3+outer_fence\n",
    "    \n",
    "    outliers_prob = []\n",
    "    outliers_poss = []\n",
    "    for index, x in enumerate(df[variable]):\n",
    "        if x <= outer_fence_le or x >= outer_fence_ue:\n",
    "            outliers_prob.append(index)\n",
    "    for index, x in enumerate(df[variable]):\n",
    "        if x <= inner_fence_le or x >= inner_fence_ue:\n",
    "            outliers_poss.append(index)\n",
    "    return outliers_prob, outliers_poss\n",
    "        \n",
    "probable_outliers_tm, possible_outliers_tm = tukeys_method(X_train, outlier_columns)\n",
    "print(f'Probable outliers Tukeys method\\n {probable_outliers_tm}\\n')\n",
    "\n",
    "print(f'Possible outliers Tukeys method\\n {possible_outliers_tm}\\n')"
   ]
  },
  {
   "cell_type": "code",
   "execution_count": null,
   "metadata": {},
   "outputs": [],
   "source": [
    "#Probable outliers detected trough Tukey method (example)\n",
    "X_train_imp = X_train.copy(deep=True)\n",
    "probable_outliers_tm = [374, 375, 376, 378, 379, 380, 381, 384, 385, 386, 387, 398, 400, \n",
    "                        403, 404, 405, 406, 410, 412, 413, 414, 415, 417, 418, 425, 427, \n",
    "                        437, 440, 468, 477]\n",
    "\n",
    "#Turn outliers into missing values for imputation\n",
    "def outliers_to_nan(df, variable_name, probable_outliers):\n",
    "    for i in probable_outliers_tm:\n",
    "        df.at[i, variable_name] = None\n",
    "    return df\n",
    "\n",
    "df_imp = outliers_to_nan(df_imp, 'CRIM', probable_outliers_tm)                    \n",
    "#df_imp[374:378] #test   "
   ]
  },
  {
   "cell_type": "code",
   "execution_count": null,
   "metadata": {},
   "outputs": [],
   "source": [
    "#Probable outliers detected trough Tukey method (example)\n",
    "df_imp = df.copy(deep=True)\n",
    "probable_outliers_tm = [374, 375, 376, 378, 379, 380, 381, 384, 385, 386, 387, 398, 400, \n",
    "                        403, 404, 405, 406, 410, 412, 413, 414, 415, 417, 418, 425, 427, \n",
    "                        437, 440, 468, 477]\n",
    "\n",
    "#Turn outliers into missing values for imputation\n",
    "def outliers_to_nan(df, variable_name, probable_outliers):\n",
    "    for i in probable_outliers_tm:\n",
    "        df.at[i, variable_name] = None\n",
    "    return df\n",
    "\n",
    "df_imp = outliers_to_nan(df_imp, 'CRIM', probable_outliers_tm)                    \n",
    "#df_imp[374:378] #test   "
   ]
  },
  {
   "cell_type": "raw",
   "metadata": {},
   "source": [
    "### __________"
   ]
  },
  {
   "cell_type": "code",
   "execution_count": null,
   "metadata": {},
   "outputs": [],
   "source": [
    "# for column in outlier_df.columns:\n",
    "#     outliers = np.nan\n",
    "#     print(f\"Outliers w kolumnie {pd.DataFrame(outliers)}\")"
   ]
  },
  {
   "cell_type": "code",
   "execution_count": null,
   "metadata": {},
   "outputs": [],
   "source": [
    "# Iterative Imputation\n",
    "iter_imputer = IterativeImputer(random_state=42)\n",
    "iter_imputed = iter_imputer.fit_transform(outlier_df)\n",
    "df_iter_imputed = pd.DataFrame(iter_imputed, columns=outlier_df.columns)\n",
    "df_iter_imputed"
   ]
  },
  {
   "cell_type": "code",
   "execution_count": null,
   "metadata": {},
   "outputs": [],
   "source": [
    "# Zmiana outliers na nan:\n",
    "\n",
    "# median = ddf4.loc[ddf4['DistanceFromHome']<20000, 'DistanceFromHome'].median()\n",
    "# X_train.loc[X_train.TotalWorkingYears > 100, 'DistanceFromHome'] = np.nan\n",
    "# ddf4.fillna(median,inplace=True)\n",
    "\n",
    "for elem in outlier_df.columns:\n",
    "    X_train.loc[outliers]\n",
    "    \n",
    "    outliers = outlier_detection(outlier_df[column])\n",
    "#     print(f\"Outliers w kolumnie {pd.DataFrame(outliers)}\")\n",
    "    print(outliers)"
   ]
  },
  {
   "cell_type": "code",
   "execution_count": null,
   "metadata": {},
   "outputs": [],
   "source": [
    "imp_mean = IterativeImputer(random_state=0)\n",
    "imp_mean.fit([[7, 2, 3], [4, np.nan, 6], [10, 5, 9]])\n",
    "\n",
    "X = [[np.nan, 2, 3], [4, np.nan, 6], [10, np.nan, 9]]\n",
    "imp_mean.transform(X)\n",
    "\n",
    "array([[ 6.9584...,  2.       ,  3.        ],\n",
    "       [ 4.       ,  2.6000...,  6.        ],\n",
    "       [10.       ,  4.9999...,  9.        ]])"
   ]
  },
  {
   "cell_type": "markdown",
   "metadata": {},
   "source": [
    "### LocalOutlierFactor - automatic outlier detection"
   ]
  },
  {
   "cell_type": "code",
   "execution_count": 788,
   "metadata": {},
   "outputs": [
    {
     "name": "stdout",
     "output_type": "stream",
     "text": [
      "LocalOutlierFactor(leaf_size=10, n_neighbors=2)\n",
      "[ 1 -1  1 ...  1  1  1]\n",
      "3559\n"
     ]
    }
   ],
   "source": [
    "lof = LocalOutlierFactor(\n",
    "    n_neighbors=2,\n",
    "    algorithm='auto', \n",
    "    leaf_size=10, \n",
    "    metric='minkowski', \n",
    "    p=2, \n",
    "    metric_params=None, \n",
    "    contamination='auto',  # contamination = auto or float from (0, 0.5]\n",
    "    novelty=False, \n",
    "    n_jobs=None\n",
    ")\n",
    "print(lof) \n",
    "\n",
    "yhat = lof.fit_predict(X_train_outliers) \n",
    "print(yhat)\n",
    "print(len(yhat))"
   ]
  },
  {
   "cell_type": "code",
   "execution_count": 790,
   "metadata": {},
   "outputs": [],
   "source": [
    "# lof = model.negative_outlier_factor_\n",
    "# # lof\n",
    "# thresh = np.quantile(lof, 0.1767)\n",
    "# print('Threshold:', thresh) \n",
    " \n",
    "# # index = np.where(lof<=thresh)\n",
    "# # values = X_train.loc[index]\n",
    "# values = X_train.loc[np.where(lof<=thresh)]\n",
    "# values"
   ]
  },
  {
   "cell_type": "code",
   "execution_count": 833,
   "metadata": {
    "scrolled": false
   },
   "outputs": [
    {
     "data": {
      "text/html": [
       "<div>\n",
       "<style scoped>\n",
       "    .dataframe tbody tr th:only-of-type {\n",
       "        vertical-align: middle;\n",
       "    }\n",
       "\n",
       "    .dataframe tbody tr th {\n",
       "        vertical-align: top;\n",
       "    }\n",
       "\n",
       "    .dataframe thead th {\n",
       "        text-align: right;\n",
       "    }\n",
       "</style>\n",
       "<table border=\"1\" class=\"dataframe\">\n",
       "  <thead>\n",
       "    <tr style=\"text-align: right;\">\n",
       "      <th></th>\n",
       "      <th>PercentSalaryHike</th>\n",
       "      <th>PerformanceRating</th>\n",
       "      <th>RelationshipSatisfaction</th>\n",
       "      <th>StockOptionLevel</th>\n",
       "      <th>TotalWorkingYears</th>\n",
       "      <th>TrainingTimesLastYear</th>\n",
       "      <th>WorkLifeBalance</th>\n",
       "      <th>YearsAtCompany</th>\n",
       "      <th>YearsInCurrentRole</th>\n",
       "      <th>YearsSinceLastPromotion</th>\n",
       "      <th>YearsWithCurrManager</th>\n",
       "      <th>YearlyIncome</th>\n",
       "      <th>OverTime_Yes</th>\n",
       "    </tr>\n",
       "  </thead>\n",
       "  <tbody>\n",
       "    <tr>\n",
       "      <th>0</th>\n",
       "      <td>15.0</td>\n",
       "      <td>3.0</td>\n",
       "      <td>3.0</td>\n",
       "      <td>0.0</td>\n",
       "      <td>6.0</td>\n",
       "      <td>2.0</td>\n",
       "      <td>3.0</td>\n",
       "      <td>5.0</td>\n",
       "      <td>4.0</td>\n",
       "      <td>4.0</td>\n",
       "      <td>3.0</td>\n",
       "      <td>50760.0</td>\n",
       "      <td>0</td>\n",
       "    </tr>\n",
       "    <tr>\n",
       "      <th>2</th>\n",
       "      <td>18.0</td>\n",
       "      <td>3.0</td>\n",
       "      <td>3.0</td>\n",
       "      <td>0.0</td>\n",
       "      <td>8.0</td>\n",
       "      <td>5.0</td>\n",
       "      <td>3.0</td>\n",
       "      <td>8.0</td>\n",
       "      <td>7.0</td>\n",
       "      <td>7.0</td>\n",
       "      <td>7.0</td>\n",
       "      <td>112260.0</td>\n",
       "      <td>0</td>\n",
       "    </tr>\n",
       "    <tr>\n",
       "      <th>3</th>\n",
       "      <td>12.0</td>\n",
       "      <td>3.0</td>\n",
       "      <td>3.0</td>\n",
       "      <td>1.0</td>\n",
       "      <td>14.0</td>\n",
       "      <td>3.0</td>\n",
       "      <td>3.0</td>\n",
       "      <td>14.0</td>\n",
       "      <td>13.0</td>\n",
       "      <td>6.0</td>\n",
       "      <td>8.0</td>\n",
       "      <td>73944.0</td>\n",
       "      <td>0</td>\n",
       "    </tr>\n",
       "    <tr>\n",
       "      <th>4</th>\n",
       "      <td>13.0</td>\n",
       "      <td>3.0</td>\n",
       "      <td>3.0</td>\n",
       "      <td>1.0</td>\n",
       "      <td>10.0</td>\n",
       "      <td>3.0</td>\n",
       "      <td>3.0</td>\n",
       "      <td>4.0</td>\n",
       "      <td>0.0</td>\n",
       "      <td>5308.0</td>\n",
       "      <td>3.0</td>\n",
       "      <td>118608.0</td>\n",
       "      <td>1</td>\n",
       "    </tr>\n",
       "    <tr>\n",
       "      <th>6</th>\n",
       "      <td>11.0</td>\n",
       "      <td>3.0</td>\n",
       "      <td>3.0</td>\n",
       "      <td>0.0</td>\n",
       "      <td>14.0</td>\n",
       "      <td>2.0</td>\n",
       "      <td>2.0</td>\n",
       "      <td>14.0</td>\n",
       "      <td>8.0</td>\n",
       "      <td>9.0</td>\n",
       "      <td>5168.0</td>\n",
       "      <td>124800.0</td>\n",
       "      <td>0</td>\n",
       "    </tr>\n",
       "    <tr>\n",
       "      <th>...</th>\n",
       "      <td>...</td>\n",
       "      <td>...</td>\n",
       "      <td>...</td>\n",
       "      <td>...</td>\n",
       "      <td>...</td>\n",
       "      <td>...</td>\n",
       "      <td>...</td>\n",
       "      <td>...</td>\n",
       "      <td>...</td>\n",
       "      <td>...</td>\n",
       "      <td>...</td>\n",
       "      <td>...</td>\n",
       "      <td>...</td>\n",
       "    </tr>\n",
       "    <tr>\n",
       "      <th>3553</th>\n",
       "      <td>18.0</td>\n",
       "      <td>3.0</td>\n",
       "      <td>4.0</td>\n",
       "      <td>1.0</td>\n",
       "      <td>10.0</td>\n",
       "      <td>5.0</td>\n",
       "      <td>3.0</td>\n",
       "      <td>10.0</td>\n",
       "      <td>7.0</td>\n",
       "      <td>2.0</td>\n",
       "      <td>8.0</td>\n",
       "      <td>32640.0</td>\n",
       "      <td>0</td>\n",
       "    </tr>\n",
       "    <tr>\n",
       "      <th>3554</th>\n",
       "      <td>19.0</td>\n",
       "      <td>3.0</td>\n",
       "      <td>2.0</td>\n",
       "      <td>2.0</td>\n",
       "      <td>10.0</td>\n",
       "      <td>2.0</td>\n",
       "      <td>3.0</td>\n",
       "      <td>0.0</td>\n",
       "      <td>0.0</td>\n",
       "      <td>0.0</td>\n",
       "      <td>0.0</td>\n",
       "      <td>79728.0</td>\n",
       "      <td>0</td>\n",
       "    </tr>\n",
       "    <tr>\n",
       "      <th>3556</th>\n",
       "      <td>14.0</td>\n",
       "      <td>3.0</td>\n",
       "      <td>3.0</td>\n",
       "      <td>2.0</td>\n",
       "      <td>10.0</td>\n",
       "      <td>3.0</td>\n",
       "      <td>3.0</td>\n",
       "      <td>10.0</td>\n",
       "      <td>7.0</td>\n",
       "      <td>0.0</td>\n",
       "      <td>4.0</td>\n",
       "      <td>103440.0</td>\n",
       "      <td>0</td>\n",
       "    </tr>\n",
       "    <tr>\n",
       "      <th>3557</th>\n",
       "      <td>17.0</td>\n",
       "      <td>3.0</td>\n",
       "      <td>4.0</td>\n",
       "      <td>1.0</td>\n",
       "      <td>5.0</td>\n",
       "      <td>4.0</td>\n",
       "      <td>4.0</td>\n",
       "      <td>5.0</td>\n",
       "      <td>3.0</td>\n",
       "      <td>6305.0</td>\n",
       "      <td>0.0</td>\n",
       "      <td>45780.0</td>\n",
       "      <td>1</td>\n",
       "    </tr>\n",
       "    <tr>\n",
       "      <th>3558</th>\n",
       "      <td>13.0</td>\n",
       "      <td>3.0</td>\n",
       "      <td>1.0</td>\n",
       "      <td>1.0</td>\n",
       "      <td>10.0</td>\n",
       "      <td>4.0</td>\n",
       "      <td>3.0</td>\n",
       "      <td>10.0</td>\n",
       "      <td>9.0</td>\n",
       "      <td>1.0</td>\n",
       "      <td>7.0</td>\n",
       "      <td>68076.0</td>\n",
       "      <td>1</td>\n",
       "    </tr>\n",
       "  </tbody>\n",
       "</table>\n",
       "<p>2898 rows × 13 columns</p>\n",
       "</div>"
      ],
      "text/plain": [
       "      PercentSalaryHike  PerformanceRating  RelationshipSatisfaction  \\\n",
       "0                  15.0                3.0                       3.0   \n",
       "2                  18.0                3.0                       3.0   \n",
       "3                  12.0                3.0                       3.0   \n",
       "4                  13.0                3.0                       3.0   \n",
       "6                  11.0                3.0                       3.0   \n",
       "...                 ...                ...                       ...   \n",
       "3553               18.0                3.0                       4.0   \n",
       "3554               19.0                3.0                       2.0   \n",
       "3556               14.0                3.0                       3.0   \n",
       "3557               17.0                3.0                       4.0   \n",
       "3558               13.0                3.0                       1.0   \n",
       "\n",
       "      StockOptionLevel  TotalWorkingYears  TrainingTimesLastYear  \\\n",
       "0                  0.0                6.0                    2.0   \n",
       "2                  0.0                8.0                    5.0   \n",
       "3                  1.0               14.0                    3.0   \n",
       "4                  1.0               10.0                    3.0   \n",
       "6                  0.0               14.0                    2.0   \n",
       "...                ...                ...                    ...   \n",
       "3553               1.0               10.0                    5.0   \n",
       "3554               2.0               10.0                    2.0   \n",
       "3556               2.0               10.0                    3.0   \n",
       "3557               1.0                5.0                    4.0   \n",
       "3558               1.0               10.0                    4.0   \n",
       "\n",
       "      WorkLifeBalance  YearsAtCompany  YearsInCurrentRole  \\\n",
       "0                 3.0             5.0                 4.0   \n",
       "2                 3.0             8.0                 7.0   \n",
       "3                 3.0            14.0                13.0   \n",
       "4                 3.0             4.0                 0.0   \n",
       "6                 2.0            14.0                 8.0   \n",
       "...               ...             ...                 ...   \n",
       "3553              3.0            10.0                 7.0   \n",
       "3554              3.0             0.0                 0.0   \n",
       "3556              3.0            10.0                 7.0   \n",
       "3557              4.0             5.0                 3.0   \n",
       "3558              3.0            10.0                 9.0   \n",
       "\n",
       "      YearsSinceLastPromotion  YearsWithCurrManager  YearlyIncome  \\\n",
       "0                         4.0                   3.0       50760.0   \n",
       "2                         7.0                   7.0      112260.0   \n",
       "3                         6.0                   8.0       73944.0   \n",
       "4                      5308.0                   3.0      118608.0   \n",
       "6                         9.0                5168.0      124800.0   \n",
       "...                       ...                   ...           ...   \n",
       "3553                      2.0                   8.0       32640.0   \n",
       "3554                      0.0                   0.0       79728.0   \n",
       "3556                      0.0                   4.0      103440.0   \n",
       "3557                   6305.0                   0.0       45780.0   \n",
       "3558                      1.0                   7.0       68076.0   \n",
       "\n",
       "      OverTime_Yes  \n",
       "0                0  \n",
       "2                0  \n",
       "3                0  \n",
       "4                1  \n",
       "6                0  \n",
       "...            ...  \n",
       "3553             0  \n",
       "3554             0  \n",
       "3556             0  \n",
       "3557             1  \n",
       "3558             1  \n",
       "\n",
       "[2898 rows x 13 columns]"
      ]
     },
     "execution_count": 833,
     "metadata": {},
     "output_type": "execute_result"
    }
   ],
   "source": [
    "# select all rows that are not outliers\n",
    "# X_train, y_train = X_train.loc[np.where(yhat != -1 )], y_train.loc[np.where(yhat != -1 )]\n",
    "X_train = X_train.loc[np.where(yhat != -1 )]\n",
    "X_train \n",
    "# X_train.reset_index(inplace=True, drop=True)\n",
    "# X_test.reset_index(inplace=True, drop=True)\n",
    "# y_train.reset_index(inplace=True, drop=True)\n",
    "# y_test.reset_index(inplace=True, drop=True)\n",
    "# y_train\n",
    "# summarize the shape of the updated training dataset\n",
    "# print(X_train.shape, y_train.shape)\n",
    "\n",
    "# np.isnan(X_train).sum()\n",
    "\n",
    "# # fit the model\n",
    "# model = LinearRegression()\n",
    "# model.fit(X_train, y_train)\n",
    "# # evaluate the model\n",
    "# yhat = model.predict(X_test)\n",
    "# # evaluate predictions\n",
    "# mae = mean_absolute_error(y_test, yhat)\n",
    "# print('MAE: %.3f' % mae)"
   ]
  },
  {
   "cell_type": "markdown",
   "metadata": {},
   "source": [
    "# Metrics function"
   ]
  },
  {
   "cell_type": "code",
   "execution_count": null,
   "metadata": {
    "id": "uOyqUkfSpNHz"
   },
   "outputs": [],
   "source": [
    "# average:\n",
    "#   None - wyniki dla każdej klasy osobno\n",
    "#   'binary' - dla wybranej w `pos_label` etykiety\n",
    "#   'micro' - dla całkowitej liczby TP, FN, FP\n",
    "#   'macro' - nieważona średnia dla każdej klasy\n",
    "#   'weighted' - ważona średnia dla każdej klasy\n",
    "\n",
    "def calculate_metrics(target, prediction, average='weighted'):\n",
    "    accuracy = accuracy_score(target, prediction)\n",
    "    precision = precision_score(target, prediction, average=average)\n",
    "    recall = recall_score(target, prediction, average=average)\n",
    "    f1 = f1_score(target, prediction, average=average)\n",
    "    mislabeled = (target != prediction).sum()\n",
    "    total = len(target)\n",
    "    return accuracy, precision, recall, f1, mislabeled, total\n",
    "\n",
    "def print_results(metrics, classifier_id='classifier'):\n",
    "    print(f'Results for {classifier_id}')\n",
    "    print('----')\n",
    "    print(f'  Accuracy:  {metrics[0]}')\n",
    "    print(f'  Precision: {metrics[1]}')\n",
    "    print(f'  Recall:    {metrics[2]}')\n",
    "    print(f'  F1 score:  {metrics[3]}')\n",
    "    print(f'  Mislabeled {metrics[4]} out of {metrics[5]}')\n",
    "    print('\\n')"
   ]
  },
  {
   "cell_type": "markdown",
   "metadata": {},
   "source": [
    "# LogisticRegression"
   ]
  },
  {
   "cell_type": "code",
   "execution_count": null,
   "metadata": {},
   "outputs": [],
   "source": [
    "lr_clf = LogisticRegression(random_state=42)\n",
    "lr_clf.fit(X_train, y_train)"
   ]
  },
  {
   "cell_type": "code",
   "execution_count": null,
   "metadata": {
    "scrolled": true
   },
   "outputs": [],
   "source": [
    "lr_y_pred_train = lr_clf.predict(X_train)\n",
    "lr_y_pred = lr_clf.predict(X_test)\n",
    "# print(y_pred)\n",
    "# print(y_test.values)"
   ]
  },
  {
   "cell_type": "markdown",
   "metadata": {},
   "source": [
    "### LogisticRegression - metrics"
   ]
  },
  {
   "cell_type": "code",
   "execution_count": null,
   "metadata": {
    "scrolled": true
   },
   "outputs": [],
   "source": [
    "print_results(calculate_metrics(y_train, lr_y_pred_train), 'LogisticRegression')\n",
    "print_results(calculate_metrics(y_test, lr_y_pred), 'LogisticRegression')"
   ]
  },
  {
   "cell_type": "markdown",
   "metadata": {},
   "source": [
    "### LogisticRegression - confusion matrix"
   ]
  },
  {
   "cell_type": "code",
   "execution_count": null,
   "metadata": {},
   "outputs": [],
   "source": [
    "# from sklearn.metrics import confusion_matrix\n",
    "# import seaborn as sns\n",
    "# %matplotlib inline\n",
    "\n",
    "lr_cm_train = confusion_matrix(y_train, lr_y_pred_train)\n",
    "sns.heatmap(lr_cm_train, annot=True, fmt='d')\n",
    "plt.show()"
   ]
  },
  {
   "cell_type": "code",
   "execution_count": null,
   "metadata": {},
   "outputs": [],
   "source": [
    "lr_cm_train"
   ]
  },
  {
   "cell_type": "code",
   "execution_count": null,
   "metadata": {},
   "outputs": [],
   "source": [
    "lr_cm = confusion_matrix(y_test, y_pred)\n",
    "sns.heatmap(lr_cm, annot=True, fmt='d')"
   ]
  },
  {
   "cell_type": "code",
   "execution_count": null,
   "metadata": {},
   "outputs": [],
   "source": [
    "lr_cm"
   ]
  },
  {
   "cell_type": "code",
   "execution_count": null,
   "metadata": {
    "scrolled": false
   },
   "outputs": [],
   "source": [
    "metrics.plot_roc_curve(lr_clf, X_train, y_train)\n",
    "plt.show()"
   ]
  },
  {
   "cell_type": "code",
   "execution_count": null,
   "metadata": {},
   "outputs": [],
   "source": [
    "RocCurveDisplay.from_estimator(lr_clf, X_test, y_test)\n",
    "plt.show()\n",
    "\n",
    "# or\n",
    "\n",
    "# metrics.plot_roc_curve(lr_clf, X_test, y_test)\n",
    "# plt.show()"
   ]
  },
  {
   "cell_type": "code",
   "execution_count": null,
   "metadata": {},
   "outputs": [],
   "source": [
    "RocCurveDisplay.from_predictions(y_test, lr_y_pred)\n",
    "plt.show()"
   ]
  },
  {
   "cell_type": "markdown",
   "metadata": {},
   "source": [
    "WNIOSKI:\n",
    "- Porownujac metryki wynika ze model jest stabilny - metryki zblizone- \n",
    "- Metryki na dość niskim poziomie\n",
    "- Do poprawy metryk: \n",
    "    - uzupelnienie brakującyh wartości tragetu,  \n",
    "    - zastosować skalowanie (w tym przypadku standardscaler)"
   ]
  },
  {
   "cell_type": "markdown",
   "metadata": {},
   "source": [
    "# RandomForrest"
   ]
  },
  {
   "cell_type": "code",
   "execution_count": null,
   "metadata": {},
   "outputs": [],
   "source": [
    "rf_clf = RandomForestClassifier()\n",
    "\n",
    "rf_clf.fit(X_train, y_train)\n",
    "\n",
    "rf_y_pred_train = rf_clf.predict(X_train)\n",
    "rf_y_pred = rf_clf.predict(X_test)"
   ]
  },
  {
   "cell_type": "markdown",
   "metadata": {},
   "source": [
    "### RandomForrest - metrics"
   ]
  },
  {
   "cell_type": "code",
   "execution_count": null,
   "metadata": {},
   "outputs": [],
   "source": [
    "print_results(calculate_metrics(y_train, rf_y_pred_train), 'RandomForestClassifier')\n",
    "print_results(calculate_metrics(y_test, rf_y_pred), 'RandomForestClassifier')"
   ]
  },
  {
   "cell_type": "markdown",
   "metadata": {},
   "source": [
    "### RandomForrest - confusion matrix"
   ]
  },
  {
   "cell_type": "code",
   "execution_count": null,
   "metadata": {},
   "outputs": [],
   "source": [
    "rf_cm_train = confusion_matrix(y_train, rf_y_pred_train)\n",
    "sns.heatmap(rf_cm_train, annot=True, fmt='d')\n",
    "plt.show()"
   ]
  },
  {
   "cell_type": "code",
   "execution_count": null,
   "metadata": {},
   "outputs": [],
   "source": [
    "rf_cm_train"
   ]
  },
  {
   "cell_type": "code",
   "execution_count": null,
   "metadata": {},
   "outputs": [],
   "source": [
    "rf_cm = confusion_matrix(y_test, rf_y_pred)\n",
    "sns.heatmap(rf_cm, annot=True, fmt='d')"
   ]
  },
  {
   "cell_type": "code",
   "execution_count": null,
   "metadata": {},
   "outputs": [],
   "source": [
    "rf_cm"
   ]
  },
  {
   "cell_type": "code",
   "execution_count": null,
   "metadata": {},
   "outputs": [],
   "source": [
    "RocCurveDisplay.from_estimator(rf_clf, X_test, y_test)\n",
    "plt.show()"
   ]
  },
  {
   "cell_type": "code",
   "execution_count": null,
   "metadata": {},
   "outputs": [],
   "source": [
    "RocCurveDisplay.from_predictions(y_test, rf_y_pred)\n",
    "plt.show()"
   ]
  },
  {
   "cell_type": "markdown",
   "metadata": {},
   "source": [
    "# KNeighbors"
   ]
  },
  {
   "cell_type": "code",
   "execution_count": null,
   "metadata": {
    "id": "HCjTfVDQplGq"
   },
   "outputs": [],
   "source": [
    "# Create and fit the model\n",
    "knn_clf = KNeighborsClassifier(n_neighbors=5) # metric='minkowski' (default) or 'chebyshev'\n",
    "knn_clf.fit(X_train, y_train)\n",
    "\n",
    "# Predict on the train and test features, print the results\n",
    "knn_y_pred_train = knn_clf.predict(X_train)\n",
    "knn_y_pred = knn_clf.predict(X_test)"
   ]
  },
  {
   "cell_type": "markdown",
   "metadata": {},
   "source": [
    "To Do: \n",
    "wpływ kroswalidacaji, normalizacji, ilości sąsiadów, metody mierzenia odległości (Euklidesa, Manhattan, Czebyszewa, Mińkowskiego), sposobu głosowania (większościowe, ważone, ważone do kwadratu."
   ]
  },
  {
   "cell_type": "markdown",
   "metadata": {},
   "source": [
    "### KNeighbors - metrics"
   ]
  },
  {
   "cell_type": "code",
   "execution_count": null,
   "metadata": {
    "colab": {
     "base_uri": "https://localhost:8080/"
    },
    "executionInfo": {
     "elapsed": 306,
     "status": "ok",
     "timestamp": 1657218081299,
     "user": {
      "displayName": "Michał Robak",
      "userId": "05065528628029117432"
     },
     "user_tz": -120
    },
    "id": "g-3gfRvy4ZEJ",
    "outputId": "c3f2de30-bf67-4298-e95d-a7721ae7f335"
   },
   "outputs": [],
   "source": [
    "print_results(calculate_metrics(y_train, knn_y_pred_train), 'kNeighbors TRAIN')\n",
    "print_results(calculate_metrics(y_test, knn_y_pred), 'kNeighbors TEST')"
   ]
  },
  {
   "cell_type": "markdown",
   "metadata": {},
   "source": [
    "### KNeighbors - confusion matrix"
   ]
  },
  {
   "cell_type": "code",
   "execution_count": null,
   "metadata": {},
   "outputs": [],
   "source": [
    "knn_cm_train = confusion_matrix(y_train, knn_y_pred_train)\n",
    "sns.heatmap(kn_cm_train, annot=True, fmt='d')\n",
    "plt.show()"
   ]
  },
  {
   "cell_type": "code",
   "execution_count": null,
   "metadata": {
    "scrolled": true
   },
   "outputs": [],
   "source": [
    "knn_cm_train"
   ]
  },
  {
   "cell_type": "code",
   "execution_count": null,
   "metadata": {},
   "outputs": [],
   "source": [
    "knn_cm = confusion_matrix(y_test, knn_y_pred)\n",
    "sns.heatmap(kn_cm, annot=True, fmt='d')"
   ]
  },
  {
   "cell_type": "code",
   "execution_count": null,
   "metadata": {},
   "outputs": [],
   "source": [
    "knn_cm"
   ]
  },
  {
   "cell_type": "code",
   "execution_count": null,
   "metadata": {
    "scrolled": true
   },
   "outputs": [],
   "source": [
    "RocCurveDisplay.from_estimator(knn_clf, X_test, y_test)\n",
    "plt.show()"
   ]
  },
  {
   "cell_type": "code",
   "execution_count": null,
   "metadata": {},
   "outputs": [],
   "source": [
    "RocCurveDisplay.from_predictions(y_test, knn_y_pred)\n",
    "plt.show()"
   ]
  },
  {
   "cell_type": "markdown",
   "metadata": {},
   "source": [
    "### GridSearchCV"
   ]
  },
  {
   "cell_type": "code",
   "execution_count": null,
   "metadata": {},
   "outputs": [],
   "source": [
    "# Instantiate the GridSearchCV object and run the search\n",
    "parameters = {\n",
    "    'n_neighbors':[1, 3, 5, 7, 20, 50, 100], \n",
    "    'weights':['uniform', 'distance'],\n",
    "    'p':[1, 2, 3]\n",
    "}\n",
    "searcher = GridSearchCV(knn_clf, parameters)\n",
    "searcher.fit(X_train, y_train)\n",
    "\n",
    "\n",
    "# Report the best parameters and the corresponding score\n",
    "print(\"Best CV params\", searcher.best_params_)\n",
    "print(\"Best CV accuracy\", searcher.best_score_)\n",
    "\n",
    "# Report the test accuracy using these best parameters\n",
    "print(\"Test accuracy of best grid search hypers:\", searcher.score(X_test, y_test))"
   ]
  },
  {
   "cell_type": "markdown",
   "metadata": {},
   "source": [
    "# SVC"
   ]
  },
  {
   "cell_type": "code",
   "execution_count": null,
   "metadata": {
    "id": "ROCh2ebtpUaX"
   },
   "outputs": [],
   "source": [
    "# Train a linear SVM\n",
    "svm_clf = SVC(C = 1.0, kernel=\"poly\")\n",
    "svm_clf.fit(X_train, y_train)\n",
    "\n",
    "svm_y_pred_train = svm_clf.predict(X_train)\n",
    "svm_y_pred = svm_clf.predict(X_test)"
   ]
  },
  {
   "cell_type": "markdown",
   "metadata": {},
   "source": [
    "### SVC - metrics\n"
   ]
  },
  {
   "cell_type": "code",
   "execution_count": null,
   "metadata": {
    "id": "3PWHmaZDpW4F"
   },
   "outputs": [],
   "source": [
    "parameters = {'C':[0.01, 0.1, 1, 10, 100]}\n",
    "searcher = GridSearchCV(svm_clf, parameters)\n",
    "searcher.fit(X_train, y_train)\n",
    "\n",
    "print_results(calculate_metrics(y_train, y_pred_train), 'svm TRAIN')\n",
    "print_results(calculate_metrics(y_test, y_pred), 'svm TEST')"
   ]
  },
  {
   "cell_type": "markdown",
   "metadata": {},
   "source": [
    "### SVC confusion matrix"
   ]
  },
  {
   "cell_type": "code",
   "execution_count": null,
   "metadata": {
    "scrolled": true
   },
   "outputs": [],
   "source": [
    "svc_cm_train = confusion_matrix(y_train, svm_y_pred_train)\n",
    "sns.heatmap(svc_cm_train, annot=True, fmt='d')\n",
    "plt.show()"
   ]
  },
  {
   "cell_type": "code",
   "execution_count": null,
   "metadata": {},
   "outputs": [],
   "source": [
    "svc_cm_train"
   ]
  },
  {
   "cell_type": "code",
   "execution_count": null,
   "metadata": {},
   "outputs": [],
   "source": [
    "svc_cm = confusion_matrix(y_test, svm_y_pred)\n",
    "sns.heatmap(svc_cm, annot=True, fmt='d')"
   ]
  },
  {
   "cell_type": "code",
   "execution_count": null,
   "metadata": {},
   "outputs": [],
   "source": [
    "svc_cm"
   ]
  },
  {
   "cell_type": "code",
   "execution_count": null,
   "metadata": {},
   "outputs": [],
   "source": [
    "RocCurveDisplay.from_estimator(svm_clf, X_test, y_test)\n",
    "plt.show()"
   ]
  },
  {
   "cell_type": "code",
   "execution_count": null,
   "metadata": {},
   "outputs": [],
   "source": [
    "RocCurveDisplay.from_predictions(y_test, svm_y_pred)\n",
    "plt.show()"
   ]
  },
  {
   "cell_type": "markdown",
   "metadata": {},
   "source": [
    "### SVC GridSearchCV"
   ]
  },
  {
   "cell_type": "code",
   "execution_count": null,
   "metadata": {
    "id": "PK5ve8qDq_yE"
   },
   "outputs": [],
   "source": [
    "# Instantiate the GridSearchCV object and run the search\n",
    "parameters = {'C':[0.01, 0.1, 1, 10, 100], 'gamma':[0.01, 0.1, 1, 10, 100]}\n",
    "searcher = GridSearchCV(svm_clf, parameters)\n",
    "searcher.fit(X_train, y_train)\n",
    "\n",
    "# Report the best parameters and the corresponding score\n",
    "print(\"Best CV params\", searcher.best_params_)\n",
    "print(\"Best CV accuracy\", searcher.best_score_)\n",
    "\n",
    "# Report the test accuracy using these best parameters\n",
    "print(\"Test accuracy of best grid search hypers:\", searcher.score(X_test, y_test))"
   ]
  },
  {
   "cell_type": "markdown",
   "metadata": {},
   "source": [
    "# Naive Bayes - czy zasadne użyciu tutaj?"
   ]
  },
  {
   "cell_type": "code",
   "execution_count": null,
   "metadata": {},
   "outputs": [],
   "source": [
    "mnb_clf = MultinomialNB()\n",
    "mnb_clf.fit(X_train, y_train)\n",
    "\n",
    "mnb_y_pred_train = mnb_clf.predict(X_train)\n",
    "mnb_y_pred = mnb_clf.predict(X_test)\n",
    "# print(y_test.values)\n",
    "# print(y_mnb)\n",
    "# print(confusion_matrix(y_test,y_mnb))"
   ]
  },
  {
   "cell_type": "code",
   "execution_count": null,
   "metadata": {},
   "outputs": [],
   "source": [
    "gnb_clf = GaussianNB()  # inny klasyfikator\n",
    "gnb_clf.fit(X_train, y_train)\n",
    "\n",
    "gnb_y_pred_train = gnb_clf.predict(X_train)\n",
    "gnb_y_pred = gnb_clf.predict(X_test)\n",
    "# print(y_test.values)\n",
    "# print(y_gnb)\n",
    "# print(confusion_matrix(y_test,y_gnb))"
   ]
  },
  {
   "cell_type": "code",
   "execution_count": null,
   "metadata": {},
   "outputs": [],
   "source": [
    "print_results(calculate_metrics(y_test.values, mnb_y_pred), 'MNB TEST')\n",
    "print_results(calculate_metrics(y_test.values, gnb_y_pred), 'GNB TEST')"
   ]
  },
  {
   "cell_type": "markdown",
   "metadata": {},
   "source": [
    "### Naive Bayes - confusion matrix ?"
   ]
  },
  {
   "cell_type": "code",
   "execution_count": null,
   "metadata": {
    "scrolled": true
   },
   "outputs": [],
   "source": [
    "gnb_cm_train = confusion_matrix(y_train, gnb_y_pred_train)\n",
    "sns.heatmap(gnb_cm_train, annot=True, fmt='d')\n",
    "plt.show()"
   ]
  },
  {
   "cell_type": "markdown",
   "metadata": {},
   "source": [
    "# AdaBoost"
   ]
  },
  {
   "cell_type": "code",
   "execution_count": null,
   "metadata": {},
   "outputs": [],
   "source": [
    "ada_clf = AdaBoostClassifier(random_state=42)\n",
    "ada_clf.fit(X_train, y_train)\n",
    "\n",
    "\n",
    "ada_y_pred_train = ada_clf.predict(X_train)\n",
    "ada_y_pred = ada_clf.predict(X_test)"
   ]
  },
  {
   "cell_type": "markdown",
   "metadata": {},
   "source": [
    "### AdaBoost - metrics"
   ]
  },
  {
   "cell_type": "code",
   "execution_count": null,
   "metadata": {
    "scrolled": true
   },
   "outputs": [],
   "source": [
    "print_results(calculate_metrics(y_train, ada_y_pred_train), 'AdaBoost TRAIN')\n",
    "print_results(calculate_metrics(y_test, ada_y_pred), 'AdaBoost TEST')"
   ]
  },
  {
   "cell_type": "markdown",
   "metadata": {},
   "source": [
    "### AdaBoost - confusion matrix"
   ]
  },
  {
   "cell_type": "code",
   "execution_count": null,
   "metadata": {
    "scrolled": true
   },
   "outputs": [],
   "source": [
    "ada_cm_train = confusion_matrix(y_train, ada_y_pred_train)\n",
    "sns.heatmap(ada_cm_train, annot=True, fmt='d')\n",
    "plt.show()"
   ]
  },
  {
   "cell_type": "code",
   "execution_count": null,
   "metadata": {},
   "outputs": [],
   "source": [
    "ada_cm_test = confusion_matrix(y_test, ada_y_pred)\n",
    "sns.heatmap(ada_cm_test, annot=True, fmt='d')\n",
    "plt.show()"
   ]
  },
  {
   "cell_type": "code",
   "execution_count": null,
   "metadata": {
    "scrolled": false
   },
   "outputs": [],
   "source": [
    "RocCurveDisplay.from_estimator(ada_clf, X_test, y_test)\n",
    "plt.show()"
   ]
  },
  {
   "cell_type": "code",
   "execution_count": null,
   "metadata": {},
   "outputs": [],
   "source": [
    "RocCurveDisplay.from_predictions(y_test, ada_y_pred)\n",
    "plt.show()"
   ]
  },
  {
   "cell_type": "markdown",
   "metadata": {},
   "source": [
    "# Normalizacja / standaryzacja"
   ]
  },
  {
   "cell_type": "code",
   "execution_count": null,
   "metadata": {},
   "outputs": [],
   "source": [
    "from sklearn.preprocessing import Normalizer, StandardScaler\n",
    "\n",
    "normalizer = Normalizer()\n",
    "standardizer = StandardScaler()"
   ]
  },
  {
   "cell_type": "code",
   "execution_count": null,
   "metadata": {},
   "outputs": [],
   "source": [
    "preprocesser = normalizer"
   ]
  },
  {
   "cell_type": "code",
   "execution_count": null,
   "metadata": {},
   "outputs": [],
   "source": [
    "if preprocesser is not None:\n",
    "    preprocesser.fit(X)\n",
    "    X_preprocessed = preprocesser.transform(X.values)\n",
    "    X[:] = X_preprocessed\n",
    "X.head()"
   ]
  },
  {
   "cell_type": "code",
   "execution_count": null,
   "metadata": {},
   "outputs": [],
   "source": [
    "from sklearn.naive_bayes import MultinomialNB\n",
    "from sklearn.metrics import confusion_matrix"
   ]
  },
  {
   "cell_type": "code",
   "execution_count": null,
   "metadata": {},
   "outputs": [],
   "source": [
    "mnb = MultinomialNB()\n",
    "\n",
    "mnb.fit(X_train, y_train)\n",
    "y_mnb = mnb.predict(X_test)\n",
    "# print(y_test.values)\n",
    "# print(y_mnb)\n",
    "# print(confusion_matrix(y_test,y_mnb))"
   ]
  },
  {
   "cell_type": "code",
   "execution_count": null,
   "metadata": {},
   "outputs": [],
   "source": [
    "from sklearn.naive_bayes import GaussianNB"
   ]
  },
  {
   "cell_type": "code",
   "execution_count": null,
   "metadata": {},
   "outputs": [],
   "source": [
    "gnb = GaussianNB()  # inny klasyfikator\n",
    "gnb.fit(X_train, y_train)\n",
    "y_gnb = gnb.predict(X_test)\n",
    "# print(y_test.values)\n",
    "# print(y_gnb)\n",
    "# print(confusion_matrix(y_test,y_gnb))aaa"
   ]
  },
  {
   "cell_type": "code",
   "execution_count": null,
   "metadata": {},
   "outputs": [],
   "source": [
    "from sklearn.metrics import accuracy_score, precision_score, recall_score, f1_score\n",
    "\n",
    "# average:\n",
    "#   None - wyniki dla każdej klasy osobno\n",
    "#   'binary' - dla wybranej w `pos_label` etykiety\n",
    "#   'micro' - dla całkowitej liczby TP, FN, FP\n",
    "#   'macro' - nieważona średnia dla każdej klasy\n",
    "#   'weighted' - ważona średnia dla każdej klasy\n",
    "\n",
    "def calculate_metrics(target, prediction, average='macro'):\n",
    "    accuracy = accuracy_score(target, prediction)\n",
    "    precision = precision_score(target, prediction, average=average)\n",
    "    recall = recall_score(target, prediction, average=average)\n",
    "    f1 = f1_score(target, prediction, average=average)\n",
    "    mislabeled = (target != prediction).sum()\n",
    "    total = len(target)\n",
    "    return accuracy, precision, recall, f1, mislabeled, total\n",
    "\n",
    "def print_results(metrics, classifier_id='classifier'):\n",
    "    print(f'Results for {classifier_id}')\n",
    "    print('----')\n",
    "    print(f'  Accuracy:  {metrics[0]}')\n",
    "    print(f'  Precision: {metrics[1]}')\n",
    "    print(f'  Recall:    {metrics[2]}')\n",
    "    print(f'  F1 score:  {metrics[3]}')\n",
    "    print(f'  Mislabeled {metrics[4]} out of {metrics[5]}')\n",
    "    print('\\n')"
   ]
  },
  {
   "cell_type": "code",
   "execution_count": null,
   "metadata": {},
   "outputs": [],
   "source": [
    "print_results(calculate_metrics(y_test.values, y_gnb), 'GNB')\n",
    "print_results(calculate_metrics(y_test.values, y_mnb), 'MNB')"
   ]
  },
  {
   "cell_type": "markdown",
   "metadata": {},
   "source": [
    "bootstraping, bagging, binning?, "
   ]
  }
 ],
 "metadata": {
  "colab": {
   "authorship_tag": "ABX9TyOwSyLhHA22Rr/wRZq+QvSn",
   "collapsed_sections": [],
   "provenance": [
    {
     "file_id": "1JO34rRSYu-4PRzInxnLjLFQ3MGyFgBuR",
     "timestamp": 1657125725257
    }
   ]
  },
  "kernelspec": {
   "display_name": "Python 3 (ipykernel)",
   "language": "python",
   "name": "python3"
  },
  "language_info": {
   "codemirror_mode": {
    "name": "ipython",
    "version": 3
   },
   "file_extension": ".py",
   "mimetype": "text/x-python",
   "name": "python",
   "nbconvert_exporter": "python",
   "pygments_lexer": "ipython3",
   "version": "3.10.7"
  }
 },
 "nbformat": 4,
 "nbformat_minor": 1
}
